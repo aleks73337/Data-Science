{
 "cells": [
  {
   "cell_type": "code",
   "execution_count": 2,
   "metadata": {},
   "outputs": [],
   "source": [
    "from sklearn import *\n",
    "import pandas as pd\n",
    "import numpy as np\n",
    "import matplotlib.pyplot as plt"
   ]
  },
  {
   "cell_type": "markdown",
   "metadata": {},
   "source": [
    "<h3> Загрузка и препроцессинг данных </h3>"
   ]
  },
  {
   "cell_type": "code",
   "execution_count": 3,
   "metadata": {},
   "outputs": [],
   "source": [
    "train_filename = \"cust_class_train.csv\"\n",
    "test_filename = \"cust_class_test.csv\""
   ]
  },
  {
   "cell_type": "code",
   "execution_count": 4,
   "metadata": {},
   "outputs": [],
   "source": [
    "train_data = pd.read_csv(train_filename)\n",
    "test_data = pd.read_csv(test_filename)"
   ]
  },
  {
   "cell_type": "code",
   "execution_count": 5,
   "metadata": {},
   "outputs": [],
   "source": [
    "train_data = train_data.set_index(\"ID\")\n",
    "test_data = test_data.set_index(\"ID\")"
   ]
  },
  {
   "cell_type": "code",
   "execution_count": 6,
   "metadata": {},
   "outputs": [],
   "source": [
    "train_data.Ever_Married = train_data.Ever_Married.astype('category')\n",
    "train_data.Graduated = train_data.Graduated.astype('category')\n",
    "train_data.Profession = train_data.Profession.astype('category')\n",
    "train_data.Spending_Score = train_data.Spending_Score.astype('category')\n",
    "train_data.Var_1 = train_data.Var_1.astype('category')\n",
    "train_data.Segmentation = train_data.Segmentation.astype('category')"
   ]
  },
  {
   "cell_type": "code",
   "execution_count": 7,
   "metadata": {},
   "outputs": [],
   "source": [
    "drop_rows = train_data[\n",
    "    (train_data.Age < train_data.Age.quantile(0.005)) | \n",
    "    (train_data.Age > train_data.Age.quantile(0.995))].index"
   ]
  },
  {
   "cell_type": "code",
   "execution_count": 8,
   "metadata": {},
   "outputs": [],
   "source": [
    "train_data = train_data.drop(drop_rows)"
   ]
  },
  {
   "cell_type": "code",
   "execution_count": 9,
   "metadata": {},
   "outputs": [],
   "source": [
    "train_data.Work_Experience = train_data.Work_Experience.fillna(0)\n",
    "train_data.Family_Size = train_data.Family_Size.fillna(1)\n",
    "train_data.Ever_Married = train_data.Ever_Married.fillna(train_data.Ever_Married.mode()[0])\n",
    "train_data.Graduated = train_data.Graduated.fillna(train_data.Graduated.mode()[0])\n",
    "train_data.Profession = train_data.Profession.fillna(train_data.Profession.mode()[0])\n",
    "train_data.Var_1 = train_data.Var_1.fillna(train_data.Var_1.mode()[0])"
   ]
  },
  {
   "cell_type": "code",
   "execution_count": 10,
   "metadata": {},
   "outputs": [],
   "source": [
    "train_data.Gender = pd.factorize(train_data.Gender)[0]\n",
    "train_data.Ever_Married = pd.factorize(train_data.Ever_Married)[0]\n",
    "train_data.Graduated = pd.factorize(train_data.Graduated)[0]\n",
    "train_data = pd.concat((train_data, pd.get_dummies(train_data.Profession)), axis=1)\n",
    "train_data = train_data.drop(['Profession'], axis=1)\n",
    "train_data = pd.concat((train_data, pd.get_dummies(train_data.Spending_Score)), axis=1)\n",
    "train_data = train_data.drop(['Spending_Score'], axis=1)\n",
    "train_data = pd.concat((train_data, pd.get_dummies(train_data.Var_1)), axis=1)\n",
    "train_data = train_data.drop(['Var_1'], axis=1)"
   ]
  },
  {
   "cell_type": "code",
   "execution_count": 11,
   "metadata": {},
   "outputs": [],
   "source": [
    "train_data.loc[:, train_data.columns != 'Segmentation'] = (\n",
    "    train_data.loc[:, train_data.columns != 'Segmentation'] - \\\n",
    "    train_data.loc[:, train_data.columns != 'Segmentation'].mean(axis = 0)) / \\\n",
    "    train_data.loc[:, train_data.columns != 'Segmentation'].std(axis = 0)"
   ]
  },
  {
   "cell_type": "code",
   "execution_count": 12,
   "metadata": {},
   "outputs": [
    {
     "data": {
      "text/html": [
       "<div>\n",
       "<style scoped>\n",
       "    .dataframe tbody tr th:only-of-type {\n",
       "        vertical-align: middle;\n",
       "    }\n",
       "\n",
       "    .dataframe tbody tr th {\n",
       "        vertical-align: top;\n",
       "    }\n",
       "\n",
       "    .dataframe thead th {\n",
       "        text-align: right;\n",
       "    }\n",
       "</style>\n",
       "<table border=\"1\" class=\"dataframe\">\n",
       "  <thead>\n",
       "    <tr style=\"text-align: right;\">\n",
       "      <th></th>\n",
       "      <th>Gender</th>\n",
       "      <th>Ever_Married</th>\n",
       "      <th>Age</th>\n",
       "      <th>Graduated</th>\n",
       "      <th>Work_Experience</th>\n",
       "      <th>Family_Size</th>\n",
       "      <th>Segmentation</th>\n",
       "      <th>Artist</th>\n",
       "      <th>Doctor</th>\n",
       "      <th>Engineer</th>\n",
       "      <th>...</th>\n",
       "      <th>Average</th>\n",
       "      <th>High</th>\n",
       "      <th>Low</th>\n",
       "      <th>Cat_1</th>\n",
       "      <th>Cat_2</th>\n",
       "      <th>Cat_3</th>\n",
       "      <th>Cat_4</th>\n",
       "      <th>Cat_5</th>\n",
       "      <th>Cat_6</th>\n",
       "      <th>Cat_7</th>\n",
       "    </tr>\n",
       "    <tr>\n",
       "      <th>ID</th>\n",
       "      <th></th>\n",
       "      <th></th>\n",
       "      <th></th>\n",
       "      <th></th>\n",
       "      <th></th>\n",
       "      <th></th>\n",
       "      <th></th>\n",
       "      <th></th>\n",
       "      <th></th>\n",
       "      <th></th>\n",
       "      <th></th>\n",
       "      <th></th>\n",
       "      <th></th>\n",
       "      <th></th>\n",
       "      <th></th>\n",
       "      <th></th>\n",
       "      <th></th>\n",
       "      <th></th>\n",
       "      <th></th>\n",
       "      <th></th>\n",
       "      <th></th>\n",
       "    </tr>\n",
       "  </thead>\n",
       "  <tbody>\n",
       "    <tr>\n",
       "      <th>462809</th>\n",
       "      <td>-0.907804</td>\n",
       "      <td>-1.202958</td>\n",
       "      <td>-1.291154</td>\n",
       "      <td>-1.29263</td>\n",
       "      <td>-0.413224</td>\n",
       "      <td>0.791077</td>\n",
       "      <td>D</td>\n",
       "      <td>-0.699089</td>\n",
       "      <td>-0.305813</td>\n",
       "      <td>-0.308724</td>\n",
       "      <td>...</td>\n",
       "      <td>-0.570606</td>\n",
       "      <td>-0.417635</td>\n",
       "      <td>0.806571</td>\n",
       "      <td>-0.129752</td>\n",
       "      <td>-0.234881</td>\n",
       "      <td>-0.33763</td>\n",
       "      <td>2.524833</td>\n",
       "      <td>-0.103414</td>\n",
       "      <td>-1.385051</td>\n",
       "      <td>-0.161016</td>\n",
       "    </tr>\n",
       "    <tr>\n",
       "      <th>462643</th>\n",
       "      <td>1.101422</td>\n",
       "      <td>0.831181</td>\n",
       "      <td>-0.319577</td>\n",
       "      <td>0.77352</td>\n",
       "      <td>-0.713697</td>\n",
       "      <td>0.144103</td>\n",
       "      <td>A</td>\n",
       "      <td>-0.699089</td>\n",
       "      <td>-0.305813</td>\n",
       "      <td>3.238734</td>\n",
       "      <td>...</td>\n",
       "      <td>1.752306</td>\n",
       "      <td>-0.417635</td>\n",
       "      <td>-1.239663</td>\n",
       "      <td>-0.129752</td>\n",
       "      <td>-0.234881</td>\n",
       "      <td>-0.33763</td>\n",
       "      <td>2.524833</td>\n",
       "      <td>-0.103414</td>\n",
       "      <td>-1.385051</td>\n",
       "      <td>-0.161016</td>\n",
       "    </tr>\n",
       "    <tr>\n",
       "      <th>466315</th>\n",
       "      <td>1.101422</td>\n",
       "      <td>0.831181</td>\n",
       "      <td>1.441406</td>\n",
       "      <td>0.77352</td>\n",
       "      <td>-0.413224</td>\n",
       "      <td>-1.149844</td>\n",
       "      <td>B</td>\n",
       "      <td>-0.699089</td>\n",
       "      <td>-0.305813</td>\n",
       "      <td>3.238734</td>\n",
       "      <td>...</td>\n",
       "      <td>-0.570606</td>\n",
       "      <td>-0.417635</td>\n",
       "      <td>0.806571</td>\n",
       "      <td>-0.129752</td>\n",
       "      <td>-0.234881</td>\n",
       "      <td>-0.33763</td>\n",
       "      <td>-0.396017</td>\n",
       "      <td>-0.103414</td>\n",
       "      <td>0.721905</td>\n",
       "      <td>-0.161016</td>\n",
       "    </tr>\n",
       "    <tr>\n",
       "      <th>461735</th>\n",
       "      <td>-0.907804</td>\n",
       "      <td>0.831181</td>\n",
       "      <td>1.441406</td>\n",
       "      <td>0.77352</td>\n",
       "      <td>-0.713697</td>\n",
       "      <td>-0.502871</td>\n",
       "      <td>B</td>\n",
       "      <td>-0.699089</td>\n",
       "      <td>-0.305813</td>\n",
       "      <td>-0.308724</td>\n",
       "      <td>...</td>\n",
       "      <td>-0.570606</td>\n",
       "      <td>2.394137</td>\n",
       "      <td>-1.239663</td>\n",
       "      <td>-0.129752</td>\n",
       "      <td>-0.234881</td>\n",
       "      <td>-0.33763</td>\n",
       "      <td>-0.396017</td>\n",
       "      <td>-0.103414</td>\n",
       "      <td>0.721905</td>\n",
       "      <td>-0.161016</td>\n",
       "    </tr>\n",
       "    <tr>\n",
       "      <th>462669</th>\n",
       "      <td>1.101422</td>\n",
       "      <td>0.831181</td>\n",
       "      <td>-0.198130</td>\n",
       "      <td>0.77352</td>\n",
       "      <td>-0.713697</td>\n",
       "      <td>2.085024</td>\n",
       "      <td>A</td>\n",
       "      <td>-0.699089</td>\n",
       "      <td>-0.305813</td>\n",
       "      <td>-0.308724</td>\n",
       "      <td>...</td>\n",
       "      <td>-0.570606</td>\n",
       "      <td>2.394137</td>\n",
       "      <td>-1.239663</td>\n",
       "      <td>-0.129752</td>\n",
       "      <td>-0.234881</td>\n",
       "      <td>-0.33763</td>\n",
       "      <td>-0.396017</td>\n",
       "      <td>-0.103414</td>\n",
       "      <td>0.721905</td>\n",
       "      <td>-0.161016</td>\n",
       "    </tr>\n",
       "    <tr>\n",
       "      <th>461319</th>\n",
       "      <td>-0.907804</td>\n",
       "      <td>0.831181</td>\n",
       "      <td>0.773447</td>\n",
       "      <td>-1.29263</td>\n",
       "      <td>-0.713697</td>\n",
       "      <td>-0.502871</td>\n",
       "      <td>C</td>\n",
       "      <td>1.430255</td>\n",
       "      <td>-0.305813</td>\n",
       "      <td>-0.308724</td>\n",
       "      <td>...</td>\n",
       "      <td>1.752306</td>\n",
       "      <td>-0.417635</td>\n",
       "      <td>-1.239663</td>\n",
       "      <td>-0.129752</td>\n",
       "      <td>-0.234881</td>\n",
       "      <td>-0.33763</td>\n",
       "      <td>-0.396017</td>\n",
       "      <td>-0.103414</td>\n",
       "      <td>0.721905</td>\n",
       "      <td>-0.161016</td>\n",
       "    </tr>\n",
       "    <tr>\n",
       "      <th>460156</th>\n",
       "      <td>-0.907804</td>\n",
       "      <td>-1.202958</td>\n",
       "      <td>-0.683919</td>\n",
       "      <td>0.77352</td>\n",
       "      <td>-0.413224</td>\n",
       "      <td>0.144103</td>\n",
       "      <td>C</td>\n",
       "      <td>-0.699089</td>\n",
       "      <td>-0.305813</td>\n",
       "      <td>-0.308724</td>\n",
       "      <td>...</td>\n",
       "      <td>-0.570606</td>\n",
       "      <td>-0.417635</td>\n",
       "      <td>0.806571</td>\n",
       "      <td>-0.129752</td>\n",
       "      <td>-0.234881</td>\n",
       "      <td>-0.33763</td>\n",
       "      <td>-0.396017</td>\n",
       "      <td>-0.103414</td>\n",
       "      <td>0.721905</td>\n",
       "      <td>-0.161016</td>\n",
       "    </tr>\n",
       "    <tr>\n",
       "      <th>464347</th>\n",
       "      <td>1.101422</td>\n",
       "      <td>-1.202958</td>\n",
       "      <td>-0.623195</td>\n",
       "      <td>0.77352</td>\n",
       "      <td>-0.413224</td>\n",
       "      <td>0.144103</td>\n",
       "      <td>D</td>\n",
       "      <td>-0.699089</td>\n",
       "      <td>-0.305813</td>\n",
       "      <td>-0.308724</td>\n",
       "      <td>...</td>\n",
       "      <td>-0.570606</td>\n",
       "      <td>-0.417635</td>\n",
       "      <td>0.806571</td>\n",
       "      <td>-0.129752</td>\n",
       "      <td>-0.234881</td>\n",
       "      <td>-0.33763</td>\n",
       "      <td>-0.396017</td>\n",
       "      <td>-0.103414</td>\n",
       "      <td>0.721905</td>\n",
       "      <td>-0.161016</td>\n",
       "    </tr>\n",
       "    <tr>\n",
       "      <th>465015</th>\n",
       "      <td>1.101422</td>\n",
       "      <td>0.831181</td>\n",
       "      <td>1.077065</td>\n",
       "      <td>0.77352</td>\n",
       "      <td>-0.713697</td>\n",
       "      <td>0.144103</td>\n",
       "      <td>D</td>\n",
       "      <td>-0.699089</td>\n",
       "      <td>-0.305813</td>\n",
       "      <td>3.238734</td>\n",
       "      <td>...</td>\n",
       "      <td>-0.570606</td>\n",
       "      <td>-0.417635</td>\n",
       "      <td>0.806571</td>\n",
       "      <td>-0.129752</td>\n",
       "      <td>-0.234881</td>\n",
       "      <td>-0.33763</td>\n",
       "      <td>-0.396017</td>\n",
       "      <td>-0.103414</td>\n",
       "      <td>-1.385051</td>\n",
       "      <td>6.209807</td>\n",
       "    </tr>\n",
       "    <tr>\n",
       "      <th>465176</th>\n",
       "      <td>1.101422</td>\n",
       "      <td>0.831181</td>\n",
       "      <td>0.712723</td>\n",
       "      <td>0.77352</td>\n",
       "      <td>-0.413224</td>\n",
       "      <td>0.791077</td>\n",
       "      <td>C</td>\n",
       "      <td>1.430255</td>\n",
       "      <td>-0.305813</td>\n",
       "      <td>-0.308724</td>\n",
       "      <td>...</td>\n",
       "      <td>1.752306</td>\n",
       "      <td>-0.417635</td>\n",
       "      <td>-1.239663</td>\n",
       "      <td>-0.129752</td>\n",
       "      <td>-0.234881</td>\n",
       "      <td>-0.33763</td>\n",
       "      <td>-0.396017</td>\n",
       "      <td>-0.103414</td>\n",
       "      <td>0.721905</td>\n",
       "      <td>-0.161016</td>\n",
       "    </tr>\n",
       "  </tbody>\n",
       "</table>\n",
       "<p>10 rows × 26 columns</p>\n",
       "</div>"
      ],
      "text/plain": [
       "          Gender  Ever_Married       Age  Graduated  Work_Experience  \\\n",
       "ID                                                                     \n",
       "462809 -0.907804     -1.202958 -1.291154   -1.29263        -0.413224   \n",
       "462643  1.101422      0.831181 -0.319577    0.77352        -0.713697   \n",
       "466315  1.101422      0.831181  1.441406    0.77352        -0.413224   \n",
       "461735 -0.907804      0.831181  1.441406    0.77352        -0.713697   \n",
       "462669  1.101422      0.831181 -0.198130    0.77352        -0.713697   \n",
       "461319 -0.907804      0.831181  0.773447   -1.29263        -0.713697   \n",
       "460156 -0.907804     -1.202958 -0.683919    0.77352        -0.413224   \n",
       "464347  1.101422     -1.202958 -0.623195    0.77352        -0.413224   \n",
       "465015  1.101422      0.831181  1.077065    0.77352        -0.713697   \n",
       "465176  1.101422      0.831181  0.712723    0.77352        -0.413224   \n",
       "\n",
       "        Family_Size Segmentation    Artist    Doctor  Engineer  ...   Average  \\\n",
       "ID                                                              ...             \n",
       "462809     0.791077            D -0.699089 -0.305813 -0.308724  ... -0.570606   \n",
       "462643     0.144103            A -0.699089 -0.305813  3.238734  ...  1.752306   \n",
       "466315    -1.149844            B -0.699089 -0.305813  3.238734  ... -0.570606   \n",
       "461735    -0.502871            B -0.699089 -0.305813 -0.308724  ... -0.570606   \n",
       "462669     2.085024            A -0.699089 -0.305813 -0.308724  ... -0.570606   \n",
       "461319    -0.502871            C  1.430255 -0.305813 -0.308724  ...  1.752306   \n",
       "460156     0.144103            C -0.699089 -0.305813 -0.308724  ... -0.570606   \n",
       "464347     0.144103            D -0.699089 -0.305813 -0.308724  ... -0.570606   \n",
       "465015     0.144103            D -0.699089 -0.305813  3.238734  ... -0.570606   \n",
       "465176     0.791077            C  1.430255 -0.305813 -0.308724  ...  1.752306   \n",
       "\n",
       "            High       Low     Cat_1     Cat_2    Cat_3     Cat_4     Cat_5  \\\n",
       "ID                                                                            \n",
       "462809 -0.417635  0.806571 -0.129752 -0.234881 -0.33763  2.524833 -0.103414   \n",
       "462643 -0.417635 -1.239663 -0.129752 -0.234881 -0.33763  2.524833 -0.103414   \n",
       "466315 -0.417635  0.806571 -0.129752 -0.234881 -0.33763 -0.396017 -0.103414   \n",
       "461735  2.394137 -1.239663 -0.129752 -0.234881 -0.33763 -0.396017 -0.103414   \n",
       "462669  2.394137 -1.239663 -0.129752 -0.234881 -0.33763 -0.396017 -0.103414   \n",
       "461319 -0.417635 -1.239663 -0.129752 -0.234881 -0.33763 -0.396017 -0.103414   \n",
       "460156 -0.417635  0.806571 -0.129752 -0.234881 -0.33763 -0.396017 -0.103414   \n",
       "464347 -0.417635  0.806571 -0.129752 -0.234881 -0.33763 -0.396017 -0.103414   \n",
       "465015 -0.417635  0.806571 -0.129752 -0.234881 -0.33763 -0.396017 -0.103414   \n",
       "465176 -0.417635 -1.239663 -0.129752 -0.234881 -0.33763 -0.396017 -0.103414   \n",
       "\n",
       "           Cat_6     Cat_7  \n",
       "ID                          \n",
       "462809 -1.385051 -0.161016  \n",
       "462643 -1.385051 -0.161016  \n",
       "466315  0.721905 -0.161016  \n",
       "461735  0.721905 -0.161016  \n",
       "462669  0.721905 -0.161016  \n",
       "461319  0.721905 -0.161016  \n",
       "460156  0.721905 -0.161016  \n",
       "464347  0.721905 -0.161016  \n",
       "465015 -1.385051  6.209807  \n",
       "465176  0.721905 -0.161016  \n",
       "\n",
       "[10 rows x 26 columns]"
      ]
     },
     "execution_count": 12,
     "metadata": {},
     "output_type": "execute_result"
    }
   ],
   "source": [
    "train_data.head(10)"
   ]
  },
  {
   "cell_type": "code",
   "execution_count": 13,
   "metadata": {},
   "outputs": [],
   "source": [
    "X = train_data.drop(['Segmentation'], axis=1)"
   ]
  },
  {
   "cell_type": "code",
   "execution_count": 14,
   "metadata": {},
   "outputs": [],
   "source": [
    "y = train_data.Segmentation"
   ]
  },
  {
   "cell_type": "code",
   "execution_count": 15,
   "metadata": {},
   "outputs": [],
   "source": [
    "mapping = {'A' : 0, 'B' : 1, 'C' : 2, 'D' : 3}\n",
    "y = y.map(lambda x: mapping[x])"
   ]
  },
  {
   "cell_type": "code",
   "execution_count": 16,
   "metadata": {},
   "outputs": [],
   "source": [
    "X_train, X_test, y_train, y_test = model_selection.train_test_split(X, y, test_size = 0.25, random_state = 42)"
   ]
  },
  {
   "cell_type": "code",
   "execution_count": 42,
   "metadata": {},
   "outputs": [],
   "source": [
    "from sklearn.metrics import accuracy_score"
   ]
  },
  {
   "cell_type": "markdown",
   "metadata": {},
   "source": [
    "<h2> Random Forest </h2>"
   ]
  },
  {
   "cell_type": "code",
   "execution_count": 31,
   "metadata": {},
   "outputs": [],
   "source": [
    "n_trees = list(range(1, 100))"
   ]
  },
  {
   "cell_type": "code",
   "execution_count": 32,
   "metadata": {},
   "outputs": [],
   "source": [
    "rf_result = pd.DataFrame(index=n_trees, columns=[\"Accuracy_train\", \"Accuracy_test\", \"OOB\"])"
   ]
  },
  {
   "cell_type": "code",
   "execution_count": 33,
   "metadata": {},
   "outputs": [
    {
     "name": "stderr",
     "output_type": "stream",
     "text": [
      "c:\\users\\admin\\appdata\\local\\programs\\python\\python36\\lib\\site-packages\\sklearn\\ensemble\\_forest.py:523: UserWarning: Some inputs do not have OOB scores. This probably means too few trees were used to compute any reliable oob estimates.\n",
      "  warn(\"Some inputs do not have OOB scores. \"\n",
      "c:\\users\\admin\\appdata\\local\\programs\\python\\python36\\lib\\site-packages\\sklearn\\ensemble\\_forest.py:528: RuntimeWarning: invalid value encountered in true_divide\n",
      "  predictions[k].sum(axis=1)[:, np.newaxis])\n",
      "c:\\users\\admin\\appdata\\local\\programs\\python\\python36\\lib\\site-packages\\sklearn\\ensemble\\_forest.py:523: UserWarning: Some inputs do not have OOB scores. This probably means too few trees were used to compute any reliable oob estimates.\n",
      "  warn(\"Some inputs do not have OOB scores. \"\n",
      "c:\\users\\admin\\appdata\\local\\programs\\python\\python36\\lib\\site-packages\\sklearn\\ensemble\\_forest.py:528: RuntimeWarning: invalid value encountered in true_divide\n",
      "  predictions[k].sum(axis=1)[:, np.newaxis])\n",
      "c:\\users\\admin\\appdata\\local\\programs\\python\\python36\\lib\\site-packages\\sklearn\\ensemble\\_forest.py:523: UserWarning: Some inputs do not have OOB scores. This probably means too few trees were used to compute any reliable oob estimates.\n",
      "  warn(\"Some inputs do not have OOB scores. \"\n",
      "c:\\users\\admin\\appdata\\local\\programs\\python\\python36\\lib\\site-packages\\sklearn\\ensemble\\_forest.py:528: RuntimeWarning: invalid value encountered in true_divide\n",
      "  predictions[k].sum(axis=1)[:, np.newaxis])\n",
      "c:\\users\\admin\\appdata\\local\\programs\\python\\python36\\lib\\site-packages\\sklearn\\ensemble\\_forest.py:523: UserWarning: Some inputs do not have OOB scores. This probably means too few trees were used to compute any reliable oob estimates.\n",
      "  warn(\"Some inputs do not have OOB scores. \"\n",
      "c:\\users\\admin\\appdata\\local\\programs\\python\\python36\\lib\\site-packages\\sklearn\\ensemble\\_forest.py:528: RuntimeWarning: invalid value encountered in true_divide\n",
      "  predictions[k].sum(axis=1)[:, np.newaxis])\n",
      "c:\\users\\admin\\appdata\\local\\programs\\python\\python36\\lib\\site-packages\\sklearn\\ensemble\\_forest.py:523: UserWarning: Some inputs do not have OOB scores. This probably means too few trees were used to compute any reliable oob estimates.\n",
      "  warn(\"Some inputs do not have OOB scores. \"\n",
      "c:\\users\\admin\\appdata\\local\\programs\\python\\python36\\lib\\site-packages\\sklearn\\ensemble\\_forest.py:528: RuntimeWarning: invalid value encountered in true_divide\n",
      "  predictions[k].sum(axis=1)[:, np.newaxis])\n",
      "c:\\users\\admin\\appdata\\local\\programs\\python\\python36\\lib\\site-packages\\sklearn\\ensemble\\_forest.py:523: UserWarning: Some inputs do not have OOB scores. This probably means too few trees were used to compute any reliable oob estimates.\n",
      "  warn(\"Some inputs do not have OOB scores. \"\n",
      "c:\\users\\admin\\appdata\\local\\programs\\python\\python36\\lib\\site-packages\\sklearn\\ensemble\\_forest.py:528: RuntimeWarning: invalid value encountered in true_divide\n",
      "  predictions[k].sum(axis=1)[:, np.newaxis])\n",
      "c:\\users\\admin\\appdata\\local\\programs\\python\\python36\\lib\\site-packages\\sklearn\\ensemble\\_forest.py:523: UserWarning: Some inputs do not have OOB scores. This probably means too few trees were used to compute any reliable oob estimates.\n",
      "  warn(\"Some inputs do not have OOB scores. \"\n",
      "c:\\users\\admin\\appdata\\local\\programs\\python\\python36\\lib\\site-packages\\sklearn\\ensemble\\_forest.py:528: RuntimeWarning: invalid value encountered in true_divide\n",
      "  predictions[k].sum(axis=1)[:, np.newaxis])\n",
      "c:\\users\\admin\\appdata\\local\\programs\\python\\python36\\lib\\site-packages\\sklearn\\ensemble\\_forest.py:523: UserWarning: Some inputs do not have OOB scores. This probably means too few trees were used to compute any reliable oob estimates.\n",
      "  warn(\"Some inputs do not have OOB scores. \"\n",
      "c:\\users\\admin\\appdata\\local\\programs\\python\\python36\\lib\\site-packages\\sklearn\\ensemble\\_forest.py:528: RuntimeWarning: invalid value encountered in true_divide\n",
      "  predictions[k].sum(axis=1)[:, np.newaxis])\n",
      "c:\\users\\admin\\appdata\\local\\programs\\python\\python36\\lib\\site-packages\\sklearn\\ensemble\\_forest.py:523: UserWarning: Some inputs do not have OOB scores. This probably means too few trees were used to compute any reliable oob estimates.\n",
      "  warn(\"Some inputs do not have OOB scores. \"\n",
      "c:\\users\\admin\\appdata\\local\\programs\\python\\python36\\lib\\site-packages\\sklearn\\ensemble\\_forest.py:528: RuntimeWarning: invalid value encountered in true_divide\n",
      "  predictions[k].sum(axis=1)[:, np.newaxis])\n",
      "c:\\users\\admin\\appdata\\local\\programs\\python\\python36\\lib\\site-packages\\sklearn\\ensemble\\_forest.py:523: UserWarning: Some inputs do not have OOB scores. This probably means too few trees were used to compute any reliable oob estimates.\n",
      "  warn(\"Some inputs do not have OOB scores. \"\n",
      "c:\\users\\admin\\appdata\\local\\programs\\python\\python36\\lib\\site-packages\\sklearn\\ensemble\\_forest.py:528: RuntimeWarning: invalid value encountered in true_divide\n",
      "  predictions[k].sum(axis=1)[:, np.newaxis])\n",
      "c:\\users\\admin\\appdata\\local\\programs\\python\\python36\\lib\\site-packages\\sklearn\\ensemble\\_forest.py:523: UserWarning: Some inputs do not have OOB scores. This probably means too few trees were used to compute any reliable oob estimates.\n",
      "  warn(\"Some inputs do not have OOB scores. \"\n",
      "c:\\users\\admin\\appdata\\local\\programs\\python\\python36\\lib\\site-packages\\sklearn\\ensemble\\_forest.py:528: RuntimeWarning: invalid value encountered in true_divide\n",
      "  predictions[k].sum(axis=1)[:, np.newaxis])\n",
      "c:\\users\\admin\\appdata\\local\\programs\\python\\python36\\lib\\site-packages\\sklearn\\ensemble\\_forest.py:523: UserWarning: Some inputs do not have OOB scores. This probably means too few trees were used to compute any reliable oob estimates.\n",
      "  warn(\"Some inputs do not have OOB scores. \"\n",
      "c:\\users\\admin\\appdata\\local\\programs\\python\\python36\\lib\\site-packages\\sklearn\\ensemble\\_forest.py:528: RuntimeWarning: invalid value encountered in true_divide\n",
      "  predictions[k].sum(axis=1)[:, np.newaxis])\n",
      "c:\\users\\admin\\appdata\\local\\programs\\python\\python36\\lib\\site-packages\\sklearn\\ensemble\\_forest.py:523: UserWarning: Some inputs do not have OOB scores. This probably means too few trees were used to compute any reliable oob estimates.\n",
      "  warn(\"Some inputs do not have OOB scores. \"\n",
      "c:\\users\\admin\\appdata\\local\\programs\\python\\python36\\lib\\site-packages\\sklearn\\ensemble\\_forest.py:528: RuntimeWarning: invalid value encountered in true_divide\n",
      "  predictions[k].sum(axis=1)[:, np.newaxis])\n",
      "c:\\users\\admin\\appdata\\local\\programs\\python\\python36\\lib\\site-packages\\sklearn\\ensemble\\_forest.py:523: UserWarning: Some inputs do not have OOB scores. This probably means too few trees were used to compute any reliable oob estimates.\n",
      "  warn(\"Some inputs do not have OOB scores. \"\n",
      "c:\\users\\admin\\appdata\\local\\programs\\python\\python36\\lib\\site-packages\\sklearn\\ensemble\\_forest.py:528: RuntimeWarning: invalid value encountered in true_divide\n",
      "  predictions[k].sum(axis=1)[:, np.newaxis])\n",
      "c:\\users\\admin\\appdata\\local\\programs\\python\\python36\\lib\\site-packages\\sklearn\\ensemble\\_forest.py:523: UserWarning: Some inputs do not have OOB scores. This probably means too few trees were used to compute any reliable oob estimates.\n",
      "  warn(\"Some inputs do not have OOB scores. \"\n",
      "c:\\users\\admin\\appdata\\local\\programs\\python\\python36\\lib\\site-packages\\sklearn\\ensemble\\_forest.py:528: RuntimeWarning: invalid value encountered in true_divide\n",
      "  predictions[k].sum(axis=1)[:, np.newaxis])\n",
      "c:\\users\\admin\\appdata\\local\\programs\\python\\python36\\lib\\site-packages\\sklearn\\ensemble\\_forest.py:523: UserWarning: Some inputs do not have OOB scores. This probably means too few trees were used to compute any reliable oob estimates.\n",
      "  warn(\"Some inputs do not have OOB scores. \"\n",
      "c:\\users\\admin\\appdata\\local\\programs\\python\\python36\\lib\\site-packages\\sklearn\\ensemble\\_forest.py:528: RuntimeWarning: invalid value encountered in true_divide\n",
      "  predictions[k].sum(axis=1)[:, np.newaxis])\n",
      "c:\\users\\admin\\appdata\\local\\programs\\python\\python36\\lib\\site-packages\\sklearn\\ensemble\\_forest.py:523: UserWarning: Some inputs do not have OOB scores. This probably means too few trees were used to compute any reliable oob estimates.\n",
      "  warn(\"Some inputs do not have OOB scores. \"\n",
      "c:\\users\\admin\\appdata\\local\\programs\\python\\python36\\lib\\site-packages\\sklearn\\ensemble\\_forest.py:528: RuntimeWarning: invalid value encountered in true_divide\n",
      "  predictions[k].sum(axis=1)[:, np.newaxis])\n",
      "c:\\users\\admin\\appdata\\local\\programs\\python\\python36\\lib\\site-packages\\sklearn\\ensemble\\_forest.py:523: UserWarning: Some inputs do not have OOB scores. This probably means too few trees were used to compute any reliable oob estimates.\n",
      "  warn(\"Some inputs do not have OOB scores. \"\n",
      "c:\\users\\admin\\appdata\\local\\programs\\python\\python36\\lib\\site-packages\\sklearn\\ensemble\\_forest.py:528: RuntimeWarning: invalid value encountered in true_divide\n",
      "  predictions[k].sum(axis=1)[:, np.newaxis])\n"
     ]
    },
    {
     "name": "stderr",
     "output_type": "stream",
     "text": [
      "c:\\users\\admin\\appdata\\local\\programs\\python\\python36\\lib\\site-packages\\sklearn\\ensemble\\_forest.py:523: UserWarning: Some inputs do not have OOB scores. This probably means too few trees were used to compute any reliable oob estimates.\n",
      "  warn(\"Some inputs do not have OOB scores. \"\n",
      "c:\\users\\admin\\appdata\\local\\programs\\python\\python36\\lib\\site-packages\\sklearn\\ensemble\\_forest.py:528: RuntimeWarning: invalid value encountered in true_divide\n",
      "  predictions[k].sum(axis=1)[:, np.newaxis])\n",
      "c:\\users\\admin\\appdata\\local\\programs\\python\\python36\\lib\\site-packages\\sklearn\\ensemble\\_forest.py:523: UserWarning: Some inputs do not have OOB scores. This probably means too few trees were used to compute any reliable oob estimates.\n",
      "  warn(\"Some inputs do not have OOB scores. \"\n",
      "c:\\users\\admin\\appdata\\local\\programs\\python\\python36\\lib\\site-packages\\sklearn\\ensemble\\_forest.py:528: RuntimeWarning: invalid value encountered in true_divide\n",
      "  predictions[k].sum(axis=1)[:, np.newaxis])\n"
     ]
    }
   ],
   "source": [
    "for n in n_trees:\n",
    "    classifier = ensemble.RandomForestClassifier(n_estimators=n, oob_score = True)\n",
    "    classifier.fit(X_train, y_train)\n",
    "    y_pred_train = classifier.predict(X_train.values)\n",
    "    accuracy_train = accuracy_score(y_train, y_pred_train)\n",
    "    y_pred_test = classifier.predict(X_test.values)\n",
    "    accuracy_test = accuracy_score(y_test, y_pred_test)\n",
    "    oob_error = classifier.oob_score_\n",
    "    rf_result = rf_result.append(pd.Series({\"Accuracy_train\" : accuracy_train, \"Accuracy_test\" : accuracy_test, 'OOB' : oob_error}, name = n))"
   ]
  },
  {
   "cell_type": "code",
   "execution_count": 34,
   "metadata": {},
   "outputs": [
    {
     "data": {
      "text/html": [
       "<div>\n",
       "<style scoped>\n",
       "    .dataframe tbody tr th:only-of-type {\n",
       "        vertical-align: middle;\n",
       "    }\n",
       "\n",
       "    .dataframe tbody tr th {\n",
       "        vertical-align: top;\n",
       "    }\n",
       "\n",
       "    .dataframe thead th {\n",
       "        text-align: right;\n",
       "    }\n",
       "</style>\n",
       "<table border=\"1\" class=\"dataframe\">\n",
       "  <thead>\n",
       "    <tr style=\"text-align: right;\">\n",
       "      <th></th>\n",
       "      <th>Accuracy_train</th>\n",
       "      <th>Accuracy_test</th>\n",
       "      <th>OOB</th>\n",
       "    </tr>\n",
       "  </thead>\n",
       "  <tbody>\n",
       "    <tr>\n",
       "      <th>1</th>\n",
       "      <td>NaN</td>\n",
       "      <td>NaN</td>\n",
       "      <td>NaN</td>\n",
       "    </tr>\n",
       "    <tr>\n",
       "      <th>2</th>\n",
       "      <td>NaN</td>\n",
       "      <td>NaN</td>\n",
       "      <td>NaN</td>\n",
       "    </tr>\n",
       "    <tr>\n",
       "      <th>3</th>\n",
       "      <td>NaN</td>\n",
       "      <td>NaN</td>\n",
       "      <td>NaN</td>\n",
       "    </tr>\n",
       "    <tr>\n",
       "      <th>4</th>\n",
       "      <td>NaN</td>\n",
       "      <td>NaN</td>\n",
       "      <td>NaN</td>\n",
       "    </tr>\n",
       "    <tr>\n",
       "      <th>5</th>\n",
       "      <td>NaN</td>\n",
       "      <td>NaN</td>\n",
       "      <td>NaN</td>\n",
       "    </tr>\n",
       "    <tr>\n",
       "      <th>...</th>\n",
       "      <td>...</td>\n",
       "      <td>...</td>\n",
       "      <td>...</td>\n",
       "    </tr>\n",
       "    <tr>\n",
       "      <th>95</th>\n",
       "      <td>0.956673</td>\n",
       "      <td>0.480080</td>\n",
       "      <td>0.478918</td>\n",
       "    </tr>\n",
       "    <tr>\n",
       "      <th>96</th>\n",
       "      <td>0.956673</td>\n",
       "      <td>0.473108</td>\n",
       "      <td>0.486720</td>\n",
       "    </tr>\n",
       "    <tr>\n",
       "      <th>97</th>\n",
       "      <td>0.956673</td>\n",
       "      <td>0.480080</td>\n",
       "      <td>0.482902</td>\n",
       "    </tr>\n",
       "    <tr>\n",
       "      <th>98</th>\n",
       "      <td>0.956673</td>\n",
       "      <td>0.475598</td>\n",
       "      <td>0.485060</td>\n",
       "    </tr>\n",
       "    <tr>\n",
       "      <th>99</th>\n",
       "      <td>0.956673</td>\n",
       "      <td>0.470120</td>\n",
       "      <td>0.486056</td>\n",
       "    </tr>\n",
       "  </tbody>\n",
       "</table>\n",
       "<p>198 rows × 3 columns</p>\n",
       "</div>"
      ],
      "text/plain": [
       "    Accuracy_train  Accuracy_test       OOB\n",
       "1              NaN            NaN       NaN\n",
       "2              NaN            NaN       NaN\n",
       "3              NaN            NaN       NaN\n",
       "4              NaN            NaN       NaN\n",
       "5              NaN            NaN       NaN\n",
       "..             ...            ...       ...\n",
       "95        0.956673       0.480080  0.478918\n",
       "96        0.956673       0.473108  0.486720\n",
       "97        0.956673       0.480080  0.482902\n",
       "98        0.956673       0.475598  0.485060\n",
       "99        0.956673       0.470120  0.486056\n",
       "\n",
       "[198 rows x 3 columns]"
      ]
     },
     "execution_count": 34,
     "metadata": {},
     "output_type": "execute_result"
    }
   ],
   "source": [
    "rf_result"
   ]
  },
  {
   "cell_type": "code",
   "execution_count": 35,
   "metadata": {},
   "outputs": [
    {
     "data": {
      "text/plain": [
       "<matplotlib.axes._subplots.AxesSubplot at 0x1e981f86438>"
      ]
     },
     "execution_count": 35,
     "metadata": {},
     "output_type": "execute_result"
    },
    {
     "data": {
      "image/png": "[encoded data removed]",
      "text/plain": [
       "<Figure size 432x288 with 1 Axes>"
      ]
     },
     "metadata": {
      "needs_background": "light"
     },
     "output_type": "display_data"
    }
   ],
   "source": [
    "rf_result.plot()"
   ]
  },
  {
   "cell_type": "markdown",
   "metadata": {},
   "source": [
    "<h4> Обучим Random Forest с 20 деревьями </h4>"
   ]
  },
  {
   "cell_type": "code",
   "execution_count": 37,
   "metadata": {},
   "outputs": [
    {
     "data": {
      "text/plain": [
       "RandomForestClassifier(bootstrap=True, ccp_alpha=0.0, class_weight=None,\n",
       "                       criterion='gini', max_depth=None, max_features='auto',\n",
       "                       max_leaf_nodes=None, max_samples=None,\n",
       "                       min_impurity_decrease=0.0, min_impurity_split=None,\n",
       "                       min_samples_leaf=1, min_samples_split=2,\n",
       "                       min_weight_fraction_leaf=0.0, n_estimators=20,\n",
       "                       n_jobs=None, oob_score=True, random_state=None,\n",
       "                       verbose=0, warm_start=False)"
      ]
     },
     "execution_count": 37,
     "metadata": {},
     "output_type": "execute_result"
    }
   ],
   "source": [
    "classifier = ensemble.RandomForestClassifier(n_estimators=20, oob_score = True)\n",
    "classifier.fit(X_train, y_train)"
   ]
  },
  {
   "cell_type": "code",
   "execution_count": 40,
   "metadata": {},
   "outputs": [],
   "source": [
    "y_pred_train = classifier.predict(X_train)\n",
    "y_pred_test = classifier.predict(X_test)"
   ]
  },
  {
   "cell_type": "code",
   "execution_count": 43,
   "metadata": {},
   "outputs": [
    {
     "name": "stdout",
     "output_type": "stream",
     "text": [
      "Train accuracy: 0.953851261620186 ; Test accuracy: 0.4681274900398406\n"
     ]
    }
   ],
   "source": [
    "print(f\"Train accuracy: {accuracy_score(y_train, y_pred_train)} ; Test accuracy: {accuracy_score(y_test, y_pred_test)}\")"
   ]
  },
  {
   "cell_type": "code",
   "execution_count": 45,
   "metadata": {},
   "outputs": [],
   "source": [
    "importances = classifier.feature_importances_"
   ]
  },
  {
   "cell_type": "code",
   "execution_count": 48,
   "metadata": {},
   "outputs": [],
   "source": [
    "features = X_train.columns"
   ]
  },
  {
   "cell_type": "code",
   "execution_count": 49,
   "metadata": {},
   "outputs": [
    {
     "data": {
      "text/plain": [
       "Index(['Gender', 'Ever_Married', 'Age', 'Graduated', 'Work_Experience',\n",
       "       'Family_Size', 'Artist', 'Doctor', 'Engineer', 'Entertainment',\n",
       "       'Executive', 'Healthcare', 'Homemaker', 'Lawyer', 'Marketing',\n",
       "       'Average', 'High', 'Low', 'Cat_1', 'Cat_2', 'Cat_3', 'Cat_4', 'Cat_5',\n",
       "       'Cat_6', 'Cat_7'],\n",
       "      dtype='object')"
      ]
     },
     "execution_count": 49,
     "metadata": {},
     "output_type": "execute_result"
    }
   ],
   "source": [
    "features"
   ]
  },
  {
   "cell_type": "code",
   "execution_count": 46,
   "metadata": {},
   "outputs": [
    {
     "name": "stdout",
     "output_type": "stream",
     "text": [
      "[0.0398191  0.02743484 0.36287037 0.03709259 0.14912161 0.11577917\n",
      " 0.03094218 0.01165287 0.01204871 0.01366435 0.008207   0.0409237\n",
      " 0.00718179 0.00693185 0.00974903 0.01644768 0.00678007 0.02858472\n",
      " 0.00557616 0.01068354 0.01348902 0.0149288  0.00379524 0.01971843\n",
      " 0.0065772 ]\n"
     ]
    }
   ],
   "source": [
    "print(importances)"
   ]
  },
  {
   "cell_type": "code",
   "execution_count": 56,
   "metadata": {},
   "outputs": [
    {
     "data": {
      "text/plain": [
       "([<matplotlib.axis.XTick at 0x1e98bf44080>,\n",
       "  <matplotlib.axis.XTick at 0x1e98bf4a9b0>,\n",
       "  <matplotlib.axis.XTick at 0x1e98bf4aa20>,\n",
       "  <matplotlib.axis.XTick at 0x1e98b7a51d0>,\n",
       "  <matplotlib.axis.XTick at 0x1e98b60cc88>,\n",
       "  <matplotlib.axis.XTick at 0x1e98b60c400>,\n",
       "  <matplotlib.axis.XTick at 0x1e98b618860>,\n",
       "  <matplotlib.axis.XTick at 0x1e98b606da0>,\n",
       "  <matplotlib.axis.XTick at 0x1e98b606470>,\n",
       "  <matplotlib.axis.XTick at 0x1e98b602a20>,\n",
       "  <matplotlib.axis.XTick at 0x1e98b606390>,\n",
       "  <matplotlib.axis.XTick at 0x1e98b7a5978>,\n",
       "  <matplotlib.axis.XTick at 0x1e98b6025c0>,\n",
       "  <matplotlib.axis.XTick at 0x1e98b60df28>,\n",
       "  <matplotlib.axis.XTick at 0x1e98b63d5c0>,\n",
       "  <matplotlib.axis.XTick at 0x1e98b63d908>,\n",
       "  <matplotlib.axis.XTick at 0x1e98b63d160>,\n",
       "  <matplotlib.axis.XTick at 0x1e98b610f60>,\n",
       "  <matplotlib.axis.XTick at 0x1e9815f9ac8>,\n",
       "  <matplotlib.axis.XTick at 0x1e98aadc390>,\n",
       "  <matplotlib.axis.XTick at 0x1e98b63d6a0>,\n",
       "  <matplotlib.axis.XTick at 0x1e98b60c198>,\n",
       "  <matplotlib.axis.XTick at 0x1e98b7cdb70>,\n",
       "  <matplotlib.axis.XTick at 0x1e98b891a20>,\n",
       "  <matplotlib.axis.XTick at 0x1e98b891b00>],\n",
       " <a list of 25 Text xticklabel objects>)"
      ]
     },
     "execution_count": 56,
     "metadata": {},
     "output_type": "execute_result"
    },
    {
     "data": {
      "image/png": "[encoded data removed]",
      "text/plain": [
       "<Figure size 2880x720 with 1 Axes>"
      ]
     },
     "metadata": {
      "needs_background": "light"
     },
     "output_type": "display_data"
    }
   ],
   "source": [
    "plt.figure(figsize=(40,10))\n",
    "plt.bar(range(len(importances)), importances)\n",
    "plt.xticks(range(len(importances)), features)"
   ]
  },
  {
   "cell_type": "code",
   "execution_count": null,
   "metadata": {},
   "outputs": [],
   "source": []
  },
  {
   "cell_type": "markdown",
   "metadata": {},
   "source": [
    "<h2> Gradient Boosting Classifier </h2>"
   ]
  },
  {
   "cell_type": "code",
   "execution_count": 100,
   "metadata": {},
   "outputs": [],
   "source": [
    "gb_result = pd.DataFrame(index=n_trees, columns=[\"Accuracy_train\", \"Accuracy_test\"])"
   ]
  },
  {
   "cell_type": "code",
   "execution_count": 101,
   "metadata": {},
   "outputs": [],
   "source": [
    "for n in n_trees:\n",
    "    classifier = ensemble.GradientBoostingClassifier(n_estimators=n)\n",
    "    classifier.fit(X_train, y_train)\n",
    "    y_pred_train = classifier.predict(X_train.values)\n",
    "    accuracy_train = accuracy_score(y_train, y_pred_train)\n",
    "    y_pred_test = classifier.predict(X_test.values)\n",
    "    accuracy_test = accuracy_score(y_test, y_pred_test)\n",
    "    metrics = pd.Series({\"Accuracy_train\" : accuracy_train, \"Accuracy_test\" : accuracy_test}, name = n)\n",
    "    gb_result.loc[n] = metrics"
   ]
  },
  {
   "cell_type": "code",
   "execution_count": 102,
   "metadata": {},
   "outputs": [
    {
     "data": {
      "text/plain": [
       "Accuracy_train    0.593127\n",
       "Accuracy_test     0.537351\n",
       "dtype: float64"
      ]
     },
     "execution_count": 102,
     "metadata": {},
     "output_type": "execute_result"
    }
   ],
   "source": [
    "gb_result.max()"
   ]
  },
  {
   "cell_type": "code",
   "execution_count": 103,
   "metadata": {},
   "outputs": [
    {
     "data": {
      "text/plain": [
       "Accuracy_train    0.416833\n",
       "Accuracy_test     0.431773\n",
       "dtype: float64"
      ]
     },
     "execution_count": 103,
     "metadata": {},
     "output_type": "execute_result"
    }
   ],
   "source": [
    "gb_result.min()"
   ]
  },
  {
   "cell_type": "code",
   "execution_count": 104,
   "metadata": {},
   "outputs": [
    {
     "data": {
      "text/plain": [
       "<matplotlib.axes._subplots.AxesSubplot at 0x1e98d05c898>"
      ]
     },
     "execution_count": 104,
     "metadata": {},
     "output_type": "execute_result"
    },
    {
     "data": {
      "image/png": "[encoded data removed]",
      "text/plain": [
       "<Figure size 432x288 with 1 Axes>"
      ]
     },
     "metadata": {
      "needs_background": "light"
     },
     "output_type": "display_data"
    }
   ],
   "source": [
    "gb_result.plot(style='.')"
   ]
  },
  {
   "cell_type": "code",
   "execution_count": 105,
   "metadata": {},
   "outputs": [
    {
     "data": {
      "text/plain": [
       "GradientBoostingClassifier(ccp_alpha=0.0, criterion='friedman_mse', init=None,\n",
       "                           learning_rate=0.1, loss='deviance', max_depth=3,\n",
       "                           max_features=None, max_leaf_nodes=None,\n",
       "                           min_impurity_decrease=0.0, min_impurity_split=None,\n",
       "                           min_samples_leaf=1, min_samples_split=2,\n",
       "                           min_weight_fraction_leaf=0.0, n_estimators=20,\n",
       "                           n_iter_no_change=None, presort='deprecated',\n",
       "                           random_state=None, subsample=1.0, tol=0.0001,\n",
       "                           validation_fraction=0.1, verbose=0,\n",
       "                           warm_start=False)"
      ]
     },
     "execution_count": 105,
     "metadata": {},
     "output_type": "execute_result"
    }
   ],
   "source": [
    "classifier = ensemble.GradientBoostingClassifier(n_estimators=20)\n",
    "classifier.fit(X_train, y_train)"
   ]
  },
  {
   "cell_type": "code",
   "execution_count": 106,
   "metadata": {},
   "outputs": [],
   "source": [
    "y_pred_train = classifier.predict(X_train)\n",
    "y_pred_test = classifier.predict(X_test)"
   ]
  },
  {
   "cell_type": "code",
   "execution_count": 107,
   "metadata": {},
   "outputs": [
    {
     "name": "stdout",
     "output_type": "stream",
     "text": [
      "Train accuracy: 0.5371845949535192 ; Test accuracy: 0.5258964143426295\n"
     ]
    }
   ],
   "source": [
    "print(f\"Train accuracy: {accuracy_score(y_train, y_pred_train)} ; Test accuracy: {accuracy_score(y_test, y_pred_test)}\")"
   ]
  },
  {
   "cell_type": "code",
   "execution_count": 108,
   "metadata": {},
   "outputs": [],
   "source": [
    "importances = classifier.feature_importances_"
   ]
  },
  {
   "cell_type": "code",
   "execution_count": 109,
   "metadata": {},
   "outputs": [
    {
     "data": {
      "text/plain": [
       "([<matplotlib.axis.XTick at 0x1e98d7169b0>,\n",
       "  <matplotlib.axis.XTick at 0x1e98d74ee80>,\n",
       "  <matplotlib.axis.XTick at 0x1e98d74e668>,\n",
       "  <matplotlib.axis.XTick at 0x1e98dea9160>,\n",
       "  <matplotlib.axis.XTick at 0x1e98dea9748>,\n",
       "  <matplotlib.axis.XTick at 0x1e98dea9c18>,\n",
       "  <matplotlib.axis.XTick at 0x1e98dea9be0>,\n",
       "  <matplotlib.axis.XTick at 0x1e98deaf128>,\n",
       "  <matplotlib.axis.XTick at 0x1e98deaf6d8>,\n",
       "  <matplotlib.axis.XTick at 0x1e98deafba8>,\n",
       "  <matplotlib.axis.XTick at 0x1e98de82128>,\n",
       "  <matplotlib.axis.XTick at 0x1e98de82588>,\n",
       "  <matplotlib.axis.XTick at 0x1e98de82a58>,\n",
       "  <matplotlib.axis.XTick at 0x1e98de82f28>,\n",
       "  <matplotlib.axis.XTick at 0x1e98de97438>,\n",
       "  <matplotlib.axis.XTick at 0x1e98de97908>,\n",
       "  <matplotlib.axis.XTick at 0x1e98de97dd8>,\n",
       "  <matplotlib.axis.XTick at 0x1e98de974e0>,\n",
       "  <matplotlib.axis.XTick at 0x1e98deafef0>,\n",
       "  <matplotlib.axis.XTick at 0x1e98deb0128>,\n",
       "  <matplotlib.axis.XTick at 0x1e98deb0588>,\n",
       "  <matplotlib.axis.XTick at 0x1e98deb0a58>,\n",
       "  <matplotlib.axis.XTick at 0x1e98deb0f28>,\n",
       "  <matplotlib.axis.XTick at 0x1e98deb4438>,\n",
       "  <matplotlib.axis.XTick at 0x1e98deb4908>],\n",
       " <a list of 25 Text xticklabel objects>)"
      ]
     },
     "execution_count": 109,
     "metadata": {},
     "output_type": "execute_result"
    },
    {
     "data": {
      "image/png": "[encoded data removed]",
      "text/plain": [
       "<Figure size 2880x720 with 1 Axes>"
      ]
     },
     "metadata": {
      "needs_background": "light"
     },
     "output_type": "display_data"
    }
   ],
   "source": [
    "plt.figure(figsize=(40,10))\n",
    "plt.bar(range(len(importances)), importances)\n",
    "plt.xticks(range(len(importances)), features)"
   ]
  },
  {
   "cell_type": "markdown",
   "metadata": {},
   "source": [
    "Вывод: сравнивая с предыдущими методами классификации, KNN показал лучший результ (63%)"
   ]
  }
 ],
 "metadata": {
  "kernelspec": {
   "display_name": "Python 3",
   "language": "python",
   "name": "python3"
  },
  "language_info": {
   "codemirror_mode": {
    "name": "ipython",
    "version": 3
   },
   "file_extension": ".py",
   "mimetype": "text/x-python",
   "name": "python",
   "nbconvert_exporter": "python",
   "pygments_lexer": "ipython3",
   "version": "3.6.7"
  }
 },
 "nbformat": 4,
 "nbformat_minor": 5
}
