{
 "cells": [
  {
   "cell_type": "code",
   "execution_count": 128,
   "metadata": {},
   "outputs": [],
   "source": [
    "import numpy as np\n",
    "from sklearn.datasets import load_digits\n",
    "from sklearn.model_selection import train_test_split\n",
    "import tensorflow as tf\n",
    "import pandas as pd"
   ]
  },
  {
   "cell_type": "markdown",
   "metadata": {},
   "source": [
    "<b> Загружаем данные"
   ]
  },
  {
   "cell_type": "code",
   "execution_count": 129,
   "metadata": {},
   "outputs": [],
   "source": [
    "data = load_digits()"
   ]
  },
  {
   "cell_type": "markdown",
   "metadata": {},
   "source": [
    "<b> Разбиваем данные на train и test выборки"
   ]
  },
  {
   "cell_type": "code",
   "execution_count": 130,
   "metadata": {},
   "outputs": [],
   "source": [
    "images_train, images_val, labels_train, labels_val = train_test_split(data.get('images'), data.get('target'))"
   ]
  },
  {
   "cell_type": "markdown",
   "metadata": {},
   "source": [
    "<b> Препроцессинг"
   ]
  },
  {
   "cell_type": "code",
   "execution_count": 131,
   "metadata": {},
   "outputs": [],
   "source": [
    "images = images_train\n",
    "img_shape = images[0].shape\n",
    "images = images / tf.reduce_max(images)\n",
    "images = tf.data.Dataset.from_tensor_slices(images)\n",
    "\n",
    "labels = labels_train\n",
    "n_labels = len(set(labels))\n",
    "labels = tf.keras.utils.to_categorical(labels, num_classes=n_labels)\n",
    "labels = tf.data.Dataset.from_tensor_slices(labels)\n",
    "\n",
    "dataset = tf.data.Dataset.zip((images, labels)).batch(4)"
   ]
  },
  {
   "cell_type": "code",
   "execution_count": 132,
   "metadata": {},
   "outputs": [],
   "source": [
    "images_val = images_val / tf.reduce_max(images_val)\n",
    "images_val = tf.data.Dataset.from_tensor_slices(images_val)\n",
    "\n",
    "labels_val = tf.keras.utils.to_categorical(labels_val, num_classes=n_labels)\n",
    "labels_val = tf.data.Dataset.from_tensor_slices(labels_val)\n",
    "\n",
    "dataset_val = tf.data.Dataset.zip((images_val, labels_val)).batch(4)"
   ]
  },
  {
   "cell_type": "markdown",
   "metadata": {},
   "source": [
    "<b> Данные после препроцессинга"
   ]
  },
  {
   "cell_type": "code",
   "execution_count": 133,
   "metadata": {},
   "outputs": [
    {
     "name": "stdout",
     "output_type": "stream",
     "text": [
      "(<tf.Tensor: shape=(4, 8, 8), dtype=float64, numpy=\n",
      "array([[[0.    , 0.    , 0.3125, 1.    , 0.875 , 0.125 , 0.    , 0.    ],\n",
      "        [0.    , 0.0625, 0.8125, 0.875 , 1.    , 0.5   , 0.    , 0.    ],\n",
      "        [0.    , 0.5625, 0.9375, 0.1875, 1.    , 0.3125, 0.    , 0.    ],\n",
      "        [0.    , 0.625 , 0.8125, 0.1875, 1.    , 0.1875, 0.    , 0.    ],\n",
      "        [0.    , 0.1875, 0.1875, 0.6875, 0.8125, 0.    , 0.    , 0.    ],\n",
      "        [0.    , 0.    , 0.    , 0.8125, 0.625 , 0.    , 0.    , 0.    ],\n",
      "        [0.    , 0.    , 0.125 , 1.    , 1.    , 1.    , 0.625 , 0.    ],\n",
      "        [0.    , 0.    , 0.375 , 1.    , 0.875 , 0.75  , 0.5625, 0.    ]],\n",
      "\n",
      "       [[0.    , 0.    , 0.75  , 1.    , 1.    , 0.9375, 0.1875, 0.    ],\n",
      "        [0.    , 0.25  , 1.    , 1.    , 0.375 , 0.125 , 0.0625, 0.    ],\n",
      "        [0.    , 0.875 , 1.    , 0.25  , 0.    , 0.    , 0.    , 0.    ],\n",
      "        [0.    , 0.5625, 1.    , 1.    , 0.3125, 0.    , 0.    , 0.    ],\n",
      "        [0.    , 0.    , 0.4375, 0.9375, 0.5   , 0.    , 0.    , 0.    ],\n",
      "        [0.    , 0.    , 0.    , 0.75  , 0.6875, 0.    , 0.    , 0.    ],\n",
      "        [0.    , 0.    , 0.3125, 1.    , 0.4375, 0.    , 0.    , 0.    ],\n",
      "        [0.    , 0.    , 0.875 , 0.9375, 0.    , 0.    , 0.    , 0.    ]],\n",
      "\n",
      "       [[0.    , 0.    , 0.    , 0.5625, 1.    , 0.1875, 0.    , 0.    ],\n",
      "        [0.    , 0.    , 0.4375, 1.    , 0.4375, 0.    , 0.    , 0.    ],\n",
      "        [0.    , 0.125 , 0.9375, 0.5   , 0.    , 0.0625, 0.4375, 0.    ],\n",
      "        [0.    , 0.5625, 0.875 , 0.    , 0.125 , 0.8125, 0.875 , 0.    ],\n",
      "        [0.    , 0.5   , 1.    , 0.875 , 0.9375, 1.    , 0.375 , 0.    ],\n",
      "        [0.    , 0.0625, 0.4375, 0.5   , 1.    , 0.75  , 0.    , 0.    ],\n",
      "        [0.    , 0.    , 0.    , 0.4375, 1.    , 0.3125, 0.    , 0.    ],\n",
      "        [0.    , 0.    , 0.    , 0.75  , 0.75  , 0.    , 0.    , 0.    ]],\n",
      "\n",
      "       [[0.    , 0.    , 0.    , 0.    , 0.3125, 0.875 , 0.1875, 0.    ],\n",
      "        [0.    , 0.    , 0.    , 0.    , 0.5625, 1.    , 0.5   , 0.    ],\n",
      "        [0.    , 0.    , 0.    , 0.5625, 1.    , 1.    , 0.3125, 0.    ],\n",
      "        [0.    , 0.0625, 0.8125, 0.9375, 0.75  , 1.    , 0.0625, 0.    ],\n",
      "        [0.    , 0.25  , 0.75  , 0.1875, 0.625 , 0.9375, 0.    , 0.    ],\n",
      "        [0.    , 0.    , 0.    , 0.    , 0.6875, 0.75  , 0.    , 0.    ],\n",
      "        [0.    , 0.    , 0.    , 0.    , 0.5   , 0.75  , 0.    , 0.    ],\n",
      "        [0.    , 0.    , 0.    , 0.    , 0.3125, 0.8125, 0.25  , 0.    ]]])>, <tf.Tensor: shape=(4, 10), dtype=float32, numpy=\n",
      "array([[0., 0., 1., 0., 0., 0., 0., 0., 0., 0.],\n",
      "       [0., 0., 0., 0., 0., 1., 0., 0., 0., 0.],\n",
      "       [0., 0., 0., 0., 1., 0., 0., 0., 0., 0.],\n",
      "       [0., 1., 0., 0., 0., 0., 0., 0., 0., 0.]], dtype=float32)>)\n",
      "(<tf.Tensor: shape=(4, 8, 8), dtype=float64, numpy=\n",
      "array([[[0.    , 0.0625, 0.75  , 0.9375, 0.625 , 0.125 , 0.    , 0.    ],\n",
      "        [0.    , 0.25  , 0.875 , 0.0625, 0.375 , 0.75  , 0.125 , 0.    ],\n",
      "        [0.    , 0.4375, 0.9375, 0.    , 0.0625, 0.875 , 0.25  , 0.    ],\n",
      "        [0.    , 0.1875, 0.9375, 0.75  , 0.9375, 0.625 , 0.    , 0.    ],\n",
      "        [0.    , 0.    , 0.1875, 0.9375, 0.0625, 0.    , 0.    , 0.    ],\n",
      "        [0.    , 0.    , 0.    , 0.1875, 0.8125, 0.0625, 0.    , 0.    ],\n",
      "        [0.    , 0.    , 0.    , 0.    , 0.625 , 0.375 , 0.    , 0.    ],\n",
      "        [0.    , 0.    , 0.6875, 0.75  , 0.8125, 0.25  , 0.    , 0.    ]],\n",
      "\n",
      "       [[0.    , 0.    , 0.    , 0.5   , 0.9375, 0.    , 0.    , 0.    ],\n",
      "        [0.    , 0.    , 0.1875, 0.9375, 0.1875, 0.    , 0.    , 0.    ],\n",
      "        [0.    , 0.    , 0.75  , 0.625 , 0.    , 0.0625, 0.    , 0.    ],\n",
      "        [0.    , 0.25  , 1.    , 0.25  , 0.6875, 0.6875, 0.    , 0.    ],\n",
      "        [0.    , 0.6875, 0.9375, 0.125 , 0.875 , 0.625 , 0.0625, 0.    ],\n",
      "        [0.    , 0.8125, 1.    , 1.    , 1.    , 0.8125, 0.0625, 0.    ],\n",
      "        [0.    , 0.    , 0.25  , 0.75  , 0.75  , 0.    , 0.    , 0.    ],\n",
      "        [0.    , 0.    , 0.    , 0.6875, 0.5625, 0.    , 0.    , 0.    ]],\n",
      "\n",
      "       [[0.    , 0.    , 0.    , 0.    , 0.5   , 0.875 , 0.625 , 0.    ],\n",
      "        [0.    , 0.    , 0.    , 0.5625, 0.4375, 0.5625, 0.75  , 0.    ],\n",
      "        [0.    , 0.    , 0.5625, 0.5   , 0.    , 0.75  , 0.5625, 0.    ],\n",
      "        [0.    , 0.25  , 1.    , 0.5   , 0.75  , 1.    , 0.125 , 0.    ],\n",
      "        [0.    , 0.3125, 1.    , 1.    , 0.625 , 0.9375, 0.    , 0.    ],\n",
      "        [0.    , 0.    , 0.25  , 0.    , 0.3125, 0.6875, 0.    , 0.    ],\n",
      "        [0.    , 0.    , 0.    , 0.    , 0.5   , 0.5625, 0.    , 0.    ],\n",
      "        [0.    , 0.    , 0.    , 0.    , 0.625 , 0.625 , 0.    , 0.    ]],\n",
      "\n",
      "       [[0.    , 0.1875, 0.75  , 0.75  , 0.875 , 0.9375, 0.1875, 0.    ],\n",
      "        [0.    , 0.25  , 0.9375, 0.25  , 0.25  , 0.25  , 0.    , 0.    ],\n",
      "        [0.    , 0.3125, 0.75  , 0.    , 0.    , 0.125 , 0.    , 0.    ],\n",
      "        [0.    , 0.3125, 0.9375, 0.75  , 0.9375, 0.9375, 0.3125, 0.    ],\n",
      "        [0.    , 0.3125, 0.75  , 0.375 , 0.    , 0.5   , 0.5   , 0.    ],\n",
      "        [0.    , 0.    , 0.    , 0.    , 0.    , 0.625 , 0.4375, 0.    ],\n",
      "        [0.    , 0.0625, 0.5625, 0.    , 0.4375, 0.875 , 0.0625, 0.    ],\n",
      "        [0.    , 0.125 , 0.9375, 1.    , 0.875 , 0.1875, 0.    , 0.    ]]])>, <tf.Tensor: shape=(4, 10), dtype=float32, numpy=\n",
      "array([[0., 0., 0., 0., 0., 0., 0., 0., 0., 1.],\n",
      "       [0., 0., 0., 0., 1., 0., 0., 0., 0., 0.],\n",
      "       [0., 0., 0., 0., 0., 0., 0., 0., 0., 1.],\n",
      "       [0., 0., 0., 0., 0., 1., 0., 0., 0., 0.]], dtype=float32)>)\n",
      "(<tf.Tensor: shape=(4, 8, 8), dtype=float64, numpy=\n",
      "array([[[0.    , 0.    , 0.    , 0.1875, 0.9375, 0.8125, 0.0625, 0.    ],\n",
      "        [0.    , 0.    , 0.125 , 0.9375, 1.    , 1.    , 0.125 , 0.    ],\n",
      "        [0.    , 0.    , 0.8125, 0.625 , 0.3125, 0.9375, 0.    , 0.    ],\n",
      "        [0.    , 0.    , 0.375 , 0.125 , 0.6875, 0.5   , 0.    , 0.    ],\n",
      "        [0.    , 0.    , 0.    , 0.375 , 0.875 , 0.125 , 0.    , 0.    ],\n",
      "        [0.    , 0.1875, 0.5   , 1.    , 0.5   , 0.    , 0.    , 0.    ],\n",
      "        [0.1875, 1.    , 1.    , 1.    , 1.    , 0.5   , 0.    , 0.    ],\n",
      "        [0.0625, 0.25  , 0.25  , 0.3125, 0.8125, 0.375 , 0.    , 0.    ]],\n",
      "\n",
      "       [[0.    , 0.    , 0.    , 0.375 , 0.9375, 0.0625, 0.    , 0.    ],\n",
      "        [0.    , 0.    , 0.1875, 1.    , 0.5625, 0.9375, 0.1875, 0.    ],\n",
      "        [0.    , 0.0625, 0.9375, 0.4375, 0.3125, 0.9375, 0.    , 0.    ],\n",
      "        [0.    , 0.5625, 1.    , 0.25  , 0.6875, 0.875 , 0.625 , 0.    ],\n",
      "        [0.    , 0.5625, 1.    , 1.    , 1.    , 1.    , 0.5625, 0.    ],\n",
      "        [0.    , 0.    , 0.125 , 0.25  , 1.    , 0.125 , 0.    , 0.    ],\n",
      "        [0.    , 0.    , 0.    , 0.375 , 0.875 , 0.    , 0.    , 0.    ],\n",
      "        [0.    , 0.    , 0.    , 0.4375, 0.625 , 0.    , 0.    , 0.    ]],\n",
      "\n",
      "       [[0.    , 0.    , 0.375 , 0.9375, 1.    , 0.1875, 0.    , 0.    ],\n",
      "        [0.    , 0.1875, 1.    , 0.75  , 0.9375, 0.5   , 0.    , 0.    ],\n",
      "        [0.    , 0.    , 0.25  , 0.    , 0.875 , 0.375 , 0.    , 0.    ],\n",
      "        [0.    , 0.    , 0.    , 0.125 , 1.    , 0.375 , 0.125 , 0.    ],\n",
      "        [0.    , 0.    , 0.25  , 0.875 , 1.    , 1.    , 0.5   , 0.    ],\n",
      "        [0.    , 0.    , 0.9375, 1.    , 0.4375, 0.    , 0.    , 0.    ],\n",
      "        [0.    , 0.    , 0.375 , 1.    , 0.    , 0.    , 0.    , 0.    ],\n",
      "        [0.    , 0.    , 0.4375, 0.5625, 0.    , 0.    , 0.    , 0.    ]],\n",
      "\n",
      "       [[0.    , 0.    , 0.125 , 0.8125, 0.5   , 0.    , 0.    , 0.    ],\n",
      "        [0.    , 0.    , 0.375 , 1.    , 1.    , 0.375 , 0.    , 0.    ],\n",
      "        [0.    , 0.    , 0.3125, 0.9375, 0.8125, 0.6875, 0.    , 0.    ],\n",
      "        [0.    , 0.    , 0.    , 0.4375, 1.    , 0.9375, 0.    , 0.    ],\n",
      "        [0.    , 0.    , 0.    , 0.    , 0.    , 0.875 , 0.1875, 0.    ],\n",
      "        [0.    , 0.    , 0.    , 0.    , 0.    , 0.4375, 0.6875, 0.    ],\n",
      "        [0.    , 0.    , 0.    , 0.1875, 0.25  , 0.25  , 1.    , 0.125 ],\n",
      "        [0.    , 0.    , 0.125 , 0.9375, 0.8125, 0.875 , 0.8125, 0.125 ]]])>, <tf.Tensor: shape=(4, 10), dtype=float32, numpy=\n",
      "array([[0., 0., 1., 0., 0., 0., 0., 0., 0., 0.],\n",
      "       [0., 0., 0., 0., 1., 0., 0., 0., 0., 0.],\n",
      "       [0., 0., 0., 0., 0., 0., 0., 1., 0., 0.],\n",
      "       [0., 0., 0., 0., 0., 0., 0., 0., 0., 1.]], dtype=float32)>)\n"
     ]
    }
   ],
   "source": [
    "it = iter(dataset)\n",
    "for i in range(3):\n",
    "    print(next(it))"
   ]
  },
  {
   "cell_type": "markdown",
   "metadata": {},
   "source": [
    "<b> Построим простую однослойную сетку и посмотрим на сколько ее можно обучить"
   ]
  },
  {
   "cell_type": "code",
   "execution_count": 141,
   "metadata": {},
   "outputs": [
    {
     "name": "stdout",
     "output_type": "stream",
     "text": [
      "Model: \"functional_83\"\n",
      "_________________________________________________________________\n",
      "Layer (type)                 Output Shape              Param #   \n",
      "=================================================================\n",
      "input_39 (InputLayer)        [(None, 8, 8)]            0         \n",
      "_________________________________________________________________\n",
      "flatten_38 (Flatten)         (None, 64)                0         \n",
      "_________________________________________________________________\n",
      "dense_86 (Dense)             (None, 10)                650       \n",
      "_________________________________________________________________\n",
      "softmax_41 (Softmax)         (None, 10)                0         \n",
      "=================================================================\n",
      "Total params: 650\n",
      "Trainable params: 650\n",
      "Non-trainable params: 0\n",
      "_________________________________________________________________\n",
      "None\n"
     ]
    }
   ],
   "source": [
    "inp = tf.keras.layers.Input(shape = img_shape)\n",
    "flat = tf.keras.layers.Flatten()(inp)\n",
    "fc1 = tf.keras.layers.Dense(10, activation='relu')(flat)\n",
    "out = tf.keras.layers.Softmax()(fc1)\n",
    "model = tf.keras.models.Model(inputs = inp, outputs = out)\n",
    "print(model.summary())"
   ]
  },
  {
   "cell_type": "code",
   "execution_count": 142,
   "metadata": {},
   "outputs": [],
   "source": [
    "loss = tf.keras.losses.CategoricalCrossentropy()\n",
    "metrics = ['accuracy']\n",
    "optimizer = tf.keras.optimizers.Adam(lr = 0.01, clipnorm = 5)\n",
    "callbacks = [tf.keras.callbacks.ReduceLROnPlateau(monitor='val_loss', \n",
    "                                                  factor=0.1, \n",
    "                                                  patience=5, \n",
    "                                                  min_lr=0.0001, \n",
    "                                                  min_delta=0.01, \n",
    "                                                  cooldown=5)]\n",
    "model.compile(loss = loss, metrics = metrics)"
   ]
  },
  {
   "cell_type": "code",
   "execution_count": 143,
   "metadata": {
    "scrolled": true
   },
   "outputs": [
    {
     "name": "stdout",
     "output_type": "stream",
     "text": [
      "Epoch 1/100\n",
      "337/337 [==============================] - 1s 2ms/step - loss: 2.0500 - accuracy: 0.3682 - val_loss: 1.8293 - val_accuracy: 0.5822\n",
      "Epoch 2/100\n",
      "337/337 [==============================] - 1s 2ms/step - loss: 1.6694 - accuracy: 0.6125 - val_loss: 1.5328 - val_accuracy: 0.6422\n",
      "Epoch 3/100\n",
      "337/337 [==============================] - 1s 2ms/step - loss: 1.4251 - accuracy: 0.6466 - val_loss: 1.3428 - val_accuracy: 0.6533\n",
      "Epoch 4/100\n",
      "337/337 [==============================] - 1s 2ms/step - loss: 1.2685 - accuracy: 0.6555 - val_loss: 1.2198 - val_accuracy: 0.6578\n",
      "Epoch 5/100\n",
      "337/337 [==============================] - 1s 2ms/step - loss: 1.1651 - accuracy: 0.6630 - val_loss: 1.1368 - val_accuracy: 0.6644\n",
      "Epoch 6/100\n",
      "337/337 [==============================] - 1s 2ms/step - loss: 1.0937 - accuracy: 0.6689 - val_loss: 1.0774 - val_accuracy: 0.6689\n",
      "Epoch 7/100\n",
      "337/337 [==============================] - 1s 2ms/step - loss: 1.0420 - accuracy: 0.6719 - val_loss: 1.0336 - val_accuracy: 0.6733\n",
      "Epoch 8/100\n",
      "337/337 [==============================] - 1s 2ms/step - loss: 1.0032 - accuracy: 0.6711 - val_loss: 1.0000 - val_accuracy: 0.6756\n",
      "Epoch 9/100\n",
      "337/337 [==============================] - 1s 2ms/step - loss: 0.9730 - accuracy: 0.6726 - val_loss: 0.9733 - val_accuracy: 0.6756\n",
      "Epoch 10/100\n",
      "337/337 [==============================] - 1s 2ms/step - loss: 0.9487 - accuracy: 0.6756 - val_loss: 0.9518 - val_accuracy: 0.6822\n",
      "Epoch 11/100\n",
      "337/337 [==============================] - 1s 2ms/step - loss: 0.9290 - accuracy: 0.6756 - val_loss: 0.9340 - val_accuracy: 0.6844\n",
      "Epoch 12/100\n",
      "337/337 [==============================] - 1s 2ms/step - loss: 0.9124 - accuracy: 0.6785 - val_loss: 0.9164 - val_accuracy: 0.6978\n",
      "Epoch 13/100\n",
      "337/337 [==============================] - 1s 2ms/step - loss: 0.8338 - accuracy: 0.7587 - val_loss: 0.7951 - val_accuracy: 0.7711\n",
      "Epoch 14/100\n",
      "337/337 [==============================] - 1s 2ms/step - loss: 0.7473 - accuracy: 0.7751 - val_loss: 0.7397 - val_accuracy: 0.7667\n",
      "Epoch 15/100\n",
      "337/337 [==============================] - 1s 2ms/step - loss: 0.7039 - accuracy: 0.7765 - val_loss: 0.7072 - val_accuracy: 0.7667\n",
      "Epoch 16/100\n",
      "337/337 [==============================] - 1s 2ms/step - loss: 0.6769 - accuracy: 0.7773 - val_loss: 0.6859 - val_accuracy: 0.7689\n",
      "Epoch 17/100\n",
      "337/337 [==============================] - 1s 2ms/step - loss: 0.6584 - accuracy: 0.7780 - val_loss: 0.6709 - val_accuracy: 0.7689\n",
      "Epoch 18/100\n",
      "337/337 [==============================] - 1s 2ms/step - loss: 0.6445 - accuracy: 0.7788 - val_loss: 0.6593 - val_accuracy: 0.7689\n",
      "Epoch 19/100\n",
      "337/337 [==============================] - 1s 2ms/step - loss: 0.6336 - accuracy: 0.7788 - val_loss: 0.6503 - val_accuracy: 0.7711\n",
      "Epoch 20/100\n",
      "337/337 [==============================] - 1s 2ms/step - loss: 0.6245 - accuracy: 0.7788 - val_loss: 0.6427 - val_accuracy: 0.7689\n",
      "Epoch 21/100\n",
      "337/337 [==============================] - 1s 2ms/step - loss: 0.6168 - accuracy: 0.7795 - val_loss: 0.6363 - val_accuracy: 0.7689\n",
      "Epoch 22/100\n",
      "337/337 [==============================] - 1s 2ms/step - loss: 0.6101 - accuracy: 0.7795 - val_loss: 0.6307 - val_accuracy: 0.7689\n",
      "Epoch 23/100\n",
      "337/337 [==============================] - 1s 2ms/step - loss: 0.6042 - accuracy: 0.7803 - val_loss: 0.6258 - val_accuracy: 0.7689\n",
      "Epoch 24/100\n",
      "337/337 [==============================] - 1s 2ms/step - loss: 0.5991 - accuracy: 0.7803 - val_loss: 0.6215 - val_accuracy: 0.7689\n",
      "Epoch 25/100\n",
      "337/337 [==============================] - 1s 2ms/step - loss: 0.5945 - accuracy: 0.7803 - val_loss: 0.6177 - val_accuracy: 0.7689\n",
      "Epoch 26/100\n",
      "337/337 [==============================] - 1s 2ms/step - loss: 0.5904 - accuracy: 0.7803 - val_loss: 0.6140 - val_accuracy: 0.7689\n",
      "Epoch 27/100\n",
      "337/337 [==============================] - 1s 2ms/step - loss: 0.5866 - accuracy: 0.7810 - val_loss: 0.6108 - val_accuracy: 0.7689\n",
      "Epoch 28/100\n",
      "337/337 [==============================] - 1s 2ms/step - loss: 0.5832 - accuracy: 0.7810 - val_loss: 0.6079 - val_accuracy: 0.7689\n",
      "Epoch 29/100\n",
      "337/337 [==============================] - 1s 2ms/step - loss: 0.5800 - accuracy: 0.7817 - val_loss: 0.6052 - val_accuracy: 0.7711\n",
      "Epoch 30/100\n",
      "337/337 [==============================] - 1s 2ms/step - loss: 0.5770 - accuracy: 0.7832 - val_loss: 0.6026 - val_accuracy: 0.7711\n",
      "Epoch 31/100\n",
      "337/337 [==============================] - 1s 2ms/step - loss: 0.5742 - accuracy: 0.7832 - val_loss: 0.6003 - val_accuracy: 0.7711\n",
      "Epoch 32/100\n",
      "337/337 [==============================] - 1s 2ms/step - loss: 0.5717 - accuracy: 0.7840 - val_loss: 0.5982 - val_accuracy: 0.7689\n",
      "Epoch 33/100\n",
      "337/337 [==============================] - 1s 2ms/step - loss: 0.5692 - accuracy: 0.7847 - val_loss: 0.5961 - val_accuracy: 0.7689\n",
      "Epoch 34/100\n",
      "337/337 [==============================] - 1s 2ms/step - loss: 0.5669 - accuracy: 0.7847 - val_loss: 0.5942 - val_accuracy: 0.7689\n",
      "Epoch 35/100\n",
      "337/337 [==============================] - 1s 2ms/step - loss: 0.5646 - accuracy: 0.7847 - val_loss: 0.5926 - val_accuracy: 0.7689\n",
      "Epoch 36/100\n",
      "337/337 [==============================] - 1s 2ms/step - loss: 0.5626 - accuracy: 0.7847 - val_loss: 0.5910 - val_accuracy: 0.7689\n",
      "Epoch 37/100\n",
      "337/337 [==============================] - 1s 2ms/step - loss: 0.5607 - accuracy: 0.7854 - val_loss: 0.5896 - val_accuracy: 0.7689\n",
      "Epoch 38/100\n",
      "337/337 [==============================] - 1s 2ms/step - loss: 0.5588 - accuracy: 0.7854 - val_loss: 0.5883 - val_accuracy: 0.7689\n",
      "Epoch 39/100\n",
      "337/337 [==============================] - 1s 2ms/step - loss: 0.5572 - accuracy: 0.7862 - val_loss: 0.5870 - val_accuracy: 0.7689\n",
      "Epoch 40/100\n",
      "337/337 [==============================] - 1s 2ms/step - loss: 0.5553 - accuracy: 0.7854 - val_loss: 0.5868 - val_accuracy: 0.7689\n",
      "Epoch 41/100\n",
      "337/337 [==============================] - 1s 2ms/step - loss: 0.5551 - accuracy: 0.7847 - val_loss: 0.5866 - val_accuracy: 0.7689\n",
      "Epoch 42/100\n",
      "337/337 [==============================] - 1s 2ms/step - loss: 0.5549 - accuracy: 0.7854 - val_loss: 0.5864 - val_accuracy: 0.7689\n",
      "Epoch 43/100\n",
      "337/337 [==============================] - 1s 2ms/step - loss: 0.5548 - accuracy: 0.7854 - val_loss: 0.5863 - val_accuracy: 0.7689\n",
      "Epoch 44/100\n",
      "337/337 [==============================] - 1s 2ms/step - loss: 0.5546 - accuracy: 0.7854 - val_loss: 0.5861 - val_accuracy: 0.7689\n",
      "Epoch 45/100\n",
      "337/337 [==============================] - 1s 2ms/step - loss: 0.5545 - accuracy: 0.7854 - val_loss: 0.5860 - val_accuracy: 0.7689\n",
      "Epoch 46/100\n",
      "337/337 [==============================] - 1s 2ms/step - loss: 0.5543 - accuracy: 0.7854 - val_loss: 0.5858 - val_accuracy: 0.7689\n",
      "Epoch 47/100\n",
      "337/337 [==============================] - 1s 2ms/step - loss: 0.5542 - accuracy: 0.7854 - val_loss: 0.5857 - val_accuracy: 0.7689\n",
      "Epoch 48/100\n",
      "337/337 [==============================] - 1s 2ms/step - loss: 0.5540 - accuracy: 0.7854 - val_loss: 0.5855 - val_accuracy: 0.7689\n",
      "Epoch 49/100\n",
      "337/337 [==============================] - 1s 2ms/step - loss: 0.5539 - accuracy: 0.7854 - val_loss: 0.5854 - val_accuracy: 0.7689\n",
      "Epoch 50/100\n",
      "337/337 [==============================] - 1s 2ms/step - loss: 0.5537 - accuracy: 0.7854 - val_loss: 0.5853 - val_accuracy: 0.7689\n",
      "Epoch 51/100\n",
      "337/337 [==============================] - 1s 2ms/step - loss: 0.5536 - accuracy: 0.7854 - val_loss: 0.5852 - val_accuracy: 0.7689\n",
      "Epoch 52/100\n",
      "337/337 [==============================] - 1s 2ms/step - loss: 0.5535 - accuracy: 0.7854 - val_loss: 0.5850 - val_accuracy: 0.7689\n",
      "Epoch 53/100\n",
      "337/337 [==============================] - 1s 2ms/step - loss: 0.5533 - accuracy: 0.7854 - val_loss: 0.5849 - val_accuracy: 0.7689\n",
      "Epoch 54/100\n",
      "337/337 [==============================] - 1s 2ms/step - loss: 0.5532 - accuracy: 0.7854 - val_loss: 0.5848 - val_accuracy: 0.7689\n",
      "Epoch 55/100\n",
      "337/337 [==============================] - 1s 2ms/step - loss: 0.5530 - accuracy: 0.7854 - val_loss: 0.5847 - val_accuracy: 0.7689\n",
      "Epoch 56/100\n",
      "337/337 [==============================] - 1s 2ms/step - loss: 0.5529 - accuracy: 0.7854 - val_loss: 0.5845 - val_accuracy: 0.7689\n",
      "Epoch 57/100\n",
      "337/337 [==============================] - 1s 2ms/step - loss: 0.5528 - accuracy: 0.7862 - val_loss: 0.5844 - val_accuracy: 0.7689\n"
     ]
    },
    {
     "name": "stdout",
     "output_type": "stream",
     "text": [
      "Epoch 58/100\n",
      "337/337 [==============================] - 1s 2ms/step - loss: 0.5526 - accuracy: 0.7862 - val_loss: 0.5843 - val_accuracy: 0.7689\n",
      "Epoch 59/100\n",
      "337/337 [==============================] - 1s 2ms/step - loss: 0.5525 - accuracy: 0.7862 - val_loss: 0.5842 - val_accuracy: 0.7689\n",
      "Epoch 60/100\n",
      "337/337 [==============================] - 1s 2ms/step - loss: 0.5523 - accuracy: 0.7862 - val_loss: 0.5841 - val_accuracy: 0.7689\n",
      "Epoch 61/100\n",
      "337/337 [==============================] - 1s 2ms/step - loss: 0.5522 - accuracy: 0.7862 - val_loss: 0.5840 - val_accuracy: 0.7689\n",
      "Epoch 62/100\n",
      "337/337 [==============================] - 1s 2ms/step - loss: 0.5521 - accuracy: 0.7862 - val_loss: 0.5838 - val_accuracy: 0.7689\n",
      "Epoch 63/100\n",
      "337/337 [==============================] - 1s 2ms/step - loss: 0.5519 - accuracy: 0.7862 - val_loss: 0.5837 - val_accuracy: 0.7689\n",
      "Epoch 64/100\n",
      "337/337 [==============================] - 1s 2ms/step - loss: 0.5518 - accuracy: 0.7862 - val_loss: 0.5836 - val_accuracy: 0.7689\n",
      "Epoch 65/100\n",
      "337/337 [==============================] - 1s 2ms/step - loss: 0.5517 - accuracy: 0.7862 - val_loss: 0.5835 - val_accuracy: 0.7689\n",
      "Epoch 66/100\n",
      "337/337 [==============================] - 1s 2ms/step - loss: 0.5515 - accuracy: 0.7862 - val_loss: 0.5834 - val_accuracy: 0.7689\n",
      "Epoch 67/100\n",
      "337/337 [==============================] - 1s 2ms/step - loss: 0.5514 - accuracy: 0.7862 - val_loss: 0.5833 - val_accuracy: 0.7689\n",
      "Epoch 68/100\n",
      "337/337 [==============================] - 1s 2ms/step - loss: 0.5513 - accuracy: 0.7862 - val_loss: 0.5832 - val_accuracy: 0.7689\n",
      "Epoch 69/100\n",
      "337/337 [==============================] - 1s 2ms/step - loss: 0.5511 - accuracy: 0.7862 - val_loss: 0.5831 - val_accuracy: 0.7689\n",
      "Epoch 70/100\n",
      "337/337 [==============================] - 1s 2ms/step - loss: 0.5510 - accuracy: 0.7862 - val_loss: 0.5830 - val_accuracy: 0.7689\n",
      "Epoch 71/100\n",
      "337/337 [==============================] - 1s 2ms/step - loss: 0.5509 - accuracy: 0.7862 - val_loss: 0.5829 - val_accuracy: 0.7689\n",
      "Epoch 72/100\n",
      "337/337 [==============================] - 1s 2ms/step - loss: 0.5508 - accuracy: 0.7862 - val_loss: 0.5828 - val_accuracy: 0.7689\n",
      "Epoch 73/100\n",
      "337/337 [==============================] - 1s 2ms/step - loss: 0.5506 - accuracy: 0.7862 - val_loss: 0.5827 - val_accuracy: 0.7689\n",
      "Epoch 74/100\n",
      "337/337 [==============================] - 1s 2ms/step - loss: 0.5505 - accuracy: 0.7862 - val_loss: 0.5826 - val_accuracy: 0.7689\n",
      "Epoch 75/100\n",
      "337/337 [==============================] - 1s 2ms/step - loss: 0.5504 - accuracy: 0.7862 - val_loss: 0.5825 - val_accuracy: 0.7689\n",
      "Epoch 76/100\n",
      "337/337 [==============================] - 1s 2ms/step - loss: 0.5502 - accuracy: 0.7862 - val_loss: 0.5824 - val_accuracy: 0.7689\n",
      "Epoch 77/100\n",
      "337/337 [==============================] - 1s 2ms/step - loss: 0.5501 - accuracy: 0.7862 - val_loss: 0.5823 - val_accuracy: 0.7689\n",
      "Epoch 78/100\n",
      "337/337 [==============================] - 1s 2ms/step - loss: 0.5500 - accuracy: 0.7862 - val_loss: 0.5822 - val_accuracy: 0.7689\n",
      "Epoch 79/100\n",
      "337/337 [==============================] - 1s 2ms/step - loss: 0.5498 - accuracy: 0.7862 - val_loss: 0.5821 - val_accuracy: 0.7689\n",
      "Epoch 80/100\n",
      "337/337 [==============================] - 1s 2ms/step - loss: 0.5497 - accuracy: 0.7862 - val_loss: 0.5820 - val_accuracy: 0.7689\n",
      "Epoch 81/100\n",
      "337/337 [==============================] - 1s 2ms/step - loss: 0.5496 - accuracy: 0.7862 - val_loss: 0.5819 - val_accuracy: 0.7689\n",
      "Epoch 82/100\n",
      "337/337 [==============================] - 1s 2ms/step - loss: 0.5495 - accuracy: 0.7862 - val_loss: 0.5819 - val_accuracy: 0.7689\n",
      "Epoch 83/100\n",
      "337/337 [==============================] - 1s 2ms/step - loss: 0.5493 - accuracy: 0.7862 - val_loss: 0.5818 - val_accuracy: 0.7689\n",
      "Epoch 84/100\n",
      "337/337 [==============================] - 1s 2ms/step - loss: 0.5492 - accuracy: 0.7862 - val_loss: 0.5817 - val_accuracy: 0.7689\n",
      "Epoch 85/100\n",
      "337/337 [==============================] - 1s 2ms/step - loss: 0.5491 - accuracy: 0.7862 - val_loss: 0.5816 - val_accuracy: 0.7689\n",
      "Epoch 86/100\n",
      "337/337 [==============================] - 1s 2ms/step - loss: 0.5490 - accuracy: 0.7862 - val_loss: 0.5815 - val_accuracy: 0.7689\n",
      "Epoch 87/100\n",
      "337/337 [==============================] - 1s 2ms/step - loss: 0.5489 - accuracy: 0.7862 - val_loss: 0.5814 - val_accuracy: 0.7689\n",
      "Epoch 88/100\n",
      "337/337 [==============================] - 1s 2ms/step - loss: 0.5487 - accuracy: 0.7862 - val_loss: 0.5813 - val_accuracy: 0.7689\n",
      "Epoch 89/100\n",
      "337/337 [==============================] - 1s 2ms/step - loss: 0.5486 - accuracy: 0.7862 - val_loss: 0.5812 - val_accuracy: 0.7689\n",
      "Epoch 90/100\n",
      "337/337 [==============================] - 1s 2ms/step - loss: 0.5485 - accuracy: 0.7862 - val_loss: 0.5811 - val_accuracy: 0.7689\n",
      "Epoch 91/100\n",
      "337/337 [==============================] - 1s 2ms/step - loss: 0.5484 - accuracy: 0.7862 - val_loss: 0.5810 - val_accuracy: 0.7689\n",
      "Epoch 92/100\n",
      "337/337 [==============================] - 1s 2ms/step - loss: 0.5483 - accuracy: 0.7862 - val_loss: 0.5809 - val_accuracy: 0.7689\n",
      "Epoch 93/100\n",
      "337/337 [==============================] - 1s 2ms/step - loss: 0.5481 - accuracy: 0.7862 - val_loss: 0.5808 - val_accuracy: 0.7689\n",
      "Epoch 94/100\n",
      "337/337 [==============================] - 1s 2ms/step - loss: 0.5480 - accuracy: 0.7869 - val_loss: 0.5807 - val_accuracy: 0.7689\n",
      "Epoch 95/100\n",
      "337/337 [==============================] - 1s 2ms/step - loss: 0.5479 - accuracy: 0.7869 - val_loss: 0.5806 - val_accuracy: 0.7689\n",
      "Epoch 96/100\n",
      "337/337 [==============================] - 1s 2ms/step - loss: 0.5478 - accuracy: 0.7869 - val_loss: 0.5806 - val_accuracy: 0.7689\n",
      "Epoch 97/100\n",
      "337/337 [==============================] - 1s 2ms/step - loss: 0.5477 - accuracy: 0.7869 - val_loss: 0.5805 - val_accuracy: 0.7689\n",
      "Epoch 98/100\n",
      "337/337 [==============================] - 1s 2ms/step - loss: 0.5476 - accuracy: 0.7869 - val_loss: 0.5804 - val_accuracy: 0.7689\n",
      "Epoch 99/100\n",
      "337/337 [==============================] - 1s 2ms/step - loss: 0.5474 - accuracy: 0.7869 - val_loss: 0.5803 - val_accuracy: 0.7689\n",
      "Epoch 100/100\n",
      "337/337 [==============================] - 1s 2ms/step - loss: 0.5473 - accuracy: 0.7869 - val_loss: 0.5802 - val_accuracy: 0.7689\n"
     ]
    },
    {
     "data": {
      "text/plain": [
       "<tensorflow.python.keras.callbacks.History at 0x1a8a744df28>"
      ]
     },
     "execution_count": 143,
     "metadata": {},
     "output_type": "execute_result"
    }
   ],
   "source": [
    "model.fit(dataset,  epochs = 100, validation_data = dataset_val, callbacks= callbacks)"
   ]
  },
  {
   "cell_type": "markdown",
   "metadata": {},
   "source": [
    "<b> Смотрим точность на тестовых данных"
   ]
  },
  {
   "cell_type": "code",
   "execution_count": 144,
   "metadata": {},
   "outputs": [
    {
     "name": "stdout",
     "output_type": "stream",
     "text": [
      "113/113 [==============================] - 0s 1ms/step - loss: 0.5802 - accuracy: 0.7689\n"
     ]
    }
   ],
   "source": [
    "val_loss, val_acc = model.evaluate(dataset_val)"
   ]
  },
  {
   "cell_type": "markdown",
   "metadata": {},
   "source": [
    "<b> Посмотрим какая точность будет с разными learning rate"
   ]
  },
  {
   "cell_type": "code",
   "execution_count": 147,
   "metadata": {
    "scrolled": true
   },
   "outputs": [
    {
     "name": "stdout",
     "output_type": "stream",
     "text": [
      "Epoch 1/100\n",
      "337/337 [==============================] - 1s 2ms/step - loss: 2.2192 - accuracy: 0.1878 - val_loss: 2.1320 - val_accuracy: 0.2489\n",
      "Epoch 2/100\n",
      "337/337 [==============================] - 1s 2ms/step - loss: 2.1023 - accuracy: 0.2613 - val_loss: 2.0359 - val_accuracy: 0.3000\n",
      "Epoch 3/100\n",
      "337/337 [==============================] - 1s 2ms/step - loss: 2.0227 - accuracy: 0.2903 - val_loss: 1.9724 - val_accuracy: 0.3111\n",
      "Epoch 4/100\n",
      "337/337 [==============================] - 1s 2ms/step - loss: 1.9700 - accuracy: 0.3103 - val_loss: 1.9275 - val_accuracy: 0.3244\n",
      "Epoch 5/100\n",
      "337/337 [==============================] - 1s 2ms/step - loss: 1.9326 - accuracy: 0.3215 - val_loss: 1.8949 - val_accuracy: 0.3311\n",
      "Epoch 6/100\n",
      "337/337 [==============================] - 1s 2ms/step - loss: 1.9052 - accuracy: 0.3318 - val_loss: 1.8705 - val_accuracy: 0.3400\n",
      "Epoch 7/100\n",
      "337/337 [==============================] - 1s 2ms/step - loss: 1.8842 - accuracy: 0.3437 - val_loss: 1.8514 - val_accuracy: 0.3467\n",
      "Epoch 8/100\n",
      "337/337 [==============================] - 1s 2ms/step - loss: 1.8672 - accuracy: 0.3497 - val_loss: 1.8357 - val_accuracy: 0.3489\n",
      "Epoch 9/100\n",
      "337/337 [==============================] - 1s 2ms/step - loss: 1.8532 - accuracy: 0.3541 - val_loss: 1.8227 - val_accuracy: 0.3556\n",
      "Epoch 10/100\n",
      "337/337 [==============================] - 1s 2ms/step - loss: 1.8415 - accuracy: 0.3578 - val_loss: 1.8118 - val_accuracy: 0.3600\n",
      "Epoch 11/100\n",
      "337/337 [==============================] - 1s 2ms/step - loss: 1.8316 - accuracy: 0.3601 - val_loss: 1.8025 - val_accuracy: 0.3622\n",
      "Epoch 12/100\n",
      "337/337 [==============================] - 1s 2ms/step - loss: 1.8229 - accuracy: 0.3623 - val_loss: 1.7944 - val_accuracy: 0.3622\n",
      "Epoch 13/100\n",
      "337/337 [==============================] - 1s 2ms/step - loss: 1.8152 - accuracy: 0.3653 - val_loss: 1.7875 - val_accuracy: 0.3622\n",
      "Epoch 14/100\n",
      "337/337 [==============================] - 1s 2ms/step - loss: 1.8083 - accuracy: 0.3675 - val_loss: 1.7812 - val_accuracy: 0.3644\n",
      "Epoch 15/100\n",
      "337/337 [==============================] - 1s 2ms/step - loss: 1.8023 - accuracy: 0.3690 - val_loss: 1.7754 - val_accuracy: 0.3644\n",
      "Epoch 16/100\n",
      "337/337 [==============================] - 1s 2ms/step - loss: 1.7967 - accuracy: 0.3712 - val_loss: 1.7703 - val_accuracy: 0.3667\n",
      "Epoch 17/100\n",
      "337/337 [==============================] - 1s 2ms/step - loss: 1.7917 - accuracy: 0.3727 - val_loss: 1.7657 - val_accuracy: 0.3667\n",
      "Epoch 18/100\n",
      "337/337 [==============================] - 1s 2ms/step - loss: 1.7872 - accuracy: 0.3742 - val_loss: 1.7614 - val_accuracy: 0.3667\n",
      "Epoch 19/100\n",
      "337/337 [==============================] - 1s 2ms/step - loss: 1.7830 - accuracy: 0.3749 - val_loss: 1.7576 - val_accuracy: 0.3667\n",
      "Epoch 20/100\n",
      "337/337 [==============================] - 1s 2ms/step - loss: 1.7792 - accuracy: 0.3764 - val_loss: 1.7541 - val_accuracy: 0.3689\n",
      "Epoch 21/100\n",
      "337/337 [==============================] - 1s 2ms/step - loss: 1.7757 - accuracy: 0.3764 - val_loss: 1.7509 - val_accuracy: 0.3689\n",
      "Epoch 22/100\n",
      "337/337 [==============================] - 1s 2ms/step - loss: 1.7725 - accuracy: 0.3779 - val_loss: 1.7479 - val_accuracy: 0.3711\n",
      "Epoch 23/100\n",
      "337/337 [==============================] - 1s 2ms/step - loss: 1.7694 - accuracy: 0.3779 - val_loss: 1.7451 - val_accuracy: 0.3733\n",
      "Epoch 24/100\n",
      "337/337 [==============================] - 1s 2ms/step - loss: 1.7666 - accuracy: 0.3786 - val_loss: 1.7426 - val_accuracy: 0.3733\n",
      "Epoch 25/100\n",
      "337/337 [==============================] - 1s 2ms/step - loss: 1.7640 - accuracy: 0.3786 - val_loss: 1.7402 - val_accuracy: 0.3756\n",
      "Epoch 26/100\n",
      "337/337 [==============================] - 1s 2ms/step - loss: 1.7615 - accuracy: 0.3786 - val_loss: 1.7380 - val_accuracy: 0.3778\n",
      "Epoch 27/100\n",
      "337/337 [==============================] - 1s 2ms/step - loss: 1.7592 - accuracy: 0.3786 - val_loss: 1.7359 - val_accuracy: 0.3778\n",
      "Epoch 28/100\n",
      "337/337 [==============================] - 1s 2ms/step - loss: 1.7570 - accuracy: 0.3801 - val_loss: 1.7340 - val_accuracy: 0.3778\n",
      "Epoch 29/100\n",
      "337/337 [==============================] - 1s 2ms/step - loss: 1.7550 - accuracy: 0.3801 - val_loss: 1.7322 - val_accuracy: 0.3778\n",
      "Epoch 30/100\n",
      "337/337 [==============================] - 1s 2ms/step - loss: 1.7530 - accuracy: 0.3816 - val_loss: 1.7305 - val_accuracy: 0.3800\n",
      "Epoch 31/100\n",
      "337/337 [==============================] - 1s 2ms/step - loss: 1.7512 - accuracy: 0.3816 - val_loss: 1.7288 - val_accuracy: 0.3800\n",
      "Epoch 32/100\n",
      "337/337 [==============================] - 1s 2ms/step - loss: 1.7494 - accuracy: 0.3831 - val_loss: 1.7272 - val_accuracy: 0.3800\n",
      "Epoch 33/100\n",
      "337/337 [==============================] - 1s 2ms/step - loss: 1.7477 - accuracy: 0.3831 - val_loss: 1.7257 - val_accuracy: 0.3800\n",
      "Epoch 34/100\n",
      "337/337 [==============================] - 1s 2ms/step - loss: 1.7461 - accuracy: 0.3831 - val_loss: 1.7243 - val_accuracy: 0.3800\n",
      "Epoch 35/100\n",
      "337/337 [==============================] - 1s 2ms/step - loss: 1.7445 - accuracy: 0.3831 - val_loss: 1.7230 - val_accuracy: 0.3800\n",
      "Epoch 36/100\n",
      "337/337 [==============================] - 1s 2ms/step - loss: 1.7431 - accuracy: 0.3838 - val_loss: 1.7217 - val_accuracy: 0.3800\n",
      "Epoch 37/100\n",
      "337/337 [==============================] - 1s 2ms/step - loss: 1.7417 - accuracy: 0.3838 - val_loss: 1.7204 - val_accuracy: 0.3800\n",
      "Epoch 38/100\n",
      "337/337 [==============================] - 1s 2ms/step - loss: 1.7404 - accuracy: 0.3838 - val_loss: 1.7193 - val_accuracy: 0.3800\n",
      "Epoch 39/100\n",
      "337/337 [==============================] - 1s 2ms/step - loss: 1.7391 - accuracy: 0.3838 - val_loss: 1.7182 - val_accuracy: 0.3800\n",
      "Epoch 40/100\n",
      "337/337 [==============================] - 1s 2ms/step - loss: 1.7379 - accuracy: 0.3853 - val_loss: 1.7171 - val_accuracy: 0.3800\n",
      "Epoch 41/100\n",
      "337/337 [==============================] - 1s 2ms/step - loss: 1.7367 - accuracy: 0.3860 - val_loss: 1.7161 - val_accuracy: 0.3800\n",
      "Epoch 42/100\n",
      "337/337 [==============================] - 1s 2ms/step - loss: 1.7356 - accuracy: 0.3860 - val_loss: 1.7151 - val_accuracy: 0.3800\n",
      "Epoch 43/100\n",
      "337/337 [==============================] - 1s 2ms/step - loss: 1.7345 - accuracy: 0.3860 - val_loss: 1.7141 - val_accuracy: 0.3800\n",
      "Epoch 44/100\n",
      "337/337 [==============================] - 1s 2ms/step - loss: 1.7334 - accuracy: 0.3868 - val_loss: 1.7132 - val_accuracy: 0.3800\n",
      "Epoch 45/100\n",
      "337/337 [==============================] - 1s 2ms/step - loss: 1.7323 - accuracy: 0.3868 - val_loss: 1.7123 - val_accuracy: 0.3800\n",
      "Epoch 46/100\n",
      "337/337 [==============================] - 1s 2ms/step - loss: 1.7313 - accuracy: 0.3868 - val_loss: 1.7115 - val_accuracy: 0.3822\n",
      "Epoch 47/100\n",
      "337/337 [==============================] - 1s 2ms/step - loss: 1.7304 - accuracy: 0.3868 - val_loss: 1.7106 - val_accuracy: 0.3822\n",
      "Epoch 48/100\n",
      "337/337 [==============================] - 1s 2ms/step - loss: 1.7295 - accuracy: 0.3868 - val_loss: 1.7099 - val_accuracy: 0.3822\n",
      "Epoch 49/100\n",
      "337/337 [==============================] - 1s 2ms/step - loss: 1.7286 - accuracy: 0.3868 - val_loss: 1.7091 - val_accuracy: 0.3800\n",
      "Epoch 50/100\n",
      "337/337 [==============================] - 1s 2ms/step - loss: 1.7277 - accuracy: 0.3868 - val_loss: 1.7084 - val_accuracy: 0.3800\n",
      "Epoch 51/100\n",
      "337/337 [==============================] - 1s 2ms/step - loss: 1.7268 - accuracy: 0.3868 - val_loss: 1.7077 - val_accuracy: 0.3800\n",
      "Epoch 52/100\n",
      "337/337 [==============================] - 1s 2ms/step - loss: 1.7260 - accuracy: 0.3868 - val_loss: 1.7069 - val_accuracy: 0.3800\n",
      "Epoch 53/100\n",
      "337/337 [==============================] - 1s 2ms/step - loss: 1.7252 - accuracy: 0.3875 - val_loss: 1.7063 - val_accuracy: 0.3800\n",
      "Epoch 54/100\n",
      "337/337 [==============================] - 1s 2ms/step - loss: 1.7244 - accuracy: 0.3875 - val_loss: 1.7056 - val_accuracy: 0.3800\n",
      "Epoch 55/100\n",
      "337/337 [==============================] - 1s 2ms/step - loss: 1.7237 - accuracy: 0.3875 - val_loss: 1.7049 - val_accuracy: 0.3800\n",
      "Epoch 56/100\n",
      "337/337 [==============================] - 1s 2ms/step - loss: 1.7229 - accuracy: 0.3883 - val_loss: 1.7043 - val_accuracy: 0.3800\n",
      "Epoch 57/100\n",
      "337/337 [==============================] - 1s 2ms/step - loss: 1.7221 - accuracy: 0.3883 - val_loss: 1.7037 - val_accuracy: 0.3800\n"
     ]
    },
    {
     "name": "stdout",
     "output_type": "stream",
     "text": [
      "Epoch 58/100\n",
      "337/337 [==============================] - 1s 2ms/step - loss: 1.7214 - accuracy: 0.3883 - val_loss: 1.7031 - val_accuracy: 0.3800\n",
      "Epoch 59/100\n",
      "337/337 [==============================] - 1s 2ms/step - loss: 1.7207 - accuracy: 0.3883 - val_loss: 1.7026 - val_accuracy: 0.3800\n",
      "Epoch 60/100\n",
      "337/337 [==============================] - 1s 2ms/step - loss: 1.7200 - accuracy: 0.3883 - val_loss: 1.7020 - val_accuracy: 0.3800\n",
      "Epoch 61/100\n",
      "337/337 [==============================] - 1s 2ms/step - loss: 1.7193 - accuracy: 0.3883 - val_loss: 1.7014 - val_accuracy: 0.3800\n",
      "Epoch 62/100\n",
      "337/337 [==============================] - 1s 2ms/step - loss: 1.7187 - accuracy: 0.3883 - val_loss: 1.7009 - val_accuracy: 0.3800\n",
      "Epoch 63/100\n",
      "337/337 [==============================] - 1s 2ms/step - loss: 1.7180 - accuracy: 0.3883 - val_loss: 1.7003 - val_accuracy: 0.3800\n",
      "Epoch 64/100\n",
      "337/337 [==============================] - 1s 2ms/step - loss: 1.7174 - accuracy: 0.3883 - val_loss: 1.6998 - val_accuracy: 0.3800\n",
      "Epoch 65/100\n",
      "337/337 [==============================] - 1s 2ms/step - loss: 1.7168 - accuracy: 0.3890 - val_loss: 1.6994 - val_accuracy: 0.3800\n",
      "Epoch 66/100\n",
      "337/337 [==============================] - 1s 2ms/step - loss: 1.7162 - accuracy: 0.3883 - val_loss: 1.6989 - val_accuracy: 0.3778\n",
      "Epoch 67/100\n",
      "337/337 [==============================] - 1s 2ms/step - loss: 1.7156 - accuracy: 0.3883 - val_loss: 1.6984 - val_accuracy: 0.3778\n",
      "Epoch 68/100\n",
      "337/337 [==============================] - 1s 2ms/step - loss: 1.7150 - accuracy: 0.3883 - val_loss: 1.6979 - val_accuracy: 0.3778\n",
      "Epoch 69/100\n",
      "337/337 [==============================] - 1s 2ms/step - loss: 1.7144 - accuracy: 0.3883 - val_loss: 1.6974 - val_accuracy: 0.3778\n",
      "Epoch 70/100\n",
      "337/337 [==============================] - 1s 2ms/step - loss: 1.7138 - accuracy: 0.3883 - val_loss: 1.6970 - val_accuracy: 0.3778\n",
      "Epoch 71/100\n",
      "337/337 [==============================] - 1s 2ms/step - loss: 1.7132 - accuracy: 0.3883 - val_loss: 1.6966 - val_accuracy: 0.3778\n",
      "Epoch 72/100\n",
      "337/337 [==============================] - 1s 2ms/step - loss: 1.7127 - accuracy: 0.3883 - val_loss: 1.6962 - val_accuracy: 0.3778\n",
      "Epoch 73/100\n",
      "337/337 [==============================] - 1s 2ms/step - loss: 1.7122 - accuracy: 0.3883 - val_loss: 1.6958 - val_accuracy: 0.3778\n",
      "Epoch 74/100\n",
      "337/337 [==============================] - 1s 2ms/step - loss: 1.7117 - accuracy: 0.3883 - val_loss: 1.6954 - val_accuracy: 0.3778\n",
      "Epoch 75/100\n",
      "337/337 [==============================] - 1s 2ms/step - loss: 1.7112 - accuracy: 0.3883 - val_loss: 1.6950 - val_accuracy: 0.3778\n",
      "Epoch 76/100\n",
      "337/337 [==============================] - 1s 2ms/step - loss: 1.7107 - accuracy: 0.3883 - val_loss: 1.6946 - val_accuracy: 0.3778\n",
      "Epoch 77/100\n",
      "337/337 [==============================] - 1s 2ms/step - loss: 1.7102 - accuracy: 0.3883 - val_loss: 1.6943 - val_accuracy: 0.3778\n",
      "Epoch 78/100\n",
      "337/337 [==============================] - 1s 2ms/step - loss: 1.7097 - accuracy: 0.3883 - val_loss: 1.6939 - val_accuracy: 0.3778\n",
      "Epoch 79/100\n",
      "337/337 [==============================] - 1s 2ms/step - loss: 1.7093 - accuracy: 0.3898 - val_loss: 1.6936 - val_accuracy: 0.3778\n",
      "Epoch 80/100\n",
      "337/337 [==============================] - 1s 2ms/step - loss: 1.7089 - accuracy: 0.3898 - val_loss: 1.6933 - val_accuracy: 0.3778\n",
      "Epoch 81/100\n",
      "337/337 [==============================] - 1s 2ms/step - loss: 1.7084 - accuracy: 0.3890 - val_loss: 1.6930 - val_accuracy: 0.3778\n",
      "Epoch 82/100\n",
      "337/337 [==============================] - 1s 2ms/step - loss: 1.7080 - accuracy: 0.3898 - val_loss: 1.6927 - val_accuracy: 0.3778\n",
      "Epoch 83/100\n",
      "337/337 [==============================] - 1s 2ms/step - loss: 1.7076 - accuracy: 0.3898 - val_loss: 1.6924 - val_accuracy: 0.3778\n",
      "Epoch 84/100\n",
      "337/337 [==============================] - 1s 2ms/step - loss: 1.7072 - accuracy: 0.3898 - val_loss: 1.6922 - val_accuracy: 0.3778\n",
      "Epoch 85/100\n",
      "337/337 [==============================] - 1s 2ms/step - loss: 1.7068 - accuracy: 0.3898 - val_loss: 1.6919 - val_accuracy: 0.3778\n",
      "Epoch 86/100\n",
      "337/337 [==============================] - 1s 2ms/step - loss: 1.7064 - accuracy: 0.3898 - val_loss: 1.6916 - val_accuracy: 0.3778\n",
      "Epoch 87/100\n",
      "337/337 [==============================] - 1s 2ms/step - loss: 1.7060 - accuracy: 0.3898 - val_loss: 1.6914 - val_accuracy: 0.3778\n",
      "Epoch 88/100\n",
      "337/337 [==============================] - 1s 2ms/step - loss: 1.7056 - accuracy: 0.3898 - val_loss: 1.6911 - val_accuracy: 0.3778\n",
      "Epoch 89/100\n",
      "337/337 [==============================] - 1s 2ms/step - loss: 1.7052 - accuracy: 0.3898 - val_loss: 1.6909 - val_accuracy: 0.3778\n",
      "Epoch 90/100\n",
      "337/337 [==============================] - 1s 2ms/step - loss: 1.7049 - accuracy: 0.3898 - val_loss: 1.6906 - val_accuracy: 0.3778\n",
      "Epoch 91/100\n",
      "337/337 [==============================] - 1s 2ms/step - loss: 1.7045 - accuracy: 0.3898 - val_loss: 1.6904 - val_accuracy: 0.3778\n",
      "Epoch 92/100\n",
      "337/337 [==============================] - 1s 2ms/step - loss: 1.7042 - accuracy: 0.3898 - val_loss: 1.6902 - val_accuracy: 0.3778\n",
      "Epoch 93/100\n",
      "337/337 [==============================] - 1s 2ms/step - loss: 1.7038 - accuracy: 0.3898 - val_loss: 1.6899 - val_accuracy: 0.3778\n",
      "Epoch 94/100\n",
      "337/337 [==============================] - 1s 2ms/step - loss: 1.7035 - accuracy: 0.3898 - val_loss: 1.6897 - val_accuracy: 0.3778\n",
      "Epoch 95/100\n",
      "337/337 [==============================] - 1s 2ms/step - loss: 1.7031 - accuracy: 0.3898 - val_loss: 1.6895 - val_accuracy: 0.3778\n",
      "Epoch 96/100\n",
      "337/337 [==============================] - 1s 2ms/step - loss: 1.7028 - accuracy: 0.3898 - val_loss: 1.6893 - val_accuracy: 0.3778\n",
      "Epoch 97/100\n",
      "337/337 [==============================] - 1s 2ms/step - loss: 1.7025 - accuracy: 0.3898 - val_loss: 1.6891 - val_accuracy: 0.3778\n",
      "Epoch 98/100\n",
      "337/337 [==============================] - 1s 2ms/step - loss: 1.7021 - accuracy: 0.3905 - val_loss: 1.6889 - val_accuracy: 0.3778\n",
      "Epoch 99/100\n",
      "337/337 [==============================] - 1s 2ms/step - loss: 1.7018 - accuracy: 0.3912 - val_loss: 1.6888 - val_accuracy: 0.3778\n",
      "Epoch 100/100\n",
      "337/337 [==============================] - 1s 2ms/step - loss: 1.7015 - accuracy: 0.3912 - val_loss: 1.6886 - val_accuracy: 0.3778\n",
      "337/337 [==============================] - 0s 1ms/step - loss: 1.7001 - accuracy: 0.3912\n",
      "113/113 [==============================] - 0s 1ms/step - loss: 1.6886 - accuracy: 0.3778\n",
      "Epoch 1/100\n",
      "337/337 [==============================] - 1s 2ms/step - loss: 2.1476 - accuracy: 0.2880 - val_loss: 2.0166 - val_accuracy: 0.3800\n",
      "Epoch 2/100\n",
      "337/337 [==============================] - 1s 2ms/step - loss: 1.9320 - accuracy: 0.3957 - val_loss: 1.8427 - val_accuracy: 0.4356\n",
      "Epoch 3/100\n",
      "337/337 [==============================] - 1s 2ms/step - loss: 1.7814 - accuracy: 0.4313 - val_loss: 1.7092 - val_accuracy: 0.4667\n",
      "Epoch 4/100\n",
      "337/337 [==============================] - 1s 2ms/step - loss: 1.6731 - accuracy: 0.4788 - val_loss: 1.6217 - val_accuracy: 0.4956\n",
      "Epoch 5/100\n",
      "337/337 [==============================] - 1s 2ms/step - loss: 1.6009 - accuracy: 0.5004 - val_loss: 1.5617 - val_accuracy: 0.5089\n",
      "Epoch 6/100\n",
      "337/337 [==============================] - 1s 2ms/step - loss: 1.5500 - accuracy: 0.5152 - val_loss: 1.5184 - val_accuracy: 0.5356\n",
      "Epoch 7/100\n",
      "337/337 [==============================] - 1s 2ms/step - loss: 1.5124 - accuracy: 0.5234 - val_loss: 1.4856 - val_accuracy: 0.5400\n",
      "Epoch 8/100\n",
      "337/337 [==============================] - 1s 2ms/step - loss: 1.4829 - accuracy: 0.5293 - val_loss: 1.4601 - val_accuracy: 0.5467\n",
      "Epoch 9/100\n",
      "337/337 [==============================] - 1s 2ms/step - loss: 1.4594 - accuracy: 0.5382 - val_loss: 1.4397 - val_accuracy: 0.5533\n",
      "Epoch 10/100\n",
      "337/337 [==============================] - 1s 2ms/step - loss: 1.4402 - accuracy: 0.5397 - val_loss: 1.4229 - val_accuracy: 0.5600\n",
      "Epoch 11/100\n",
      "337/337 [==============================] - 1s 2ms/step - loss: 1.4240 - accuracy: 0.5412 - val_loss: 1.4085 - val_accuracy: 0.5622\n",
      "Epoch 12/100\n",
      "337/337 [==============================] - 1s 2ms/step - loss: 1.4101 - accuracy: 0.5434 - val_loss: 1.3963 - val_accuracy: 0.5622\n",
      "Epoch 13/100\n",
      "337/337 [==============================] - 1s 2ms/step - loss: 1.3982 - accuracy: 0.5486 - val_loss: 1.3856 - val_accuracy: 0.5667\n"
     ]
    },
    {
     "name": "stdout",
     "output_type": "stream",
     "text": [
      "Epoch 14/100\n",
      "337/337 [==============================] - 1s 2ms/step - loss: 1.3878 - accuracy: 0.5494 - val_loss: 1.3766 - val_accuracy: 0.5667\n",
      "Epoch 15/100\n",
      "337/337 [==============================] - 1s 2ms/step - loss: 1.3787 - accuracy: 0.5509 - val_loss: 1.3684 - val_accuracy: 0.5667\n",
      "Epoch 16/100\n",
      "337/337 [==============================] - 1s 2ms/step - loss: 1.3707 - accuracy: 0.5546 - val_loss: 1.3611 - val_accuracy: 0.5667\n",
      "Epoch 17/100\n",
      "337/337 [==============================] - 1s 2ms/step - loss: 1.3635 - accuracy: 0.5561 - val_loss: 1.3548 - val_accuracy: 0.5689\n",
      "Epoch 18/100\n",
      "337/337 [==============================] - 1s 2ms/step - loss: 1.3571 - accuracy: 0.5590 - val_loss: 1.3491 - val_accuracy: 0.5711\n",
      "Epoch 19/100\n",
      "337/337 [==============================] - 1s 2ms/step - loss: 1.3512 - accuracy: 0.5605 - val_loss: 1.3443 - val_accuracy: 0.5711\n",
      "Epoch 20/100\n",
      "337/337 [==============================] - 1s 2ms/step - loss: 1.3460 - accuracy: 0.5612 - val_loss: 1.3398 - val_accuracy: 0.5711\n",
      "Epoch 21/100\n",
      "337/337 [==============================] - 1s 2ms/step - loss: 1.3413 - accuracy: 0.5620 - val_loss: 1.3356 - val_accuracy: 0.5733\n",
      "Epoch 22/100\n",
      "337/337 [==============================] - 1s 2ms/step - loss: 1.3370 - accuracy: 0.5612 - val_loss: 1.3319 - val_accuracy: 0.5711\n",
      "Epoch 23/100\n",
      "337/337 [==============================] - 1s 2ms/step - loss: 1.3329 - accuracy: 0.5627 - val_loss: 1.3285 - val_accuracy: 0.5711\n",
      "Epoch 24/100\n",
      "337/337 [==============================] - 1s 2ms/step - loss: 1.3292 - accuracy: 0.5635 - val_loss: 1.3252 - val_accuracy: 0.5711\n",
      "Epoch 25/100\n",
      "337/337 [==============================] - 1s 2ms/step - loss: 1.3257 - accuracy: 0.5664 - val_loss: 1.3224 - val_accuracy: 0.5711\n",
      "Epoch 26/100\n",
      "337/337 [==============================] - 1s 2ms/step - loss: 1.3226 - accuracy: 0.5672 - val_loss: 1.3197 - val_accuracy: 0.5711\n",
      "Epoch 27/100\n",
      "337/337 [==============================] - 1s 2ms/step - loss: 1.3196 - accuracy: 0.5679 - val_loss: 1.3173 - val_accuracy: 0.5733\n",
      "Epoch 28/100\n",
      "337/337 [==============================] - 1s 2ms/step - loss: 1.3168 - accuracy: 0.5687 - val_loss: 1.3149 - val_accuracy: 0.5733\n",
      "Epoch 29/100\n",
      "337/337 [==============================] - 1s 2ms/step - loss: 1.3143 - accuracy: 0.5702 - val_loss: 1.3128 - val_accuracy: 0.5733\n",
      "Epoch 30/100\n",
      "337/337 [==============================] - 1s 2ms/step - loss: 1.3118 - accuracy: 0.5709 - val_loss: 1.3107 - val_accuracy: 0.5733\n",
      "Epoch 31/100\n",
      "337/337 [==============================] - 1s 2ms/step - loss: 1.3096 - accuracy: 0.5709 - val_loss: 1.3088 - val_accuracy: 0.5733\n",
      "Epoch 32/100\n",
      "337/337 [==============================] - 1s 2ms/step - loss: 1.3075 - accuracy: 0.5709 - val_loss: 1.3070 - val_accuracy: 0.5733\n",
      "Epoch 33/100\n",
      "337/337 [==============================] - 1s 2ms/step - loss: 1.3056 - accuracy: 0.5709 - val_loss: 1.3052 - val_accuracy: 0.5733\n",
      "Epoch 34/100\n",
      "337/337 [==============================] - 1s 2ms/step - loss: 1.3037 - accuracy: 0.5716 - val_loss: 1.3037 - val_accuracy: 0.5733\n",
      "Epoch 35/100\n",
      "337/337 [==============================] - 1s 2ms/step - loss: 1.3019 - accuracy: 0.5716 - val_loss: 1.3022 - val_accuracy: 0.5733\n",
      "Epoch 36/100\n",
      "337/337 [==============================] - 1s 2ms/step - loss: 1.3001 - accuracy: 0.5716 - val_loss: 1.3008 - val_accuracy: 0.5733\n",
      "Epoch 37/100\n",
      "337/337 [==============================] - 1s 2ms/step - loss: 1.2984 - accuracy: 0.5724 - val_loss: 1.2995 - val_accuracy: 0.5733\n",
      "Epoch 38/100\n",
      "337/337 [==============================] - 1s 2ms/step - loss: 1.2969 - accuracy: 0.5724 - val_loss: 1.2982 - val_accuracy: 0.5733\n",
      "Epoch 39/100\n",
      "337/337 [==============================] - 1s 2ms/step - loss: 1.2954 - accuracy: 0.5724 - val_loss: 1.2970 - val_accuracy: 0.5733\n",
      "Epoch 40/100\n",
      "337/337 [==============================] - 1s 2ms/step - loss: 1.2940 - accuracy: 0.5731 - val_loss: 1.2958 - val_accuracy: 0.5733\n",
      "Epoch 41/100\n",
      "337/337 [==============================] - 1s 2ms/step - loss: 1.2926 - accuracy: 0.5731 - val_loss: 1.2947 - val_accuracy: 0.5733\n",
      "Epoch 42/100\n",
      "337/337 [==============================] - 1s 2ms/step - loss: 1.2914 - accuracy: 0.5731 - val_loss: 1.2936 - val_accuracy: 0.5733\n",
      "Epoch 43/100\n",
      "337/337 [==============================] - 1s 2ms/step - loss: 1.2901 - accuracy: 0.5731 - val_loss: 1.2926 - val_accuracy: 0.5733\n",
      "Epoch 44/100\n",
      "337/337 [==============================] - 1s 2ms/step - loss: 1.2889 - accuracy: 0.5731 - val_loss: 1.2916 - val_accuracy: 0.5733\n",
      "Epoch 45/100\n",
      "337/337 [==============================] - 1s 2ms/step - loss: 1.2878 - accuracy: 0.5731 - val_loss: 1.2908 - val_accuracy: 0.5756\n",
      "Epoch 46/100\n",
      "337/337 [==============================] - 1s 2ms/step - loss: 1.2866 - accuracy: 0.5739 - val_loss: 1.2900 - val_accuracy: 0.5733\n",
      "Epoch 47/100\n",
      "337/337 [==============================] - 1s 2ms/step - loss: 1.2856 - accuracy: 0.5731 - val_loss: 1.2890 - val_accuracy: 0.5756\n",
      "Epoch 48/100\n",
      "337/337 [==============================] - 1s 2ms/step - loss: 1.2846 - accuracy: 0.5739 - val_loss: 1.2882 - val_accuracy: 0.5733\n",
      "Epoch 49/100\n",
      "337/337 [==============================] - 1s 2ms/step - loss: 1.2837 - accuracy: 0.5724 - val_loss: 1.2877 - val_accuracy: 0.5756\n",
      "Epoch 50/100\n",
      "337/337 [==============================] - 1s 2ms/step - loss: 1.2828 - accuracy: 0.5731 - val_loss: 1.2871 - val_accuracy: 0.5756\n",
      "Epoch 51/100\n",
      "337/337 [==============================] - 1s 2ms/step - loss: 1.2818 - accuracy: 0.5731 - val_loss: 1.2865 - val_accuracy: 0.5756\n",
      "Epoch 52/100\n",
      "337/337 [==============================] - 1s 2ms/step - loss: 1.2810 - accuracy: 0.5724 - val_loss: 1.2861 - val_accuracy: 0.5733\n",
      "Epoch 53/100\n",
      "337/337 [==============================] - 1s 2ms/step - loss: 1.2802 - accuracy: 0.5716 - val_loss: 1.2856 - val_accuracy: 0.5756\n",
      "Epoch 54/100\n",
      "337/337 [==============================] - 1s 2ms/step - loss: 1.2793 - accuracy: 0.5724 - val_loss: 1.2849 - val_accuracy: 0.5756\n",
      "Epoch 55/100\n",
      "337/337 [==============================] - 1s 2ms/step - loss: 1.2785 - accuracy: 0.5731 - val_loss: 1.2843 - val_accuracy: 0.5756\n",
      "Epoch 56/100\n",
      "337/337 [==============================] - 1s 2ms/step - loss: 1.2777 - accuracy: 0.5731 - val_loss: 1.2839 - val_accuracy: 0.5756\n",
      "Epoch 57/100\n",
      "337/337 [==============================] - 1s 2ms/step - loss: 1.2769 - accuracy: 0.5724 - val_loss: 1.2834 - val_accuracy: 0.5756\n",
      "Epoch 58/100\n",
      "337/337 [==============================] - 1s 2ms/step - loss: 1.2762 - accuracy: 0.5724 - val_loss: 1.2830 - val_accuracy: 0.5756\n",
      "Epoch 59/100\n",
      "337/337 [==============================] - 1s 2ms/step - loss: 1.2755 - accuracy: 0.5724 - val_loss: 1.2825 - val_accuracy: 0.5756\n",
      "Epoch 60/100\n",
      "337/337 [==============================] - 1s 2ms/step - loss: 1.2748 - accuracy: 0.5724 - val_loss: 1.2822 - val_accuracy: 0.5756\n",
      "Epoch 61/100\n",
      "337/337 [==============================] - 1s 2ms/step - loss: 1.2741 - accuracy: 0.5731 - val_loss: 1.2817 - val_accuracy: 0.5756\n",
      "Epoch 62/100\n",
      "337/337 [==============================] - 1s 2ms/step - loss: 1.2735 - accuracy: 0.5731 - val_loss: 1.2814 - val_accuracy: 0.5756\n",
      "Epoch 63/100\n",
      "337/337 [==============================] - 1s 2ms/step - loss: 1.2729 - accuracy: 0.5731 - val_loss: 1.2810 - val_accuracy: 0.5756\n",
      "Epoch 64/100\n",
      "337/337 [==============================] - 1s 2ms/step - loss: 1.2723 - accuracy: 0.5731 - val_loss: 1.2807 - val_accuracy: 0.5778\n",
      "Epoch 65/100\n",
      "337/337 [==============================] - 1s 2ms/step - loss: 1.2717 - accuracy: 0.5739 - val_loss: 1.2803 - val_accuracy: 0.5800\n",
      "Epoch 66/100\n",
      "337/337 [==============================] - 1s 2ms/step - loss: 1.2711 - accuracy: 0.5739 - val_loss: 1.2801 - val_accuracy: 0.5800\n",
      "Epoch 67/100\n",
      "337/337 [==============================] - 1s 2ms/step - loss: 1.2705 - accuracy: 0.5739 - val_loss: 1.2798 - val_accuracy: 0.5800\n",
      "Epoch 68/100\n",
      "337/337 [==============================] - 1s 2ms/step - loss: 1.2699 - accuracy: 0.5746 - val_loss: 1.2794 - val_accuracy: 0.5800\n",
      "Epoch 69/100\n",
      "337/337 [==============================] - 1s 2ms/step - loss: 1.2694 - accuracy: 0.5746 - val_loss: 1.2792 - val_accuracy: 0.5800\n",
      "Epoch 70/100\n",
      "337/337 [==============================] - 1s 2ms/step - loss: 1.2688 - accuracy: 0.5754 - val_loss: 1.2788 - val_accuracy: 0.5800\n"
     ]
    },
    {
     "name": "stdout",
     "output_type": "stream",
     "text": [
      "Epoch 71/100\n",
      "337/337 [==============================] - 1s 2ms/step - loss: 1.2683 - accuracy: 0.5754 - val_loss: 1.2785 - val_accuracy: 0.5800\n",
      "Epoch 72/100\n",
      "337/337 [==============================] - 1s 2ms/step - loss: 1.2678 - accuracy: 0.5754 - val_loss: 1.2782 - val_accuracy: 0.5800\n",
      "Epoch 73/100\n",
      "337/337 [==============================] - 1s 2ms/step - loss: 1.2673 - accuracy: 0.5761 - val_loss: 1.2779 - val_accuracy: 0.5800\n",
      "Epoch 74/100\n",
      "337/337 [==============================] - 1s 2ms/step - loss: 1.2668 - accuracy: 0.5768 - val_loss: 1.2775 - val_accuracy: 0.5800\n",
      "Epoch 75/100\n",
      "337/337 [==============================] - 1s 2ms/step - loss: 1.2664 - accuracy: 0.5754 - val_loss: 1.2771 - val_accuracy: 0.5800\n",
      "Epoch 76/100\n",
      "337/337 [==============================] - 1s 2ms/step - loss: 1.2658 - accuracy: 0.5761 - val_loss: 1.2769 - val_accuracy: 0.5800\n",
      "Epoch 77/100\n",
      "337/337 [==============================] - 1s 2ms/step - loss: 1.2654 - accuracy: 0.5761 - val_loss: 1.2767 - val_accuracy: 0.5800\n",
      "Epoch 78/100\n",
      "337/337 [==============================] - 1s 2ms/step - loss: 1.2650 - accuracy: 0.5746 - val_loss: 1.2763 - val_accuracy: 0.5800\n",
      "Epoch 79/100\n",
      "337/337 [==============================] - 1s 2ms/step - loss: 1.2645 - accuracy: 0.5754 - val_loss: 1.2760 - val_accuracy: 0.5800\n",
      "Epoch 80/100\n",
      "337/337 [==============================] - 1s 2ms/step - loss: 1.2642 - accuracy: 0.5754 - val_loss: 1.2758 - val_accuracy: 0.5800\n",
      "Epoch 81/100\n",
      "337/337 [==============================] - 1s 2ms/step - loss: 1.2638 - accuracy: 0.5746 - val_loss: 1.2755 - val_accuracy: 0.5800\n",
      "Epoch 82/100\n",
      "337/337 [==============================] - 1s 2ms/step - loss: 1.2634 - accuracy: 0.5754 - val_loss: 1.2752 - val_accuracy: 0.5800\n",
      "Epoch 83/100\n",
      "337/337 [==============================] - 1s 2ms/step - loss: 1.2630 - accuracy: 0.5761 - val_loss: 1.2749 - val_accuracy: 0.5800\n",
      "Epoch 84/100\n",
      "337/337 [==============================] - 1s 2ms/step - loss: 1.2626 - accuracy: 0.5754 - val_loss: 1.2747 - val_accuracy: 0.5800\n",
      "Epoch 85/100\n",
      "337/337 [==============================] - 1s 2ms/step - loss: 1.2623 - accuracy: 0.5746 - val_loss: 1.2744 - val_accuracy: 0.5778\n",
      "Epoch 86/100\n",
      "337/337 [==============================] - 1s 2ms/step - loss: 1.2620 - accuracy: 0.5761 - val_loss: 1.2742 - val_accuracy: 0.5778\n",
      "Epoch 87/100\n",
      "337/337 [==============================] - 1s 2ms/step - loss: 1.2616 - accuracy: 0.5761 - val_loss: 1.2738 - val_accuracy: 0.5778\n",
      "Epoch 88/100\n",
      "337/337 [==============================] - 1s 2ms/step - loss: 1.2613 - accuracy: 0.5761 - val_loss: 1.2735 - val_accuracy: 0.5778\n",
      "Epoch 89/100\n",
      "337/337 [==============================] - 1s 2ms/step - loss: 1.2609 - accuracy: 0.5768 - val_loss: 1.2734 - val_accuracy: 0.5778\n",
      "Epoch 90/100\n",
      "337/337 [==============================] - 1s 2ms/step - loss: 1.2606 - accuracy: 0.5761 - val_loss: 1.2732 - val_accuracy: 0.5778\n",
      "Epoch 91/100\n",
      "337/337 [==============================] - 1s 2ms/step - loss: 1.2603 - accuracy: 0.5761 - val_loss: 1.2728 - val_accuracy: 0.5778\n",
      "Epoch 92/100\n",
      "337/337 [==============================] - 1s 2ms/step - loss: 1.2600 - accuracy: 0.5761 - val_loss: 1.2726 - val_accuracy: 0.5778\n",
      "Epoch 93/100\n",
      "337/337 [==============================] - 1s 2ms/step - loss: 1.2598 - accuracy: 0.5768 - val_loss: 1.2724 - val_accuracy: 0.5778\n",
      "Epoch 94/100\n",
      "337/337 [==============================] - 1s 2ms/step - loss: 1.2594 - accuracy: 0.5761 - val_loss: 1.2722 - val_accuracy: 0.5778\n",
      "Epoch 95/100\n",
      "337/337 [==============================] - 1s 2ms/step - loss: 1.2591 - accuracy: 0.5761 - val_loss: 1.2720 - val_accuracy: 0.5778\n",
      "Epoch 96/100\n",
      "337/337 [==============================] - 1s 2ms/step - loss: 1.2589 - accuracy: 0.5761 - val_loss: 1.2718 - val_accuracy: 0.5778\n",
      "Epoch 97/100\n",
      "337/337 [==============================] - 1s 2ms/step - loss: 1.2586 - accuracy: 0.5761 - val_loss: 1.2717 - val_accuracy: 0.5778\n",
      "Epoch 98/100\n",
      "337/337 [==============================] - 1s 2ms/step - loss: 1.2584 - accuracy: 0.5761 - val_loss: 1.2715 - val_accuracy: 0.5778\n",
      "Epoch 99/100\n",
      "337/337 [==============================] - 1s 2ms/step - loss: 1.2580 - accuracy: 0.5754 - val_loss: 1.2717 - val_accuracy: 0.5778\n",
      "Epoch 100/100\n",
      "337/337 [==============================] - 1s 2ms/step - loss: 1.2577 - accuracy: 0.5754 - val_loss: 1.2716 - val_accuracy: 0.5778\n",
      "337/337 [==============================] - 0s 1ms/step - loss: 1.2576 - accuracy: 0.5761\n",
      "113/113 [==============================] - 0s 1ms/step - loss: 1.2716 - accuracy: 0.5778\n",
      "Epoch 1/100\n",
      "337/337 [==============================] - 1s 2ms/step - loss: 2.2285 - accuracy: 0.2294 - val_loss: 2.1535 - val_accuracy: 0.2467\n",
      "Epoch 2/100\n",
      "337/337 [==============================] - 1s 2ms/step - loss: 2.0975 - accuracy: 0.2821 - val_loss: 2.0608 - val_accuracy: 0.2644\n",
      "Epoch 3/100\n",
      "337/337 [==============================] - 1s 2ms/step - loss: 2.0174 - accuracy: 0.2910 - val_loss: 1.9974 - val_accuracy: 0.2756\n",
      "Epoch 4/100\n",
      "337/337 [==============================] - 1s 2ms/step - loss: 1.9587 - accuracy: 0.3029 - val_loss: 1.9421 - val_accuracy: 0.2889\n",
      "Epoch 5/100\n",
      "337/337 [==============================] - 1s 2ms/step - loss: 1.9000 - accuracy: 0.3318 - val_loss: 1.8930 - val_accuracy: 0.3222\n",
      "Epoch 6/100\n",
      "337/337 [==============================] - 1s 2ms/step - loss: 1.8503 - accuracy: 0.3675 - val_loss: 1.8592 - val_accuracy: 0.3311\n",
      "Epoch 7/100\n",
      "337/337 [==============================] - 1s 2ms/step - loss: 1.8149 - accuracy: 0.3771 - val_loss: 1.8363 - val_accuracy: 0.3422\n",
      "Epoch 8/100\n",
      "337/337 [==============================] - 1s 2ms/step - loss: 1.7900 - accuracy: 0.3823 - val_loss: 1.8193 - val_accuracy: 0.3467\n",
      "Epoch 9/100\n",
      "337/337 [==============================] - 1s 2ms/step - loss: 1.7719 - accuracy: 0.3868 - val_loss: 1.8063 - val_accuracy: 0.3511\n",
      "Epoch 10/100\n",
      "337/337 [==============================] - 1s 2ms/step - loss: 1.7581 - accuracy: 0.3905 - val_loss: 1.7962 - val_accuracy: 0.3533\n",
      "Epoch 11/100\n",
      "337/337 [==============================] - 1s 2ms/step - loss: 1.7472 - accuracy: 0.3912 - val_loss: 1.7881 - val_accuracy: 0.3578\n",
      "Epoch 12/100\n",
      "337/337 [==============================] - 1s 2ms/step - loss: 1.7383 - accuracy: 0.3935 - val_loss: 1.7814 - val_accuracy: 0.3600\n",
      "Epoch 13/100\n",
      "337/337 [==============================] - 1s 2ms/step - loss: 1.7309 - accuracy: 0.3950 - val_loss: 1.7758 - val_accuracy: 0.3622\n",
      "Epoch 14/100\n",
      "337/337 [==============================] - 1s 2ms/step - loss: 1.7246 - accuracy: 0.3972 - val_loss: 1.7711 - val_accuracy: 0.3622\n",
      "Epoch 15/100\n",
      "337/337 [==============================] - 1s 2ms/step - loss: 1.7193 - accuracy: 0.3972 - val_loss: 1.7669 - val_accuracy: 0.3622\n",
      "Epoch 16/100\n",
      "337/337 [==============================] - 1s 2ms/step - loss: 1.7146 - accuracy: 0.3979 - val_loss: 1.7633 - val_accuracy: 0.3644\n",
      "Epoch 17/100\n",
      "337/337 [==============================] - 1s 2ms/step - loss: 1.7105 - accuracy: 0.3979 - val_loss: 1.7602 - val_accuracy: 0.3644\n",
      "Epoch 18/100\n",
      "337/337 [==============================] - 1s 2ms/step - loss: 1.7068 - accuracy: 0.3987 - val_loss: 1.7574 - val_accuracy: 0.3644\n",
      "Epoch 19/100\n",
      "337/337 [==============================] - 1s 2ms/step - loss: 1.7036 - accuracy: 0.4001 - val_loss: 1.7548 - val_accuracy: 0.3644\n",
      "Epoch 20/100\n",
      "337/337 [==============================] - 1s 2ms/step - loss: 1.7008 - accuracy: 0.4001 - val_loss: 1.7525 - val_accuracy: 0.3644\n",
      "Epoch 21/100\n",
      "337/337 [==============================] - 1s 2ms/step - loss: 1.6981 - accuracy: 0.4009 - val_loss: 1.7504 - val_accuracy: 0.3644\n",
      "Epoch 22/100\n",
      "337/337 [==============================] - 1s 2ms/step - loss: 1.6957 - accuracy: 0.4009 - val_loss: 1.7485 - val_accuracy: 0.3644\n",
      "Epoch 23/100\n",
      "337/337 [==============================] - 1s 2ms/step - loss: 1.6934 - accuracy: 0.4016 - val_loss: 1.7466 - val_accuracy: 0.3644\n",
      "Epoch 24/100\n",
      "337/337 [==============================] - 1s 2ms/step - loss: 1.6914 - accuracy: 0.4016 - val_loss: 1.7449 - val_accuracy: 0.3644\n",
      "Epoch 25/100\n",
      "337/337 [==============================] - 1s 2ms/step - loss: 1.6895 - accuracy: 0.4024 - val_loss: 1.7434 - val_accuracy: 0.3644\n",
      "Epoch 26/100\n",
      "337/337 [==============================] - 1s 2ms/step - loss: 1.6878 - accuracy: 0.4024 - val_loss: 1.7420 - val_accuracy: 0.3644\n"
     ]
    },
    {
     "name": "stdout",
     "output_type": "stream",
     "text": [
      "Epoch 27/100\n",
      "337/337 [==============================] - 1s 2ms/step - loss: 1.6862 - accuracy: 0.4009 - val_loss: 1.7408 - val_accuracy: 0.3644\n",
      "Epoch 28/100\n",
      "337/337 [==============================] - 1s 2ms/step - loss: 1.6847 - accuracy: 0.4009 - val_loss: 1.7397 - val_accuracy: 0.3644\n",
      "Epoch 29/100\n",
      "337/337 [==============================] - 1s 2ms/step - loss: 1.6833 - accuracy: 0.4009 - val_loss: 1.7386 - val_accuracy: 0.3644\n",
      "Epoch 30/100\n",
      "337/337 [==============================] - 1s 2ms/step - loss: 1.6819 - accuracy: 0.4009 - val_loss: 1.7376 - val_accuracy: 0.3644\n",
      "Epoch 31/100\n",
      "337/337 [==============================] - 1s 2ms/step - loss: 1.6806 - accuracy: 0.4009 - val_loss: 1.7366 - val_accuracy: 0.3644\n",
      "Epoch 32/100\n",
      "337/337 [==============================] - 1s 2ms/step - loss: 1.6794 - accuracy: 0.4009 - val_loss: 1.7356 - val_accuracy: 0.3644\n",
      "Epoch 33/100\n",
      "337/337 [==============================] - 1s 2ms/step - loss: 1.6782 - accuracy: 0.4009 - val_loss: 1.7348 - val_accuracy: 0.3644\n",
      "Epoch 34/100\n",
      "337/337 [==============================] - 1s 2ms/step - loss: 1.6771 - accuracy: 0.4009 - val_loss: 1.7339 - val_accuracy: 0.3622\n",
      "Epoch 35/100\n",
      "337/337 [==============================] - 1s 2ms/step - loss: 1.6761 - accuracy: 0.4009 - val_loss: 1.7331 - val_accuracy: 0.3622\n",
      "Epoch 36/100\n",
      "337/337 [==============================] - 1s 2ms/step - loss: 1.6751 - accuracy: 0.4009 - val_loss: 1.7323 - val_accuracy: 0.3622\n",
      "Epoch 37/100\n",
      "337/337 [==============================] - 1s 2ms/step - loss: 1.6741 - accuracy: 0.4009 - val_loss: 1.7315 - val_accuracy: 0.3622\n",
      "Epoch 38/100\n",
      "337/337 [==============================] - 1s 2ms/step - loss: 1.6732 - accuracy: 0.4009 - val_loss: 1.7308 - val_accuracy: 0.3622\n",
      "Epoch 39/100\n",
      "337/337 [==============================] - 1s 2ms/step - loss: 1.6723 - accuracy: 0.4009 - val_loss: 1.7301 - val_accuracy: 0.3622\n",
      "Epoch 40/100\n",
      "337/337 [==============================] - 1s 2ms/step - loss: 1.6715 - accuracy: 0.4009 - val_loss: 1.7295 - val_accuracy: 0.3622\n",
      "Epoch 41/100\n",
      "337/337 [==============================] - 1s 2ms/step - loss: 1.6707 - accuracy: 0.4009 - val_loss: 1.7288 - val_accuracy: 0.3622\n",
      "Epoch 42/100\n",
      "337/337 [==============================] - 1s 2ms/step - loss: 1.6700 - accuracy: 0.4009 - val_loss: 1.7282 - val_accuracy: 0.3622\n",
      "Epoch 43/100\n",
      "337/337 [==============================] - 1s 2ms/step - loss: 1.6693 - accuracy: 0.4009 - val_loss: 1.7276 - val_accuracy: 0.3622\n",
      "Epoch 44/100\n",
      "337/337 [==============================] - 1s 2ms/step - loss: 1.6686 - accuracy: 0.4009 - val_loss: 1.7271 - val_accuracy: 0.3622\n",
      "Epoch 45/100\n",
      "337/337 [==============================] - 1s 2ms/step - loss: 1.6679 - accuracy: 0.4009 - val_loss: 1.7266 - val_accuracy: 0.3622\n",
      "Epoch 46/100\n",
      "337/337 [==============================] - 1s 2ms/step - loss: 1.6672 - accuracy: 0.4009 - val_loss: 1.7260 - val_accuracy: 0.3622\n",
      "Epoch 47/100\n",
      "337/337 [==============================] - 1s 2ms/step - loss: 1.6666 - accuracy: 0.4009 - val_loss: 1.7256 - val_accuracy: 0.3622\n",
      "Epoch 48/100\n",
      "337/337 [==============================] - 1s 2ms/step - loss: 1.6660 - accuracy: 0.4009 - val_loss: 1.7251 - val_accuracy: 0.3622\n",
      "Epoch 49/100\n",
      "337/337 [==============================] - 1s 2ms/step - loss: 1.6654 - accuracy: 0.4009 - val_loss: 1.7246 - val_accuracy: 0.3600\n",
      "Epoch 50/100\n",
      "337/337 [==============================] - 1s 2ms/step - loss: 1.6649 - accuracy: 0.4009 - val_loss: 1.7242 - val_accuracy: 0.3600\n",
      "Epoch 51/100\n",
      "337/337 [==============================] - 1s 2ms/step - loss: 1.6644 - accuracy: 0.4009 - val_loss: 1.7238 - val_accuracy: 0.3600\n",
      "Epoch 52/100\n",
      "337/337 [==============================] - 1s 2ms/step - loss: 1.6639 - accuracy: 0.4009 - val_loss: 1.7234 - val_accuracy: 0.3600\n",
      "Epoch 53/100\n",
      "337/337 [==============================] - 1s 2ms/step - loss: 1.6634 - accuracy: 0.4009 - val_loss: 1.7230 - val_accuracy: 0.3600\n",
      "Epoch 54/100\n",
      "337/337 [==============================] - 1s 2ms/step - loss: 1.6629 - accuracy: 0.4016 - val_loss: 1.7225 - val_accuracy: 0.3622\n",
      "Epoch 55/100\n",
      "337/337 [==============================] - 1s 2ms/step - loss: 1.6624 - accuracy: 0.4016 - val_loss: 1.7221 - val_accuracy: 0.3622\n",
      "Epoch 56/100\n",
      "337/337 [==============================] - 1s 2ms/step - loss: 1.6619 - accuracy: 0.4016 - val_loss: 1.7218 - val_accuracy: 0.3622\n",
      "Epoch 57/100\n",
      "337/337 [==============================] - 1s 2ms/step - loss: 1.6615 - accuracy: 0.4016 - val_loss: 1.7214 - val_accuracy: 0.3622\n",
      "Epoch 58/100\n",
      "337/337 [==============================] - 1s 2ms/step - loss: 1.6610 - accuracy: 0.4016 - val_loss: 1.7210 - val_accuracy: 0.3622\n",
      "Epoch 59/100\n",
      "337/337 [==============================] - 1s 2ms/step - loss: 1.6606 - accuracy: 0.4016 - val_loss: 1.7207 - val_accuracy: 0.3622\n",
      "Epoch 60/100\n",
      "337/337 [==============================] - 1s 2ms/step - loss: 1.6602 - accuracy: 0.4016 - val_loss: 1.7204 - val_accuracy: 0.3622\n",
      "Epoch 61/100\n",
      "337/337 [==============================] - 1s 2ms/step - loss: 1.6598 - accuracy: 0.4016 - val_loss: 1.7201 - val_accuracy: 0.3622\n",
      "Epoch 62/100\n",
      "337/337 [==============================] - 1s 2ms/step - loss: 1.6594 - accuracy: 0.4016 - val_loss: 1.7198 - val_accuracy: 0.3622\n",
      "Epoch 63/100\n",
      "337/337 [==============================] - 1s 2ms/step - loss: 1.6591 - accuracy: 0.4016 - val_loss: 1.7195 - val_accuracy: 0.3622\n",
      "Epoch 64/100\n",
      "337/337 [==============================] - 1s 2ms/step - loss: 1.6587 - accuracy: 0.4016 - val_loss: 1.7192 - val_accuracy: 0.3622\n",
      "Epoch 65/100\n",
      "337/337 [==============================] - 1s 2ms/step - loss: 1.6584 - accuracy: 0.4016 - val_loss: 1.7190 - val_accuracy: 0.3622\n",
      "Epoch 66/100\n",
      "337/337 [==============================] - 1s 2ms/step - loss: 1.6580 - accuracy: 0.4016 - val_loss: 1.7187 - val_accuracy: 0.3622\n",
      "Epoch 67/100\n",
      "337/337 [==============================] - 1s 2ms/step - loss: 1.6577 - accuracy: 0.4016 - val_loss: 1.7185 - val_accuracy: 0.3600\n",
      "Epoch 68/100\n",
      "337/337 [==============================] - 1s 2ms/step - loss: 1.6573 - accuracy: 0.4016 - val_loss: 1.7182 - val_accuracy: 0.3600\n",
      "Epoch 69/100\n",
      "337/337 [==============================] - 1s 2ms/step - loss: 1.6570 - accuracy: 0.4024 - val_loss: 1.7179 - val_accuracy: 0.3600\n",
      "Epoch 70/100\n",
      "337/337 [==============================] - 1s 2ms/step - loss: 1.6567 - accuracy: 0.4016 - val_loss: 1.7176 - val_accuracy: 0.3600\n",
      "Epoch 71/100\n",
      "337/337 [==============================] - 1s 2ms/step - loss: 1.6564 - accuracy: 0.4024 - val_loss: 1.7174 - val_accuracy: 0.3600\n",
      "Epoch 72/100\n",
      "337/337 [==============================] - 1s 2ms/step - loss: 1.6560 - accuracy: 0.4024 - val_loss: 1.7171 - val_accuracy: 0.3600\n",
      "Epoch 73/100\n",
      "337/337 [==============================] - 1s 2ms/step - loss: 1.6558 - accuracy: 0.4024 - val_loss: 1.7169 - val_accuracy: 0.3600\n",
      "Epoch 74/100\n",
      "337/337 [==============================] - 1s 2ms/step - loss: 1.6555 - accuracy: 0.4024 - val_loss: 1.7166 - val_accuracy: 0.3600\n",
      "Epoch 75/100\n",
      "337/337 [==============================] - 1s 2ms/step - loss: 1.6552 - accuracy: 0.4031 - val_loss: 1.7164 - val_accuracy: 0.3600\n",
      "Epoch 76/100\n",
      "337/337 [==============================] - 1s 2ms/step - loss: 1.6549 - accuracy: 0.4031 - val_loss: 1.7162 - val_accuracy: 0.3600\n",
      "Epoch 77/100\n",
      "337/337 [==============================] - 1s 2ms/step - loss: 1.6547 - accuracy: 0.4031 - val_loss: 1.7160 - val_accuracy: 0.3600\n",
      "Epoch 78/100\n",
      "337/337 [==============================] - 1s 2ms/step - loss: 1.6544 - accuracy: 0.4031 - val_loss: 1.7158 - val_accuracy: 0.3600\n",
      "Epoch 79/100\n",
      "337/337 [==============================] - 1s 2ms/step - loss: 1.6541 - accuracy: 0.4031 - val_loss: 1.7156 - val_accuracy: 0.3600\n",
      "Epoch 80/100\n",
      "337/337 [==============================] - 1s 2ms/step - loss: 1.6539 - accuracy: 0.4031 - val_loss: 1.7153 - val_accuracy: 0.3600\n",
      "Epoch 81/100\n",
      "337/337 [==============================] - 1s 2ms/step - loss: 1.6536 - accuracy: 0.4031 - val_loss: 1.7152 - val_accuracy: 0.3600\n",
      "Epoch 82/100\n",
      "337/337 [==============================] - 1s 2ms/step - loss: 1.6534 - accuracy: 0.4031 - val_loss: 1.7149 - val_accuracy: 0.3600\n",
      "Epoch 83/100\n",
      "337/337 [==============================] - 1s 2ms/step - loss: 1.6532 - accuracy: 0.4024 - val_loss: 1.7148 - val_accuracy: 0.3600\n"
     ]
    },
    {
     "name": "stdout",
     "output_type": "stream",
     "text": [
      "Epoch 84/100\n",
      "337/337 [==============================] - 1s 2ms/step - loss: 1.6529 - accuracy: 0.4024 - val_loss: 1.7146 - val_accuracy: 0.3600\n",
      "Epoch 85/100\n",
      "337/337 [==============================] - 1s 2ms/step - loss: 1.6527 - accuracy: 0.4024 - val_loss: 1.7144 - val_accuracy: 0.3600\n",
      "Epoch 86/100\n",
      "337/337 [==============================] - 1s 2ms/step - loss: 1.6525 - accuracy: 0.4024 - val_loss: 1.7142 - val_accuracy: 0.3600\n",
      "Epoch 87/100\n",
      "337/337 [==============================] - 1s 2ms/step - loss: 1.6523 - accuracy: 0.4024 - val_loss: 1.7140 - val_accuracy: 0.3600\n",
      "Epoch 88/100\n",
      "337/337 [==============================] - 1s 2ms/step - loss: 1.6521 - accuracy: 0.4024 - val_loss: 1.7138 - val_accuracy: 0.3600\n",
      "Epoch 89/100\n",
      "337/337 [==============================] - 1s 2ms/step - loss: 1.6518 - accuracy: 0.4031 - val_loss: 1.7136 - val_accuracy: 0.3600\n",
      "Epoch 90/100\n",
      "337/337 [==============================] - 1s 2ms/step - loss: 1.6516 - accuracy: 0.4031 - val_loss: 1.7135 - val_accuracy: 0.3622\n",
      "Epoch 91/100\n",
      "337/337 [==============================] - 1s 2ms/step - loss: 1.6514 - accuracy: 0.4031 - val_loss: 1.7133 - val_accuracy: 0.3622\n",
      "Epoch 92/100\n",
      "337/337 [==============================] - 1s 2ms/step - loss: 1.6512 - accuracy: 0.4031 - val_loss: 1.7131 - val_accuracy: 0.3622\n",
      "Epoch 93/100\n",
      "337/337 [==============================] - 1s 2ms/step - loss: 1.6510 - accuracy: 0.4031 - val_loss: 1.7130 - val_accuracy: 0.3622\n",
      "Epoch 94/100\n",
      "337/337 [==============================] - 1s 2ms/step - loss: 1.6508 - accuracy: 0.4031 - val_loss: 1.7128 - val_accuracy: 0.3622\n",
      "Epoch 95/100\n",
      "337/337 [==============================] - 1s 2ms/step - loss: 1.6506 - accuracy: 0.4031 - val_loss: 1.7127 - val_accuracy: 0.3622\n",
      "Epoch 96/100\n",
      "337/337 [==============================] - 1s 2ms/step - loss: 1.6504 - accuracy: 0.4031 - val_loss: 1.7125 - val_accuracy: 0.3622\n",
      "Epoch 97/100\n",
      "337/337 [==============================] - 1s 2ms/step - loss: 1.6502 - accuracy: 0.4031 - val_loss: 1.7124 - val_accuracy: 0.3622\n",
      "Epoch 98/100\n",
      "337/337 [==============================] - 1s 2ms/step - loss: 1.6501 - accuracy: 0.4031 - val_loss: 1.7123 - val_accuracy: 0.3622\n",
      "Epoch 99/100\n",
      "337/337 [==============================] - 1s 2ms/step - loss: 1.6499 - accuracy: 0.4031 - val_loss: 1.7121 - val_accuracy: 0.3622\n",
      "Epoch 100/100\n",
      "337/337 [==============================] - 1s 2ms/step - loss: 1.6497 - accuracy: 0.4031 - val_loss: 1.7120 - val_accuracy: 0.3622\n",
      "337/337 [==============================] - 0s 1ms/step - loss: 1.6488 - accuracy: 0.4031\n",
      "113/113 [==============================] - 0s 1ms/step - loss: 1.7120 - accuracy: 0.3622\n",
      "Epoch 1/100\n",
      "337/337 [==============================] - 1s 2ms/step - loss: 2.1535 - accuracy: 0.3170 - val_loss: 2.0393 - val_accuracy: 0.3711\n",
      "Epoch 2/100\n",
      "337/337 [==============================] - 1s 2ms/step - loss: 1.9310 - accuracy: 0.3964 - val_loss: 1.8725 - val_accuracy: 0.3978\n",
      "Epoch 3/100\n",
      "337/337 [==============================] - 1s 2ms/step - loss: 1.7958 - accuracy: 0.4135 - val_loss: 1.7580 - val_accuracy: 0.4156\n",
      "Epoch 4/100\n",
      "337/337 [==============================] - 1s 2ms/step - loss: 1.6926 - accuracy: 0.4306 - val_loss: 1.6621 - val_accuracy: 0.4356\n",
      "Epoch 5/100\n",
      "337/337 [==============================] - 1s 2ms/step - loss: 1.6053 - accuracy: 0.4521 - val_loss: 1.5948 - val_accuracy: 0.4556\n",
      "Epoch 6/100\n",
      "337/337 [==============================] - 1s 2ms/step - loss: 1.5433 - accuracy: 0.4662 - val_loss: 1.5476 - val_accuracy: 0.4622\n",
      "Epoch 7/100\n",
      "337/337 [==============================] - 1s 2ms/step - loss: 1.4997 - accuracy: 0.4692 - val_loss: 1.5132 - val_accuracy: 0.4667\n",
      "Epoch 8/100\n",
      "337/337 [==============================] - 1s 2ms/step - loss: 1.4679 - accuracy: 0.4722 - val_loss: 1.4869 - val_accuracy: 0.4644\n",
      "Epoch 9/100\n",
      "337/337 [==============================] - 1s 2ms/step - loss: 1.4439 - accuracy: 0.4751 - val_loss: 1.4663 - val_accuracy: 0.4711\n",
      "Epoch 10/100\n",
      "337/337 [==============================] - 1s 2ms/step - loss: 1.4250 - accuracy: 0.4766 - val_loss: 1.4495 - val_accuracy: 0.4733\n",
      "Epoch 11/100\n",
      "337/337 [==============================] - 1s 2ms/step - loss: 1.4095 - accuracy: 0.4774 - val_loss: 1.4356 - val_accuracy: 0.4711\n",
      "Epoch 12/100\n",
      "337/337 [==============================] - 1s 2ms/step - loss: 1.3966 - accuracy: 0.4788 - val_loss: 1.4238 - val_accuracy: 0.4711\n",
      "Epoch 13/100\n",
      "337/337 [==============================] - 1s 2ms/step - loss: 1.3858 - accuracy: 0.4788 - val_loss: 1.4139 - val_accuracy: 0.4711\n",
      "Epoch 14/100\n",
      "337/337 [==============================] - 1s 2ms/step - loss: 1.3764 - accuracy: 0.4803 - val_loss: 1.4053 - val_accuracy: 0.4711\n",
      "Epoch 15/100\n",
      "337/337 [==============================] - 1s 2ms/step - loss: 1.3684 - accuracy: 0.4803 - val_loss: 1.3978 - val_accuracy: 0.4711\n",
      "Epoch 16/100\n",
      "337/337 [==============================] - 1s 2ms/step - loss: 1.3614 - accuracy: 0.4803 - val_loss: 1.3913 - val_accuracy: 0.4733\n",
      "Epoch 17/100\n",
      "337/337 [==============================] - 1s 2ms/step - loss: 1.3552 - accuracy: 0.4818 - val_loss: 1.3853 - val_accuracy: 0.4733\n",
      "Epoch 18/100\n",
      "337/337 [==============================] - 1s 2ms/step - loss: 1.3497 - accuracy: 0.4818 - val_loss: 1.3800 - val_accuracy: 0.4733\n",
      "Epoch 19/100\n",
      "337/337 [==============================] - 1s 2ms/step - loss: 1.3448 - accuracy: 0.4833 - val_loss: 1.3750 - val_accuracy: 0.4733\n",
      "Epoch 20/100\n",
      "337/337 [==============================] - 1s 2ms/step - loss: 1.3403 - accuracy: 0.4833 - val_loss: 1.3708 - val_accuracy: 0.4733\n",
      "Epoch 21/100\n",
      "337/337 [==============================] - 1s 2ms/step - loss: 1.3363 - accuracy: 0.4833 - val_loss: 1.3669 - val_accuracy: 0.4733\n",
      "Epoch 22/100\n",
      "337/337 [==============================] - 1s 2ms/step - loss: 1.3327 - accuracy: 0.4833 - val_loss: 1.3633 - val_accuracy: 0.4733\n",
      "Epoch 23/100\n",
      "337/337 [==============================] - 1s 2ms/step - loss: 1.3294 - accuracy: 0.4833 - val_loss: 1.3599 - val_accuracy: 0.4733\n",
      "Epoch 24/100\n",
      "337/337 [==============================] - 1s 2ms/step - loss: 1.3263 - accuracy: 0.4833 - val_loss: 1.3569 - val_accuracy: 0.4733\n",
      "Epoch 25/100\n",
      "337/337 [==============================] - 1s 2ms/step - loss: 1.3235 - accuracy: 0.4833 - val_loss: 1.3541 - val_accuracy: 0.4733\n",
      "Epoch 26/100\n",
      "337/337 [==============================] - 1s 2ms/step - loss: 1.3209 - accuracy: 0.4833 - val_loss: 1.3514 - val_accuracy: 0.4733\n",
      "Epoch 27/100\n",
      "337/337 [==============================] - 1s 2ms/step - loss: 1.3184 - accuracy: 0.4833 - val_loss: 1.3490 - val_accuracy: 0.4733\n",
      "Epoch 28/100\n",
      "337/337 [==============================] - 1s 2ms/step - loss: 1.3162 - accuracy: 0.4833 - val_loss: 1.3467 - val_accuracy: 0.4733\n",
      "Epoch 29/100\n",
      "337/337 [==============================] - 1s 2ms/step - loss: 1.3140 - accuracy: 0.4833 - val_loss: 1.3445 - val_accuracy: 0.4733\n",
      "Epoch 30/100\n",
      "337/337 [==============================] - 1s 2ms/step - loss: 1.3120 - accuracy: 0.4833 - val_loss: 1.3425 - val_accuracy: 0.4733\n",
      "Epoch 31/100\n",
      "337/337 [==============================] - 1s 2ms/step - loss: 1.3101 - accuracy: 0.4833 - val_loss: 1.3406 - val_accuracy: 0.4733\n",
      "Epoch 32/100\n",
      "337/337 [==============================] - 1s 2ms/step - loss: 1.3084 - accuracy: 0.4833 - val_loss: 1.3387 - val_accuracy: 0.4733\n",
      "Epoch 33/100\n",
      "337/337 [==============================] - 1s 2ms/step - loss: 1.3067 - accuracy: 0.4833 - val_loss: 1.3370 - val_accuracy: 0.4733\n",
      "Epoch 34/100\n",
      "337/337 [==============================] - 1s 2ms/step - loss: 1.3050 - accuracy: 0.4833 - val_loss: 1.3356 - val_accuracy: 0.4733\n",
      "Epoch 35/100\n",
      "337/337 [==============================] - 1s 2ms/step - loss: 1.3035 - accuracy: 0.4840 - val_loss: 1.3340 - val_accuracy: 0.4733\n",
      "Epoch 36/100\n",
      "337/337 [==============================] - 1s 2ms/step - loss: 1.3021 - accuracy: 0.4848 - val_loss: 1.3325 - val_accuracy: 0.4733\n",
      "Epoch 37/100\n",
      "337/337 [==============================] - 1s 2ms/step - loss: 1.3006 - accuracy: 0.4855 - val_loss: 1.3313 - val_accuracy: 0.4733\n",
      "Epoch 38/100\n",
      "337/337 [==============================] - 1s 2ms/step - loss: 1.2993 - accuracy: 0.4855 - val_loss: 1.3303 - val_accuracy: 0.4733\n",
      "Epoch 39/100\n",
      "337/337 [==============================] - 1s 2ms/step - loss: 1.2980 - accuracy: 0.4863 - val_loss: 1.3290 - val_accuracy: 0.4733\n"
     ]
    },
    {
     "name": "stdout",
     "output_type": "stream",
     "text": [
      "Epoch 40/100\n",
      "337/337 [==============================] - 1s 2ms/step - loss: 1.2968 - accuracy: 0.4863 - val_loss: 1.3280 - val_accuracy: 0.4733\n",
      "Epoch 41/100\n",
      "337/337 [==============================] - 1s 2ms/step - loss: 1.2956 - accuracy: 0.4863 - val_loss: 1.3269 - val_accuracy: 0.4733\n",
      "Epoch 42/100\n",
      "337/337 [==============================] - 1s 2ms/step - loss: 1.2944 - accuracy: 0.4863 - val_loss: 1.3260 - val_accuracy: 0.4733\n",
      "Epoch 43/100\n",
      "337/337 [==============================] - 1s 2ms/step - loss: 1.2934 - accuracy: 0.4863 - val_loss: 1.3251 - val_accuracy: 0.4733\n",
      "Epoch 44/100\n",
      "337/337 [==============================] - 1s 2ms/step - loss: 1.2923 - accuracy: 0.4863 - val_loss: 1.3239 - val_accuracy: 0.4733\n",
      "Epoch 45/100\n",
      "337/337 [==============================] - 1s 2ms/step - loss: 1.2912 - accuracy: 0.4863 - val_loss: 1.3231 - val_accuracy: 0.4733\n",
      "Epoch 46/100\n",
      "337/337 [==============================] - 1s 2ms/step - loss: 1.2903 - accuracy: 0.4863 - val_loss: 1.3222 - val_accuracy: 0.4733\n",
      "Epoch 47/100\n",
      "337/337 [==============================] - 1s 2ms/step - loss: 1.2893 - accuracy: 0.4863 - val_loss: 1.3215 - val_accuracy: 0.4733\n",
      "Epoch 48/100\n",
      "337/337 [==============================] - 1s 2ms/step - loss: 1.2885 - accuracy: 0.4863 - val_loss: 1.3208 - val_accuracy: 0.4733\n",
      "Epoch 49/100\n",
      "337/337 [==============================] - 1s 2ms/step - loss: 1.2876 - accuracy: 0.4863 - val_loss: 1.3198 - val_accuracy: 0.4733\n",
      "Epoch 50/100\n",
      "337/337 [==============================] - 1s 2ms/step - loss: 1.2868 - accuracy: 0.4863 - val_loss: 1.3191 - val_accuracy: 0.4733\n",
      "Epoch 51/100\n",
      "337/337 [==============================] - 1s 2ms/step - loss: 1.2860 - accuracy: 0.4863 - val_loss: 1.3185 - val_accuracy: 0.4733\n",
      "Epoch 52/100\n",
      "337/337 [==============================] - 1s 2ms/step - loss: 1.2853 - accuracy: 0.4863 - val_loss: 1.3178 - val_accuracy: 0.4733\n",
      "Epoch 53/100\n",
      "337/337 [==============================] - 1s 2ms/step - loss: 1.2845 - accuracy: 0.4863 - val_loss: 1.3172 - val_accuracy: 0.4733\n",
      "Epoch 54/100\n",
      "337/337 [==============================] - 1s 2ms/step - loss: 1.2838 - accuracy: 0.4863 - val_loss: 1.3165 - val_accuracy: 0.4733\n",
      "Epoch 55/100\n",
      "337/337 [==============================] - 1s 2ms/step - loss: 1.2831 - accuracy: 0.4863 - val_loss: 1.3160 - val_accuracy: 0.4733\n",
      "Epoch 56/100\n",
      "337/337 [==============================] - 1s 2ms/step - loss: 1.2825 - accuracy: 0.4863 - val_loss: 1.3154 - val_accuracy: 0.4733\n",
      "Epoch 57/100\n",
      "337/337 [==============================] - 1s 2ms/step - loss: 1.2818 - accuracy: 0.4863 - val_loss: 1.3149 - val_accuracy: 0.4733\n",
      "Epoch 58/100\n",
      "337/337 [==============================] - 1s 2ms/step - loss: 1.2812 - accuracy: 0.4870 - val_loss: 1.3142 - val_accuracy: 0.4733\n",
      "Epoch 59/100\n",
      "337/337 [==============================] - 1s 2ms/step - loss: 1.2807 - accuracy: 0.4870 - val_loss: 1.3137 - val_accuracy: 0.4733\n",
      "Epoch 60/100\n",
      "337/337 [==============================] - 1s 2ms/step - loss: 1.2801 - accuracy: 0.4870 - val_loss: 1.3132 - val_accuracy: 0.4733\n",
      "Epoch 61/100\n",
      "337/337 [==============================] - 1s 2ms/step - loss: 1.2795 - accuracy: 0.4870 - val_loss: 1.3126 - val_accuracy: 0.4733\n",
      "Epoch 62/100\n",
      "337/337 [==============================] - 1s 2ms/step - loss: 1.2789 - accuracy: 0.4870 - val_loss: 1.3120 - val_accuracy: 0.4733\n",
      "Epoch 63/100\n",
      "337/337 [==============================] - 1s 2ms/step - loss: 1.2783 - accuracy: 0.4870 - val_loss: 1.3115 - val_accuracy: 0.4733\n",
      "Epoch 64/100\n",
      "337/337 [==============================] - 1s 2ms/step - loss: 1.2778 - accuracy: 0.4870 - val_loss: 1.3109 - val_accuracy: 0.4733\n",
      "Epoch 65/100\n",
      "337/337 [==============================] - 1s 2ms/step - loss: 1.2773 - accuracy: 0.4870 - val_loss: 1.3104 - val_accuracy: 0.4733\n",
      "Epoch 66/100\n",
      "337/337 [==============================] - 1s 2ms/step - loss: 1.2768 - accuracy: 0.4870 - val_loss: 1.3098 - val_accuracy: 0.4733\n",
      "Epoch 67/100\n",
      "337/337 [==============================] - 1s 2ms/step - loss: 1.2763 - accuracy: 0.4870 - val_loss: 1.3095 - val_accuracy: 0.4733\n",
      "Epoch 68/100\n",
      "337/337 [==============================] - 1s 2ms/step - loss: 1.2758 - accuracy: 0.4870 - val_loss: 1.3090 - val_accuracy: 0.4733\n",
      "Epoch 69/100\n",
      "337/337 [==============================] - 1s 2ms/step - loss: 1.2753 - accuracy: 0.4870 - val_loss: 1.3086 - val_accuracy: 0.4733\n",
      "Epoch 70/100\n",
      "337/337 [==============================] - 1s 2ms/step - loss: 1.2749 - accuracy: 0.4863 - val_loss: 1.3085 - val_accuracy: 0.4733\n",
      "Epoch 71/100\n",
      "337/337 [==============================] - 1s 2ms/step - loss: 1.2744 - accuracy: 0.4863 - val_loss: 1.3081 - val_accuracy: 0.4733\n",
      "Epoch 72/100\n",
      "337/337 [==============================] - 1s 2ms/step - loss: 1.2740 - accuracy: 0.4863 - val_loss: 1.3077 - val_accuracy: 0.4733\n",
      "Epoch 73/100\n",
      "337/337 [==============================] - 1s 2ms/step - loss: 1.2736 - accuracy: 0.4863 - val_loss: 1.3074 - val_accuracy: 0.4733\n",
      "Epoch 74/100\n",
      "337/337 [==============================] - 1s 2ms/step - loss: 1.2732 - accuracy: 0.4863 - val_loss: 1.3071 - val_accuracy: 0.4733\n",
      "Epoch 75/100\n",
      "337/337 [==============================] - 1s 2ms/step - loss: 1.2729 - accuracy: 0.4863 - val_loss: 1.3069 - val_accuracy: 0.4733\n",
      "Epoch 76/100\n",
      "337/337 [==============================] - 1s 2ms/step - loss: 1.2725 - accuracy: 0.4870 - val_loss: 1.3067 - val_accuracy: 0.4733\n",
      "Epoch 77/100\n",
      "337/337 [==============================] - 1s 2ms/step - loss: 1.2722 - accuracy: 0.4870 - val_loss: 1.3065 - val_accuracy: 0.4733\n",
      "Epoch 78/100\n",
      "337/337 [==============================] - 1s 2ms/step - loss: 1.2718 - accuracy: 0.4870 - val_loss: 1.3063 - val_accuracy: 0.4733\n",
      "Epoch 79/100\n",
      "337/337 [==============================] - 1s 2ms/step - loss: 1.2715 - accuracy: 0.4870 - val_loss: 1.3059 - val_accuracy: 0.4733\n",
      "Epoch 80/100\n",
      "337/337 [==============================] - 1s 2ms/step - loss: 1.2711 - accuracy: 0.4870 - val_loss: 1.3057 - val_accuracy: 0.4733\n",
      "Epoch 81/100\n",
      "337/337 [==============================] - 1s 2ms/step - loss: 1.2708 - accuracy: 0.4870 - val_loss: 1.3054 - val_accuracy: 0.4733\n",
      "Epoch 82/100\n",
      "337/337 [==============================] - 1s 2ms/step - loss: 1.2705 - accuracy: 0.4870 - val_loss: 1.3051 - val_accuracy: 0.4733\n",
      "Epoch 83/100\n",
      "337/337 [==============================] - 1s 2ms/step - loss: 1.2701 - accuracy: 0.4870 - val_loss: 1.3050 - val_accuracy: 0.4733\n",
      "Epoch 84/100\n",
      "337/337 [==============================] - 1s 2ms/step - loss: 1.2699 - accuracy: 0.4863 - val_loss: 1.3049 - val_accuracy: 0.4733\n",
      "Epoch 85/100\n",
      "337/337 [==============================] - 1s 2ms/step - loss: 1.2697 - accuracy: 0.4863 - val_loss: 1.3045 - val_accuracy: 0.4733\n",
      "Epoch 86/100\n",
      "337/337 [==============================] - 1s 2ms/step - loss: 1.2694 - accuracy: 0.4863 - val_loss: 1.3043 - val_accuracy: 0.4733\n",
      "Epoch 87/100\n",
      "337/337 [==============================] - 1s 2ms/step - loss: 1.2691 - accuracy: 0.4863 - val_loss: 1.3041 - val_accuracy: 0.4733\n",
      "Epoch 88/100\n",
      "337/337 [==============================] - 1s 2ms/step - loss: 1.2688 - accuracy: 0.4863 - val_loss: 1.3037 - val_accuracy: 0.4733\n",
      "Epoch 89/100\n",
      "337/337 [==============================] - 1s 2ms/step - loss: 1.2684 - accuracy: 0.4863 - val_loss: 1.3038 - val_accuracy: 0.4733\n",
      "Epoch 90/100\n",
      "337/337 [==============================] - 1s 2ms/step - loss: 1.2681 - accuracy: 0.4863 - val_loss: 1.3035 - val_accuracy: 0.4733\n",
      "Epoch 91/100\n",
      "337/337 [==============================] - 1s 2ms/step - loss: 1.2678 - accuracy: 0.4863 - val_loss: 1.3032 - val_accuracy: 0.4733\n",
      "Epoch 92/100\n",
      "337/337 [==============================] - 1s 2ms/step - loss: 1.2676 - accuracy: 0.4863 - val_loss: 1.3031 - val_accuracy: 0.4733\n",
      "Epoch 93/100\n",
      "337/337 [==============================] - 1s 2ms/step - loss: 1.2673 - accuracy: 0.4863 - val_loss: 1.3029 - val_accuracy: 0.4733\n",
      "Epoch 94/100\n",
      "337/337 [==============================] - 1s 2ms/step - loss: 1.2670 - accuracy: 0.4863 - val_loss: 1.3028 - val_accuracy: 0.4733\n",
      "Epoch 95/100\n",
      "337/337 [==============================] - 1s 2ms/step - loss: 1.2668 - accuracy: 0.4863 - val_loss: 1.3025 - val_accuracy: 0.4733\n",
      "Epoch 96/100\n",
      "337/337 [==============================] - 1s 2ms/step - loss: 1.2665 - accuracy: 0.4863 - val_loss: 1.3025 - val_accuracy: 0.4733\n"
     ]
    },
    {
     "name": "stdout",
     "output_type": "stream",
     "text": [
      "Epoch 97/100\n",
      "337/337 [==============================] - 1s 2ms/step - loss: 1.2662 - accuracy: 0.4855 - val_loss: 1.3023 - val_accuracy: 0.4733\n",
      "Epoch 98/100\n",
      "337/337 [==============================] - 1s 2ms/step - loss: 1.2659 - accuracy: 0.4855 - val_loss: 1.3021 - val_accuracy: 0.4733\n",
      "Epoch 99/100\n",
      "337/337 [==============================] - 1s 2ms/step - loss: 1.2657 - accuracy: 0.4848 - val_loss: 1.3019 - val_accuracy: 0.4733\n",
      "Epoch 100/100\n",
      "337/337 [==============================] - 1s 2ms/step - loss: 1.2654 - accuracy: 0.4848 - val_loss: 1.3017 - val_accuracy: 0.4733\n",
      "337/337 [==============================] - 0s 1ms/step - loss: 1.2642 - accuracy: 0.4855\n",
      "113/113 [==============================] - 0s 1ms/step - loss: 1.3017 - accuracy: 0.4733\n"
     ]
    }
   ],
   "source": [
    "alpha = [0.1, 0.01,0.001, 0.0001]\n",
    "result_acc = []\n",
    "result_val_acc = []\n",
    "for i in alpha:\n",
    "    inp = tf.keras.layers.Input(shape = img_shape)\n",
    "    flat = tf.keras.layers.Flatten()(inp)\n",
    "    fc1 = tf.keras.layers.Dense(10, activation='relu')(flat)\n",
    "    out = tf.keras.layers.Softmax()(fc1)\n",
    "    model = tf.keras.models.Model(inputs = inp, outputs = out)\n",
    "    loss = tf.keras.losses.CategoricalCrossentropy()\n",
    "    metrics = ['accuracy']\n",
    "    optimizer = tf.keras.optimizers.Adam(lr = 0.01, clipnorm = 5)\n",
    "    model.compile(loss = loss, metrics = metrics)\n",
    "    model.fit(dataset,  epochs = 100, validation_data = dataset_val)\n",
    "    acc = model.evaluate(dataset)[1]\n",
    "    val_acc = model.evaluate(dataset_val)[1]\n",
    "    result_acc.append(acc)\n",
    "    result_val_acc.append(val_acc)"
   ]
  },
  {
   "cell_type": "markdown",
   "metadata": {},
   "source": [
    "<b> Визуализируем полученные данные"
   ]
  },
  {
   "cell_type": "code",
   "execution_count": 148,
   "metadata": {},
   "outputs": [],
   "source": [
    "import plotly.graph_objects as go"
   ]
  },
  {
   "cell_type": "code",
   "execution_count": 155,
   "metadata": {},
   "outputs": [
    {
     "data": {
      "application/vnd.plotly.v1+json": {
       "config": {
        "plotlyServerURL": "https://plot.ly"
       },
       "data": [
        {
         "mode": "markers",
         "name": "Accuracy",
         "type": "scatter",
         "x": [
          0.1,
          0.01,
          0.001,
          0.0001
         ],
         "y": [
          0.39123979210853577,
          0.5760950446128845,
          0.4031180441379547,
          0.48552337288856506
         ]
        },
        {
         "mode": "markers",
         "name": "Val accuracy",
         "type": "scatter",
         "x": [
          0.1,
          0.01,
          0.001,
          0.0001
         ],
         "y": [
          0.3777777850627899,
          0.5777778029441833,
          0.36222222447395325,
          0.47333332896232605
         ]
        }
       ],
       "layout": {
        "template": {
         "data": {
          "bar": [
           {
            "error_x": {
             "color": "#2a3f5f"
            },
            "error_y": {
             "color": "#2a3f5f"
            },
            "marker": {
             "line": {
              "color": "#E5ECF6",
              "width": 0.5
             }
            },
            "type": "bar"
           }
          ],
          "barpolar": [
           {
            "marker": {
             "line": {
              "color": "#E5ECF6",
              "width": 0.5
             }
            },
            "type": "barpolar"
           }
          ],
          "carpet": [
           {
            "aaxis": {
             "endlinecolor": "#2a3f5f",
             "gridcolor": "white",
             "linecolor": "white",
             "minorgridcolor": "white",
             "startlinecolor": "#2a3f5f"
            },
            "baxis": {
             "endlinecolor": "#2a3f5f",
             "gridcolor": "white",
             "linecolor": "white",
             "minorgridcolor": "white",
             "startlinecolor": "#2a3f5f"
            },
            "type": "carpet"
           }
          ],
          "choropleth": [
           {
            "colorbar": {
             "outlinewidth": 0,
             "ticks": ""
            },
            "type": "choropleth"
           }
          ],
          "contour": [
           {
            "colorbar": {
             "outlinewidth": 0,
             "ticks": ""
            },
            "colorscale": [
             [
              0,
              "#0d0887"
             ],
             [
              0.1111111111111111,
              "#46039f"
             ],
             [
              0.2222222222222222,
              "#7201a8"
             ],
             [
              0.3333333333333333,
              "#9c179e"
             ],
             [
              0.4444444444444444,
              "#bd3786"
             ],
             [
              0.5555555555555556,
              "#d8576b"
             ],
             [
              0.6666666666666666,
              "#ed7953"
             ],
             [
              0.7777777777777778,
              "#fb9f3a"
             ],
             [
              0.8888888888888888,
              "#fdca26"
             ],
             [
              1,
              "#f0f921"
             ]
            ],
            "type": "contour"
           }
          ],
          "contourcarpet": [
           {
            "colorbar": {
             "outlinewidth": 0,
             "ticks": ""
            },
            "type": "contourcarpet"
           }
          ],
          "heatmap": [
           {
            "colorbar": {
             "outlinewidth": 0,
             "ticks": ""
            },
            "colorscale": [
             [
              0,
              "#0d0887"
             ],
             [
              0.1111111111111111,
              "#46039f"
             ],
             [
              0.2222222222222222,
              "#7201a8"
             ],
             [
              0.3333333333333333,
              "#9c179e"
             ],
             [
              0.4444444444444444,
              "#bd3786"
             ],
             [
              0.5555555555555556,
              "#d8576b"
             ],
             [
              0.6666666666666666,
              "#ed7953"
             ],
             [
              0.7777777777777778,
              "#fb9f3a"
             ],
             [
              0.8888888888888888,
              "#fdca26"
             ],
             [
              1,
              "#f0f921"
             ]
            ],
            "type": "heatmap"
           }
          ],
          "heatmapgl": [
           {
            "colorbar": {
             "outlinewidth": 0,
             "ticks": ""
            },
            "colorscale": [
             [
              0,
              "#0d0887"
             ],
             [
              0.1111111111111111,
              "#46039f"
             ],
             [
              0.2222222222222222,
              "#7201a8"
             ],
             [
              0.3333333333333333,
              "#9c179e"
             ],
             [
              0.4444444444444444,
              "#bd3786"
             ],
             [
              0.5555555555555556,
              "#d8576b"
             ],
             [
              0.6666666666666666,
              "#ed7953"
             ],
             [
              0.7777777777777778,
              "#fb9f3a"
             ],
             [
              0.8888888888888888,
              "#fdca26"
             ],
             [
              1,
              "#f0f921"
             ]
            ],
            "type": "heatmapgl"
           }
          ],
          "histogram": [
           {
            "marker": {
             "colorbar": {
              "outlinewidth": 0,
              "ticks": ""
             }
            },
            "type": "histogram"
           }
          ],
          "histogram2d": [
           {
            "colorbar": {
             "outlinewidth": 0,
             "ticks": ""
            },
            "colorscale": [
             [
              0,
              "#0d0887"
             ],
             [
              0.1111111111111111,
              "#46039f"
             ],
             [
              0.2222222222222222,
              "#7201a8"
             ],
             [
              0.3333333333333333,
              "#9c179e"
             ],
             [
              0.4444444444444444,
              "#bd3786"
             ],
             [
              0.5555555555555556,
              "#d8576b"
             ],
             [
              0.6666666666666666,
              "#ed7953"
             ],
             [
              0.7777777777777778,
              "#fb9f3a"
             ],
             [
              0.8888888888888888,
              "#fdca26"
             ],
             [
              1,
              "#f0f921"
             ]
            ],
            "type": "histogram2d"
           }
          ],
          "histogram2dcontour": [
           {
            "colorbar": {
             "outlinewidth": 0,
             "ticks": ""
            },
            "colorscale": [
             [
              0,
              "#0d0887"
             ],
             [
              0.1111111111111111,
              "#46039f"
             ],
             [
              0.2222222222222222,
              "#7201a8"
             ],
             [
              0.3333333333333333,
              "#9c179e"
             ],
             [
              0.4444444444444444,
              "#bd3786"
             ],
             [
              0.5555555555555556,
              "#d8576b"
             ],
             [
              0.6666666666666666,
              "#ed7953"
             ],
             [
              0.7777777777777778,
              "#fb9f3a"
             ],
             [
              0.8888888888888888,
              "#fdca26"
             ],
             [
              1,
              "#f0f921"
             ]
            ],
            "type": "histogram2dcontour"
           }
          ],
          "mesh3d": [
           {
            "colorbar": {
             "outlinewidth": 0,
             "ticks": ""
            },
            "type": "mesh3d"
           }
          ],
          "parcoords": [
           {
            "line": {
             "colorbar": {
              "outlinewidth": 0,
              "ticks": ""
             }
            },
            "type": "parcoords"
           }
          ],
          "pie": [
           {
            "automargin": true,
            "type": "pie"
           }
          ],
          "scatter": [
           {
            "marker": {
             "colorbar": {
              "outlinewidth": 0,
              "ticks": ""
             }
            },
            "type": "scatter"
           }
          ],
          "scatter3d": [
           {
            "line": {
             "colorbar": {
              "outlinewidth": 0,
              "ticks": ""
             }
            },
            "marker": {
             "colorbar": {
              "outlinewidth": 0,
              "ticks": ""
             }
            },
            "type": "scatter3d"
           }
          ],
          "scattercarpet": [
           {
            "marker": {
             "colorbar": {
              "outlinewidth": 0,
              "ticks": ""
             }
            },
            "type": "scattercarpet"
           }
          ],
          "scattergeo": [
           {
            "marker": {
             "colorbar": {
              "outlinewidth": 0,
              "ticks": ""
             }
            },
            "type": "scattergeo"
           }
          ],
          "scattergl": [
           {
            "marker": {
             "colorbar": {
              "outlinewidth": 0,
              "ticks": ""
             }
            },
            "type": "scattergl"
           }
          ],
          "scattermapbox": [
           {
            "marker": {
             "colorbar": {
              "outlinewidth": 0,
              "ticks": ""
             }
            },
            "type": "scattermapbox"
           }
          ],
          "scatterpolar": [
           {
            "marker": {
             "colorbar": {
              "outlinewidth": 0,
              "ticks": ""
             }
            },
            "type": "scatterpolar"
           }
          ],
          "scatterpolargl": [
           {
            "marker": {
             "colorbar": {
              "outlinewidth": 0,
              "ticks": ""
             }
            },
            "type": "scatterpolargl"
           }
          ],
          "scatterternary": [
           {
            "marker": {
             "colorbar": {
              "outlinewidth": 0,
              "ticks": ""
             }
            },
            "type": "scatterternary"
           }
          ],
          "surface": [
           {
            "colorbar": {
             "outlinewidth": 0,
             "ticks": ""
            },
            "colorscale": [
             [
              0,
              "#0d0887"
             ],
             [
              0.1111111111111111,
              "#46039f"
             ],
             [
              0.2222222222222222,
              "#7201a8"
             ],
             [
              0.3333333333333333,
              "#9c179e"
             ],
             [
              0.4444444444444444,
              "#bd3786"
             ],
             [
              0.5555555555555556,
              "#d8576b"
             ],
             [
              0.6666666666666666,
              "#ed7953"
             ],
             [
              0.7777777777777778,
              "#fb9f3a"
             ],
             [
              0.8888888888888888,
              "#fdca26"
             ],
             [
              1,
              "#f0f921"
             ]
            ],
            "type": "surface"
           }
          ],
          "table": [
           {
            "cells": {
             "fill": {
              "color": "#EBF0F8"
             },
             "line": {
              "color": "white"
             }
            },
            "header": {
             "fill": {
              "color": "#C8D4E3"
             },
             "line": {
              "color": "white"
             }
            },
            "type": "table"
           }
          ]
         },
         "layout": {
          "annotationdefaults": {
           "arrowcolor": "#2a3f5f",
           "arrowhead": 0,
           "arrowwidth": 1
          },
          "coloraxis": {
           "colorbar": {
            "outlinewidth": 0,
            "ticks": ""
           }
          },
          "colorscale": {
           "diverging": [
            [
             0,
             "#8e0152"
            ],
            [
             0.1,
             "#c51b7d"
            ],
            [
             0.2,
             "#de77ae"
            ],
            [
             0.3,
             "#f1b6da"
            ],
            [
             0.4,
             "#fde0ef"
            ],
            [
             0.5,
             "#f7f7f7"
            ],
            [
             0.6,
             "#e6f5d0"
            ],
            [
             0.7,
             "#b8e186"
            ],
            [
             0.8,
             "#7fbc41"
            ],
            [
             0.9,
             "#4d9221"
            ],
            [
             1,
             "#276419"
            ]
           ],
           "sequential": [
            [
             0,
             "#0d0887"
            ],
            [
             0.1111111111111111,
             "#46039f"
            ],
            [
             0.2222222222222222,
             "#7201a8"
            ],
            [
             0.3333333333333333,
             "#9c179e"
            ],
            [
             0.4444444444444444,
             "#bd3786"
            ],
            [
             0.5555555555555556,
             "#d8576b"
            ],
            [
             0.6666666666666666,
             "#ed7953"
            ],
            [
             0.7777777777777778,
             "#fb9f3a"
            ],
            [
             0.8888888888888888,
             "#fdca26"
            ],
            [
             1,
             "#f0f921"
            ]
           ],
           "sequentialminus": [
            [
             0,
             "#0d0887"
            ],
            [
             0.1111111111111111,
             "#46039f"
            ],
            [
             0.2222222222222222,
             "#7201a8"
            ],
            [
             0.3333333333333333,
             "#9c179e"
            ],
            [
             0.4444444444444444,
             "#bd3786"
            ],
            [
             0.5555555555555556,
             "#d8576b"
            ],
            [
             0.6666666666666666,
             "#ed7953"
            ],
            [
             0.7777777777777778,
             "#fb9f3a"
            ],
            [
             0.8888888888888888,
             "#fdca26"
            ],
            [
             1,
             "#f0f921"
            ]
           ]
          },
          "colorway": [
           "#636efa",
           "#EF553B",
           "#00cc96",
           "#ab63fa",
           "#FFA15A",
           "#19d3f3",
           "#FF6692",
           "#B6E880",
           "#FF97FF",
           "#FECB52"
          ],
          "font": {
           "color": "#2a3f5f"
          },
          "geo": {
           "bgcolor": "white",
           "lakecolor": "white",
           "landcolor": "#E5ECF6",
           "showlakes": true,
           "showland": true,
           "subunitcolor": "white"
          },
          "hoverlabel": {
           "align": "left"
          },
          "hovermode": "closest",
          "mapbox": {
           "style": "light"
          },
          "paper_bgcolor": "white",
          "plot_bgcolor": "#E5ECF6",
          "polar": {
           "angularaxis": {
            "gridcolor": "white",
            "linecolor": "white",
            "ticks": ""
           },
           "bgcolor": "#E5ECF6",
           "radialaxis": {
            "gridcolor": "white",
            "linecolor": "white",
            "ticks": ""
           }
          },
          "scene": {
           "xaxis": {
            "backgroundcolor": "#E5ECF6",
            "gridcolor": "white",
            "gridwidth": 2,
            "linecolor": "white",
            "showbackground": true,
            "ticks": "",
            "zerolinecolor": "white"
           },
           "yaxis": {
            "backgroundcolor": "#E5ECF6",
            "gridcolor": "white",
            "gridwidth": 2,
            "linecolor": "white",
            "showbackground": true,
            "ticks": "",
            "zerolinecolor": "white"
           },
           "zaxis": {
            "backgroundcolor": "#E5ECF6",
            "gridcolor": "white",
            "gridwidth": 2,
            "linecolor": "white",
            "showbackground": true,
            "ticks": "",
            "zerolinecolor": "white"
           }
          },
          "shapedefaults": {
           "line": {
            "color": "#2a3f5f"
           }
          },
          "ternary": {
           "aaxis": {
            "gridcolor": "white",
            "linecolor": "white",
            "ticks": ""
           },
           "baxis": {
            "gridcolor": "white",
            "linecolor": "white",
            "ticks": ""
           },
           "bgcolor": "#E5ECF6",
           "caxis": {
            "gridcolor": "white",
            "linecolor": "white",
            "ticks": ""
           }
          },
          "title": {
           "x": 0.05
          },
          "xaxis": {
           "automargin": true,
           "gridcolor": "white",
           "linecolor": "white",
           "ticks": "",
           "title": {
            "standoff": 15
           },
           "zerolinecolor": "white",
           "zerolinewidth": 2
          },
          "yaxis": {
           "automargin": true,
           "gridcolor": "white",
           "linecolor": "white",
           "ticks": "",
           "title": {
            "standoff": 15
           },
           "zerolinecolor": "white",
           "zerolinewidth": 2
          }
         }
        }
       }
      },
      "text/html": [
       "<div>\n",
       "        \n",
       "        \n",
       "            <div id=\"b09bc4ca-6b6c-4a96-b854-e46e271f0d5c\" class=\"plotly-graph-div\" style=\"height:525px; width:100%;\"></div>\n",
       "            <script type=\"text/javascript\">\n",
       "                require([\"plotly\"], function(Plotly) {\n",
       "                    window.PLOTLYENV=window.PLOTLYENV || {};\n",
       "                    \n",
       "                if (document.getElementById(\"b09bc4ca-6b6c-4a96-b854-e46e271f0d5c\")) {\n",
       "                    Plotly.newPlot(\n",
       "                        'b09bc4ca-6b6c-4a96-b854-e46e271f0d5c',\n",
       "                        [{\"mode\": \"markers\", \"name\": \"Accuracy\", \"type\": \"scatter\", \"x\": [0.1, 0.01, 0.001, 0.0001], \"y\": [0.39123979210853577, 0.5760950446128845, 0.4031180441379547, 0.48552337288856506]}, {\"mode\": \"markers\", \"name\": \"Val accuracy\", \"type\": \"scatter\", \"x\": [0.1, 0.01, 0.001, 0.0001], \"y\": [0.3777777850627899, 0.5777778029441833, 0.36222222447395325, 0.47333332896232605]}],\n",
       "                        {\"template\": {\"data\": {\"bar\": [{\"error_x\": {\"color\": \"#2a3f5f\"}, \"error_y\": {\"color\": \"#2a3f5f\"}, \"marker\": {\"line\": {\"color\": \"#E5ECF6\", \"width\": 0.5}}, \"type\": \"bar\"}], \"barpolar\": [{\"marker\": {\"line\": {\"color\": \"#E5ECF6\", \"width\": 0.5}}, \"type\": \"barpolar\"}], \"carpet\": [{\"aaxis\": {\"endlinecolor\": \"#2a3f5f\", \"gridcolor\": \"white\", \"linecolor\": \"white\", \"minorgridcolor\": \"white\", \"startlinecolor\": \"#2a3f5f\"}, \"baxis\": {\"endlinecolor\": \"#2a3f5f\", \"gridcolor\": \"white\", \"linecolor\": \"white\", \"minorgridcolor\": \"white\", \"startlinecolor\": \"#2a3f5f\"}, \"type\": \"carpet\"}], \"choropleth\": [{\"colorbar\": {\"outlinewidth\": 0, \"ticks\": \"\"}, \"type\": \"choropleth\"}], \"contour\": [{\"colorbar\": {\"outlinewidth\": 0, \"ticks\": \"\"}, \"colorscale\": [[0.0, \"#0d0887\"], [0.1111111111111111, \"#46039f\"], [0.2222222222222222, \"#7201a8\"], [0.3333333333333333, \"#9c179e\"], [0.4444444444444444, \"#bd3786\"], [0.5555555555555556, \"#d8576b\"], [0.6666666666666666, \"#ed7953\"], [0.7777777777777778, \"#fb9f3a\"], [0.8888888888888888, \"#fdca26\"], [1.0, \"#f0f921\"]], \"type\": \"contour\"}], \"contourcarpet\": [{\"colorbar\": {\"outlinewidth\": 0, \"ticks\": \"\"}, \"type\": \"contourcarpet\"}], \"heatmap\": [{\"colorbar\": {\"outlinewidth\": 0, \"ticks\": \"\"}, \"colorscale\": [[0.0, \"#0d0887\"], [0.1111111111111111, \"#46039f\"], [0.2222222222222222, \"#7201a8\"], [0.3333333333333333, \"#9c179e\"], [0.4444444444444444, \"#bd3786\"], [0.5555555555555556, \"#d8576b\"], [0.6666666666666666, \"#ed7953\"], [0.7777777777777778, \"#fb9f3a\"], [0.8888888888888888, \"#fdca26\"], [1.0, \"#f0f921\"]], \"type\": \"heatmap\"}], \"heatmapgl\": [{\"colorbar\": {\"outlinewidth\": 0, \"ticks\": \"\"}, \"colorscale\": [[0.0, \"#0d0887\"], [0.1111111111111111, \"#46039f\"], [0.2222222222222222, \"#7201a8\"], [0.3333333333333333, \"#9c179e\"], [0.4444444444444444, \"#bd3786\"], [0.5555555555555556, \"#d8576b\"], [0.6666666666666666, \"#ed7953\"], [0.7777777777777778, \"#fb9f3a\"], [0.8888888888888888, \"#fdca26\"], [1.0, \"#f0f921\"]], \"type\": \"heatmapgl\"}], \"histogram\": [{\"marker\": {\"colorbar\": {\"outlinewidth\": 0, \"ticks\": \"\"}}, \"type\": \"histogram\"}], \"histogram2d\": [{\"colorbar\": {\"outlinewidth\": 0, \"ticks\": \"\"}, \"colorscale\": [[0.0, \"#0d0887\"], [0.1111111111111111, \"#46039f\"], [0.2222222222222222, \"#7201a8\"], [0.3333333333333333, \"#9c179e\"], [0.4444444444444444, \"#bd3786\"], [0.5555555555555556, \"#d8576b\"], [0.6666666666666666, \"#ed7953\"], [0.7777777777777778, \"#fb9f3a\"], [0.8888888888888888, \"#fdca26\"], [1.0, \"#f0f921\"]], \"type\": \"histogram2d\"}], \"histogram2dcontour\": [{\"colorbar\": {\"outlinewidth\": 0, \"ticks\": \"\"}, \"colorscale\": [[0.0, \"#0d0887\"], [0.1111111111111111, \"#46039f\"], [0.2222222222222222, \"#7201a8\"], [0.3333333333333333, \"#9c179e\"], [0.4444444444444444, \"#bd3786\"], [0.5555555555555556, \"#d8576b\"], [0.6666666666666666, \"#ed7953\"], [0.7777777777777778, \"#fb9f3a\"], [0.8888888888888888, \"#fdca26\"], [1.0, \"#f0f921\"]], \"type\": \"histogram2dcontour\"}], \"mesh3d\": [{\"colorbar\": {\"outlinewidth\": 0, \"ticks\": \"\"}, \"type\": \"mesh3d\"}], \"parcoords\": [{\"line\": {\"colorbar\": {\"outlinewidth\": 0, \"ticks\": \"\"}}, \"type\": \"parcoords\"}], \"pie\": [{\"automargin\": true, \"type\": \"pie\"}], \"scatter\": [{\"marker\": {\"colorbar\": {\"outlinewidth\": 0, \"ticks\": \"\"}}, \"type\": \"scatter\"}], \"scatter3d\": [{\"line\": {\"colorbar\": {\"outlinewidth\": 0, \"ticks\": \"\"}}, \"marker\": {\"colorbar\": {\"outlinewidth\": 0, \"ticks\": \"\"}}, \"type\": \"scatter3d\"}], \"scattercarpet\": [{\"marker\": {\"colorbar\": {\"outlinewidth\": 0, \"ticks\": \"\"}}, \"type\": \"scattercarpet\"}], \"scattergeo\": [{\"marker\": {\"colorbar\": {\"outlinewidth\": 0, \"ticks\": \"\"}}, \"type\": \"scattergeo\"}], \"scattergl\": [{\"marker\": {\"colorbar\": {\"outlinewidth\": 0, \"ticks\": \"\"}}, \"type\": \"scattergl\"}], \"scattermapbox\": [{\"marker\": {\"colorbar\": {\"outlinewidth\": 0, \"ticks\": \"\"}}, \"type\": \"scattermapbox\"}], \"scatterpolar\": [{\"marker\": {\"colorbar\": {\"outlinewidth\": 0, \"ticks\": \"\"}}, \"type\": \"scatterpolar\"}], \"scatterpolargl\": [{\"marker\": {\"colorbar\": {\"outlinewidth\": 0, \"ticks\": \"\"}}, \"type\": \"scatterpolargl\"}], \"scatterternary\": [{\"marker\": {\"colorbar\": {\"outlinewidth\": 0, \"ticks\": \"\"}}, \"type\": \"scatterternary\"}], \"surface\": [{\"colorbar\": {\"outlinewidth\": 0, \"ticks\": \"\"}, \"colorscale\": [[0.0, \"#0d0887\"], [0.1111111111111111, \"#46039f\"], [0.2222222222222222, \"#7201a8\"], [0.3333333333333333, \"#9c179e\"], [0.4444444444444444, \"#bd3786\"], [0.5555555555555556, \"#d8576b\"], [0.6666666666666666, \"#ed7953\"], [0.7777777777777778, \"#fb9f3a\"], [0.8888888888888888, \"#fdca26\"], [1.0, \"#f0f921\"]], \"type\": \"surface\"}], \"table\": [{\"cells\": {\"fill\": {\"color\": \"#EBF0F8\"}, \"line\": {\"color\": \"white\"}}, \"header\": {\"fill\": {\"color\": \"#C8D4E3\"}, \"line\": {\"color\": \"white\"}}, \"type\": \"table\"}]}, \"layout\": {\"annotationdefaults\": {\"arrowcolor\": \"#2a3f5f\", \"arrowhead\": 0, \"arrowwidth\": 1}, \"coloraxis\": {\"colorbar\": {\"outlinewidth\": 0, \"ticks\": \"\"}}, \"colorscale\": {\"diverging\": [[0, \"#8e0152\"], [0.1, \"#c51b7d\"], [0.2, \"#de77ae\"], [0.3, \"#f1b6da\"], [0.4, \"#fde0ef\"], [0.5, \"#f7f7f7\"], [0.6, \"#e6f5d0\"], [0.7, \"#b8e186\"], [0.8, \"#7fbc41\"], [0.9, \"#4d9221\"], [1, \"#276419\"]], \"sequential\": [[0.0, \"#0d0887\"], [0.1111111111111111, \"#46039f\"], [0.2222222222222222, \"#7201a8\"], [0.3333333333333333, \"#9c179e\"], [0.4444444444444444, \"#bd3786\"], [0.5555555555555556, \"#d8576b\"], [0.6666666666666666, \"#ed7953\"], [0.7777777777777778, \"#fb9f3a\"], [0.8888888888888888, \"#fdca26\"], [1.0, \"#f0f921\"]], \"sequentialminus\": [[0.0, \"#0d0887\"], [0.1111111111111111, \"#46039f\"], [0.2222222222222222, \"#7201a8\"], [0.3333333333333333, \"#9c179e\"], [0.4444444444444444, \"#bd3786\"], [0.5555555555555556, \"#d8576b\"], [0.6666666666666666, \"#ed7953\"], [0.7777777777777778, \"#fb9f3a\"], [0.8888888888888888, \"#fdca26\"], [1.0, \"#f0f921\"]]}, \"colorway\": [\"#636efa\", \"#EF553B\", \"#00cc96\", \"#ab63fa\", \"#FFA15A\", \"#19d3f3\", \"#FF6692\", \"#B6E880\", \"#FF97FF\", \"#FECB52\"], \"font\": {\"color\": \"#2a3f5f\"}, \"geo\": {\"bgcolor\": \"white\", \"lakecolor\": \"white\", \"landcolor\": \"#E5ECF6\", \"showlakes\": true, \"showland\": true, \"subunitcolor\": \"white\"}, \"hoverlabel\": {\"align\": \"left\"}, \"hovermode\": \"closest\", \"mapbox\": {\"style\": \"light\"}, \"paper_bgcolor\": \"white\", \"plot_bgcolor\": \"#E5ECF6\", \"polar\": {\"angularaxis\": {\"gridcolor\": \"white\", \"linecolor\": \"white\", \"ticks\": \"\"}, \"bgcolor\": \"#E5ECF6\", \"radialaxis\": {\"gridcolor\": \"white\", \"linecolor\": \"white\", \"ticks\": \"\"}}, \"scene\": {\"xaxis\": {\"backgroundcolor\": \"#E5ECF6\", \"gridcolor\": \"white\", \"gridwidth\": 2, \"linecolor\": \"white\", \"showbackground\": true, \"ticks\": \"\", \"zerolinecolor\": \"white\"}, \"yaxis\": {\"backgroundcolor\": \"#E5ECF6\", \"gridcolor\": \"white\", \"gridwidth\": 2, \"linecolor\": \"white\", \"showbackground\": true, \"ticks\": \"\", \"zerolinecolor\": \"white\"}, \"zaxis\": {\"backgroundcolor\": \"#E5ECF6\", \"gridcolor\": \"white\", \"gridwidth\": 2, \"linecolor\": \"white\", \"showbackground\": true, \"ticks\": \"\", \"zerolinecolor\": \"white\"}}, \"shapedefaults\": {\"line\": {\"color\": \"#2a3f5f\"}}, \"ternary\": {\"aaxis\": {\"gridcolor\": \"white\", \"linecolor\": \"white\", \"ticks\": \"\"}, \"baxis\": {\"gridcolor\": \"white\", \"linecolor\": \"white\", \"ticks\": \"\"}, \"bgcolor\": \"#E5ECF6\", \"caxis\": {\"gridcolor\": \"white\", \"linecolor\": \"white\", \"ticks\": \"\"}}, \"title\": {\"x\": 0.05}, \"xaxis\": {\"automargin\": true, \"gridcolor\": \"white\", \"linecolor\": \"white\", \"ticks\": \"\", \"title\": {\"standoff\": 15}, \"zerolinecolor\": \"white\", \"zerolinewidth\": 2}, \"yaxis\": {\"automargin\": true, \"gridcolor\": \"white\", \"linecolor\": \"white\", \"ticks\": \"\", \"title\": {\"standoff\": 15}, \"zerolinecolor\": \"white\", \"zerolinewidth\": 2}}}},\n",
       "                        {\"responsive\": true}\n",
       "                    ).then(function(){\n",
       "                            \n",
       "var gd = document.getElementById('b09bc4ca-6b6c-4a96-b854-e46e271f0d5c');\n",
       "var x = new MutationObserver(function (mutations, observer) {{\n",
       "        var display = window.getComputedStyle(gd).display;\n",
       "        if (!display || display === 'none') {{\n",
       "            console.log([gd, 'removed!']);\n",
       "            Plotly.purge(gd);\n",
       "            observer.disconnect();\n",
       "        }}\n",
       "}});\n",
       "\n",
       "// Listen for the removal of the full notebook cells\n",
       "var notebookContainer = gd.closest('#notebook-container');\n",
       "if (notebookContainer) {{\n",
       "    x.observe(notebookContainer, {childList: true});\n",
       "}}\n",
       "\n",
       "// Listen for the clearing of the current output cell\n",
       "var outputEl = gd.closest('.output');\n",
       "if (outputEl) {{\n",
       "    x.observe(outputEl, {childList: true});\n",
       "}}\n",
       "\n",
       "                        })\n",
       "                };\n",
       "                });\n",
       "            </script>\n",
       "        </div>"
      ]
     },
     "metadata": {},
     "output_type": "display_data"
    }
   ],
   "source": [
    "fig = go.Figure()\n",
    "fig.add_trace(go.Scatter(x = alpha, y = result_acc,\n",
    "                    mode='markers',\n",
    "                    name='Accuracy'))\n",
    "fig.add_trace(go.Scatter(x = alpha, y = result_val_acc,\n",
    "                        mode = 'markers',\n",
    "                        name = 'Val accuracy'))\n",
    "fig.show()"
   ]
  },
  {
   "cell_type": "code",
   "execution_count": null,
   "metadata": {},
   "outputs": [],
   "source": []
  }
 ],
 "metadata": {
  "kernelspec": {
   "display_name": "Python 3",
   "language": "python",
   "name": "python3"
  },
  "language_info": {
   "codemirror_mode": {
    "name": "ipython",
    "version": 3
   },
   "file_extension": ".py",
   "mimetype": "text/x-python",
   "name": "python",
   "nbconvert_exporter": "python",
   "pygments_lexer": "ipython3",
   "version": "3.6.7"
  }
 },
 "nbformat": 4,
 "nbformat_minor": 2
}
