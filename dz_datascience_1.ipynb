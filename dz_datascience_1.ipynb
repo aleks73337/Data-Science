{
 "cells": [
  {
   "cell_type": "code",
   "execution_count": 2,
   "metadata": {},
   "outputs": [],
   "source": [
    "import pandas as pd\n",
    "import numpy as np\n",
    "import seaborn as sns"
   ]
  },
  {
   "cell_type": "markdown",
   "metadata": {},
   "source": [
    "<b> Задача состоит в следующем:</b>\n",
    "    <p> Автомобильная компания планирует выйти на новые рынки со своими существующими продуктами (P1, P2, P3, P4 и P5). \n",
    "    <p>После тщательного исследования рынка они пришли к выводу, что поведение нового рынка похоже на существующий.\n",
    "    <p>На существующем рынке отдел продаж разделил всех клиентов на 4 сегмента (A, B, C, D). \n",
    "    Затем они сделали свою рекламу для каждого сегмента клиентов. Эта стратегия сработала для них исключительно хорошо. Они планируют использовать ту же стратегию для новых рынков и выявили 2627 новых потенциальных клиентов.\n",
    "    <p>Необходимо помочь менеджеру предсказать правильную группу новых клиентов.\n"
   ]
  },
  {
   "cell_type": "code",
   "execution_count": 5,
   "metadata": {},
   "outputs": [],
   "source": [
    "train_filename = \"cust_class_train.csv\"\n",
    "test_filename = \"cust_class_test.csv\""
   ]
  },
  {
   "cell_type": "markdown",
   "metadata": {},
   "source": [
    "Загружаю данные. Данные разделены на 2 файла: данные обучающей и тестовой выборки."
   ]
  },
  {
   "cell_type": "code",
   "execution_count": 6,
   "metadata": {},
   "outputs": [],
   "source": [
    "train_data = pd.read_csv(train_filename)\n",
    "test_data = pd.read_csv(test_filename)"
   ]
  },
  {
   "cell_type": "markdown",
   "metadata": {},
   "source": [
    "Так как в данных уже есть уникальные идентификаторы, использую их"
   ]
  },
  {
   "cell_type": "code",
   "execution_count": 7,
   "metadata": {},
   "outputs": [],
   "source": [
    "train_data = train_data.set_index(\"ID\")\n",
    "test_data = test_data.set_index(\"ID\")"
   ]
  },
  {
   "cell_type": "code",
   "execution_count": 8,
   "metadata": {},
   "outputs": [
    {
     "data": {
      "text/html": [
       "<div>\n",
       "<style scoped>\n",
       "    .dataframe tbody tr th:only-of-type {\n",
       "        vertical-align: middle;\n",
       "    }\n",
       "\n",
       "    .dataframe tbody tr th {\n",
       "        vertical-align: top;\n",
       "    }\n",
       "\n",
       "    .dataframe thead th {\n",
       "        text-align: right;\n",
       "    }\n",
       "</style>\n",
       "<table border=\"1\" class=\"dataframe\">\n",
       "  <thead>\n",
       "    <tr style=\"text-align: right;\">\n",
       "      <th></th>\n",
       "      <th>Gender</th>\n",
       "      <th>Ever_Married</th>\n",
       "      <th>Age</th>\n",
       "      <th>Graduated</th>\n",
       "      <th>Profession</th>\n",
       "      <th>Work_Experience</th>\n",
       "      <th>Spending_Score</th>\n",
       "      <th>Family_Size</th>\n",
       "      <th>Var_1</th>\n",
       "      <th>Segmentation</th>\n",
       "    </tr>\n",
       "    <tr>\n",
       "      <th>ID</th>\n",
       "      <th></th>\n",
       "      <th></th>\n",
       "      <th></th>\n",
       "      <th></th>\n",
       "      <th></th>\n",
       "      <th></th>\n",
       "      <th></th>\n",
       "      <th></th>\n",
       "      <th></th>\n",
       "      <th></th>\n",
       "    </tr>\n",
       "  </thead>\n",
       "  <tbody>\n",
       "    <tr>\n",
       "      <th>462809</th>\n",
       "      <td>Male</td>\n",
       "      <td>No</td>\n",
       "      <td>22</td>\n",
       "      <td>No</td>\n",
       "      <td>Healthcare</td>\n",
       "      <td>1.0</td>\n",
       "      <td>Low</td>\n",
       "      <td>4.0</td>\n",
       "      <td>Cat_4</td>\n",
       "      <td>D</td>\n",
       "    </tr>\n",
       "    <tr>\n",
       "      <th>462643</th>\n",
       "      <td>Female</td>\n",
       "      <td>Yes</td>\n",
       "      <td>38</td>\n",
       "      <td>Yes</td>\n",
       "      <td>Engineer</td>\n",
       "      <td>NaN</td>\n",
       "      <td>Average</td>\n",
       "      <td>3.0</td>\n",
       "      <td>Cat_4</td>\n",
       "      <td>A</td>\n",
       "    </tr>\n",
       "    <tr>\n",
       "      <th>466315</th>\n",
       "      <td>Female</td>\n",
       "      <td>Yes</td>\n",
       "      <td>67</td>\n",
       "      <td>Yes</td>\n",
       "      <td>Engineer</td>\n",
       "      <td>1.0</td>\n",
       "      <td>Low</td>\n",
       "      <td>1.0</td>\n",
       "      <td>Cat_6</td>\n",
       "      <td>B</td>\n",
       "    </tr>\n",
       "    <tr>\n",
       "      <th>461735</th>\n",
       "      <td>Male</td>\n",
       "      <td>Yes</td>\n",
       "      <td>67</td>\n",
       "      <td>Yes</td>\n",
       "      <td>Lawyer</td>\n",
       "      <td>0.0</td>\n",
       "      <td>High</td>\n",
       "      <td>2.0</td>\n",
       "      <td>Cat_6</td>\n",
       "      <td>B</td>\n",
       "    </tr>\n",
       "    <tr>\n",
       "      <th>462669</th>\n",
       "      <td>Female</td>\n",
       "      <td>Yes</td>\n",
       "      <td>40</td>\n",
       "      <td>Yes</td>\n",
       "      <td>Entertainment</td>\n",
       "      <td>NaN</td>\n",
       "      <td>High</td>\n",
       "      <td>6.0</td>\n",
       "      <td>Cat_6</td>\n",
       "      <td>A</td>\n",
       "    </tr>\n",
       "    <tr>\n",
       "      <th>461319</th>\n",
       "      <td>Male</td>\n",
       "      <td>Yes</td>\n",
       "      <td>56</td>\n",
       "      <td>No</td>\n",
       "      <td>Artist</td>\n",
       "      <td>0.0</td>\n",
       "      <td>Average</td>\n",
       "      <td>2.0</td>\n",
       "      <td>Cat_6</td>\n",
       "      <td>C</td>\n",
       "    </tr>\n",
       "    <tr>\n",
       "      <th>460156</th>\n",
       "      <td>Male</td>\n",
       "      <td>No</td>\n",
       "      <td>32</td>\n",
       "      <td>Yes</td>\n",
       "      <td>Healthcare</td>\n",
       "      <td>1.0</td>\n",
       "      <td>Low</td>\n",
       "      <td>3.0</td>\n",
       "      <td>Cat_6</td>\n",
       "      <td>C</td>\n",
       "    </tr>\n",
       "    <tr>\n",
       "      <th>464347</th>\n",
       "      <td>Female</td>\n",
       "      <td>No</td>\n",
       "      <td>33</td>\n",
       "      <td>Yes</td>\n",
       "      <td>Healthcare</td>\n",
       "      <td>1.0</td>\n",
       "      <td>Low</td>\n",
       "      <td>3.0</td>\n",
       "      <td>Cat_6</td>\n",
       "      <td>D</td>\n",
       "    </tr>\n",
       "    <tr>\n",
       "      <th>465015</th>\n",
       "      <td>Female</td>\n",
       "      <td>Yes</td>\n",
       "      <td>61</td>\n",
       "      <td>Yes</td>\n",
       "      <td>Engineer</td>\n",
       "      <td>0.0</td>\n",
       "      <td>Low</td>\n",
       "      <td>3.0</td>\n",
       "      <td>Cat_7</td>\n",
       "      <td>D</td>\n",
       "    </tr>\n",
       "    <tr>\n",
       "      <th>465176</th>\n",
       "      <td>Female</td>\n",
       "      <td>Yes</td>\n",
       "      <td>55</td>\n",
       "      <td>Yes</td>\n",
       "      <td>Artist</td>\n",
       "      <td>1.0</td>\n",
       "      <td>Average</td>\n",
       "      <td>4.0</td>\n",
       "      <td>Cat_6</td>\n",
       "      <td>C</td>\n",
       "    </tr>\n",
       "  </tbody>\n",
       "</table>\n",
       "</div>"
      ],
      "text/plain": [
       "        Gender Ever_Married  Age Graduated     Profession  Work_Experience  \\\n",
       "ID                                                                           \n",
       "462809    Male           No   22        No     Healthcare              1.0   \n",
       "462643  Female          Yes   38       Yes       Engineer              NaN   \n",
       "466315  Female          Yes   67       Yes       Engineer              1.0   \n",
       "461735    Male          Yes   67       Yes         Lawyer              0.0   \n",
       "462669  Female          Yes   40       Yes  Entertainment              NaN   \n",
       "461319    Male          Yes   56        No         Artist              0.0   \n",
       "460156    Male           No   32       Yes     Healthcare              1.0   \n",
       "464347  Female           No   33       Yes     Healthcare              1.0   \n",
       "465015  Female          Yes   61       Yes       Engineer              0.0   \n",
       "465176  Female          Yes   55       Yes         Artist              1.0   \n",
       "\n",
       "       Spending_Score  Family_Size  Var_1 Segmentation  \n",
       "ID                                                      \n",
       "462809            Low          4.0  Cat_4            D  \n",
       "462643        Average          3.0  Cat_4            A  \n",
       "466315            Low          1.0  Cat_6            B  \n",
       "461735           High          2.0  Cat_6            B  \n",
       "462669           High          6.0  Cat_6            A  \n",
       "461319        Average          2.0  Cat_6            C  \n",
       "460156            Low          3.0  Cat_6            C  \n",
       "464347            Low          3.0  Cat_6            D  \n",
       "465015            Low          3.0  Cat_7            D  \n",
       "465176        Average          4.0  Cat_6            C  "
      ]
     },
     "execution_count": 8,
     "metadata": {},
     "output_type": "execute_result"
    }
   ],
   "source": [
    "train_data.head(10)"
   ]
  },
  {
   "cell_type": "markdown",
   "metadata": {},
   "source": [
    "<dl>\n",
    "    <dt> Данные имеют следующие признаки: </dt>\n",
    "    <dd> 1. Gender - пол </dd>\n",
    "    <dd> 2. Ever_Married - семейное положение </dd>\n",
    "    <dd> 3. Age - возраст </dd>\n",
    "    <dd> 4. Graduated - наличие высшего образования </dd>\n",
    "    <dd> 5. Profession - профессия </dd>\n",
    "    <dd> 6. Work_Experience - рабочий стаж </dd>\n",
    "    <dd> 7. Spending_Score - оценка расходов </dd>\n",
    "    <dd> 8. Family_Size - количество человек в семье </dd>\n",
    "    <dd> 9. Var_1 - Анонимная категория для клиента </dd>\n",
    "    <dd> 10. Segmentation - категория клиента </dd>\n",
    "</dl>"
   ]
  },
  {
   "cell_type": "markdown",
   "metadata": {},
   "source": [
    "<b> Преобразуем данные в категориальные </b>"
   ]
  },
  {
   "cell_type": "code",
   "execution_count": 9,
   "metadata": {},
   "outputs": [],
   "source": [
    "train_data.Ever_Married = train_data.Ever_Married.astype('category')"
   ]
  },
  {
   "cell_type": "code",
   "execution_count": 10,
   "metadata": {},
   "outputs": [],
   "source": [
    "train_data.Graduated = train_data.Graduated.astype('category')"
   ]
  },
  {
   "cell_type": "code",
   "execution_count": 11,
   "metadata": {},
   "outputs": [],
   "source": [
    "train_data.Profession = train_data.Profession.astype('category')"
   ]
  },
  {
   "cell_type": "code",
   "execution_count": 12,
   "metadata": {},
   "outputs": [],
   "source": [
    "train_data.Spending_Score = train_data.Spending_Score.astype('category')"
   ]
  },
  {
   "cell_type": "code",
   "execution_count": 13,
   "metadata": {},
   "outputs": [],
   "source": [
    "train_data.Var_1 = train_data.Var_1.astype('category')"
   ]
  },
  {
   "cell_type": "code",
   "execution_count": 14,
   "metadata": {},
   "outputs": [],
   "source": [
    "train_data.Segmentation = train_data.Segmentation.astype('category')"
   ]
  },
  {
   "cell_type": "code",
   "execution_count": 15,
   "metadata": {},
   "outputs": [
    {
     "data": {
      "text/html": [
       "<div>\n",
       "<style scoped>\n",
       "    .dataframe tbody tr th:only-of-type {\n",
       "        vertical-align: middle;\n",
       "    }\n",
       "\n",
       "    .dataframe tbody tr th {\n",
       "        vertical-align: top;\n",
       "    }\n",
       "\n",
       "    .dataframe thead th {\n",
       "        text-align: right;\n",
       "    }\n",
       "</style>\n",
       "<table border=\"1\" class=\"dataframe\">\n",
       "  <thead>\n",
       "    <tr style=\"text-align: right;\">\n",
       "      <th></th>\n",
       "      <th>Gender</th>\n",
       "      <th>Ever_Married</th>\n",
       "      <th>Age</th>\n",
       "      <th>Graduated</th>\n",
       "      <th>Profession</th>\n",
       "      <th>Work_Experience</th>\n",
       "      <th>Spending_Score</th>\n",
       "      <th>Family_Size</th>\n",
       "      <th>Var_1</th>\n",
       "      <th>Segmentation</th>\n",
       "    </tr>\n",
       "    <tr>\n",
       "      <th>ID</th>\n",
       "      <th></th>\n",
       "      <th></th>\n",
       "      <th></th>\n",
       "      <th></th>\n",
       "      <th></th>\n",
       "      <th></th>\n",
       "      <th></th>\n",
       "      <th></th>\n",
       "      <th></th>\n",
       "      <th></th>\n",
       "    </tr>\n",
       "  </thead>\n",
       "  <tbody>\n",
       "    <tr>\n",
       "      <th>462809</th>\n",
       "      <td>Male</td>\n",
       "      <td>No</td>\n",
       "      <td>22</td>\n",
       "      <td>No</td>\n",
       "      <td>Healthcare</td>\n",
       "      <td>1.0</td>\n",
       "      <td>Low</td>\n",
       "      <td>4.0</td>\n",
       "      <td>Cat_4</td>\n",
       "      <td>D</td>\n",
       "    </tr>\n",
       "    <tr>\n",
       "      <th>462643</th>\n",
       "      <td>Female</td>\n",
       "      <td>Yes</td>\n",
       "      <td>38</td>\n",
       "      <td>Yes</td>\n",
       "      <td>Engineer</td>\n",
       "      <td>NaN</td>\n",
       "      <td>Average</td>\n",
       "      <td>3.0</td>\n",
       "      <td>Cat_4</td>\n",
       "      <td>A</td>\n",
       "    </tr>\n",
       "    <tr>\n",
       "      <th>466315</th>\n",
       "      <td>Female</td>\n",
       "      <td>Yes</td>\n",
       "      <td>67</td>\n",
       "      <td>Yes</td>\n",
       "      <td>Engineer</td>\n",
       "      <td>1.0</td>\n",
       "      <td>Low</td>\n",
       "      <td>1.0</td>\n",
       "      <td>Cat_6</td>\n",
       "      <td>B</td>\n",
       "    </tr>\n",
       "    <tr>\n",
       "      <th>461735</th>\n",
       "      <td>Male</td>\n",
       "      <td>Yes</td>\n",
       "      <td>67</td>\n",
       "      <td>Yes</td>\n",
       "      <td>Lawyer</td>\n",
       "      <td>0.0</td>\n",
       "      <td>High</td>\n",
       "      <td>2.0</td>\n",
       "      <td>Cat_6</td>\n",
       "      <td>B</td>\n",
       "    </tr>\n",
       "    <tr>\n",
       "      <th>462669</th>\n",
       "      <td>Female</td>\n",
       "      <td>Yes</td>\n",
       "      <td>40</td>\n",
       "      <td>Yes</td>\n",
       "      <td>Entertainment</td>\n",
       "      <td>NaN</td>\n",
       "      <td>High</td>\n",
       "      <td>6.0</td>\n",
       "      <td>Cat_6</td>\n",
       "      <td>A</td>\n",
       "    </tr>\n",
       "  </tbody>\n",
       "</table>\n",
       "</div>"
      ],
      "text/plain": [
       "        Gender Ever_Married  Age Graduated     Profession  Work_Experience  \\\n",
       "ID                                                                           \n",
       "462809    Male           No   22        No     Healthcare              1.0   \n",
       "462643  Female          Yes   38       Yes       Engineer              NaN   \n",
       "466315  Female          Yes   67       Yes       Engineer              1.0   \n",
       "461735    Male          Yes   67       Yes         Lawyer              0.0   \n",
       "462669  Female          Yes   40       Yes  Entertainment              NaN   \n",
       "\n",
       "       Spending_Score  Family_Size  Var_1 Segmentation  \n",
       "ID                                                      \n",
       "462809            Low          4.0  Cat_4            D  \n",
       "462643        Average          3.0  Cat_4            A  \n",
       "466315            Low          1.0  Cat_6            B  \n",
       "461735           High          2.0  Cat_6            B  \n",
       "462669           High          6.0  Cat_6            A  "
      ]
     },
     "execution_count": 15,
     "metadata": {},
     "output_type": "execute_result"
    }
   ],
   "source": [
    "train_data.head()"
   ]
  },
  {
   "cell_type": "markdown",
   "metadata": {},
   "source": [
    "<b> Основные характеристики данных: </b>"
   ]
  },
  {
   "cell_type": "code",
   "execution_count": 16,
   "metadata": {},
   "outputs": [
    {
     "data": {
      "text/html": [
       "<div>\n",
       "<style scoped>\n",
       "    .dataframe tbody tr th:only-of-type {\n",
       "        vertical-align: middle;\n",
       "    }\n",
       "\n",
       "    .dataframe tbody tr th {\n",
       "        vertical-align: top;\n",
       "    }\n",
       "\n",
       "    .dataframe thead th {\n",
       "        text-align: right;\n",
       "    }\n",
       "</style>\n",
       "<table border=\"1\" class=\"dataframe\">\n",
       "  <thead>\n",
       "    <tr style=\"text-align: right;\">\n",
       "      <th></th>\n",
       "      <th>Age</th>\n",
       "      <th>Work_Experience</th>\n",
       "      <th>Family_Size</th>\n",
       "    </tr>\n",
       "  </thead>\n",
       "  <tbody>\n",
       "    <tr>\n",
       "      <th>count</th>\n",
       "      <td>8068.000000</td>\n",
       "      <td>7239.000000</td>\n",
       "      <td>7733.000000</td>\n",
       "    </tr>\n",
       "    <tr>\n",
       "      <th>mean</th>\n",
       "      <td>43.466906</td>\n",
       "      <td>2.641663</td>\n",
       "      <td>2.850123</td>\n",
       "    </tr>\n",
       "    <tr>\n",
       "      <th>std</th>\n",
       "      <td>16.711696</td>\n",
       "      <td>3.406763</td>\n",
       "      <td>1.531413</td>\n",
       "    </tr>\n",
       "    <tr>\n",
       "      <th>min</th>\n",
       "      <td>18.000000</td>\n",
       "      <td>0.000000</td>\n",
       "      <td>1.000000</td>\n",
       "    </tr>\n",
       "    <tr>\n",
       "      <th>25%</th>\n",
       "      <td>30.000000</td>\n",
       "      <td>0.000000</td>\n",
       "      <td>2.000000</td>\n",
       "    </tr>\n",
       "    <tr>\n",
       "      <th>50%</th>\n",
       "      <td>40.000000</td>\n",
       "      <td>1.000000</td>\n",
       "      <td>3.000000</td>\n",
       "    </tr>\n",
       "    <tr>\n",
       "      <th>75%</th>\n",
       "      <td>53.000000</td>\n",
       "      <td>4.000000</td>\n",
       "      <td>4.000000</td>\n",
       "    </tr>\n",
       "    <tr>\n",
       "      <th>max</th>\n",
       "      <td>89.000000</td>\n",
       "      <td>14.000000</td>\n",
       "      <td>9.000000</td>\n",
       "    </tr>\n",
       "  </tbody>\n",
       "</table>\n",
       "</div>"
      ],
      "text/plain": [
       "               Age  Work_Experience  Family_Size\n",
       "count  8068.000000      7239.000000  7733.000000\n",
       "mean     43.466906         2.641663     2.850123\n",
       "std      16.711696         3.406763     1.531413\n",
       "min      18.000000         0.000000     1.000000\n",
       "25%      30.000000         0.000000     2.000000\n",
       "50%      40.000000         1.000000     3.000000\n",
       "75%      53.000000         4.000000     4.000000\n",
       "max      89.000000        14.000000     9.000000"
      ]
     },
     "execution_count": 16,
     "metadata": {},
     "output_type": "execute_result"
    }
   ],
   "source": [
    "train_data.describe()"
   ]
  },
  {
   "cell_type": "markdown",
   "metadata": {},
   "source": [
    "В данных сразу бросается в глаза рабочий стаж людей из выборки. Средний стаж - 2 года и 8 месяцев при том, что средний возраст 43 года."
   ]
  },
  {
   "cell_type": "markdown",
   "metadata": {},
   "source": [
    "Посмотрим на категориальные данные."
   ]
  },
  {
   "cell_type": "code",
   "execution_count": 17,
   "metadata": {},
   "outputs": [
    {
     "data": {
      "image/png": "[encoded data removed]",
      "text/plain": [
       "<Figure size 360x360 with 1 Axes>"
      ]
     },
     "metadata": {
      "needs_background": "light"
     },
     "output_type": "display_data"
    }
   ],
   "source": [
    "sns.catplot(kind=\"count\", y = \"Gender\", data = train_data)\n",
    "pass"
   ]
  },
  {
   "cell_type": "markdown",
   "metadata": {},
   "source": [
    "На графике видно, что мужчин в выборке чуть больше, чем женщин (примерно на 1000 человек)"
   ]
  },
  {
   "cell_type": "code",
   "execution_count": 18,
   "metadata": {},
   "outputs": [
    {
     "data": {
      "image/png": "[encoded data removed]",
      "text/plain": [
       "<Figure size 360x360 with 1 Axes>"
      ]
     },
     "metadata": {
      "needs_background": "light"
     },
     "output_type": "display_data"
    }
   ],
   "source": [
    "sns.catplot(kind=\"count\", y = \"Ever_Married\", data = train_data)\n",
    "pass"
   ]
  },
  {
   "cell_type": "markdown",
   "metadata": {},
   "source": [
    "Однако, женатых людей гораздо больше, чем не женатых"
   ]
  },
  {
   "cell_type": "code",
   "execution_count": 19,
   "metadata": {},
   "outputs": [
    {
     "data": {
      "image/png": "[encoded data removed]",
      "text/plain": [
       "<Figure size 360x360 with 1 Axes>"
      ]
     },
     "metadata": {
      "needs_background": "light"
     },
     "output_type": "display_data"
    }
   ],
   "source": [
    "sns.catplot(kind=\"count\", y = \"Graduated\", data = train_data)\n",
    "pass"
   ]
  },
  {
   "cell_type": "markdown",
   "metadata": {},
   "source": [
    "Людей с высшим образованием тоже сильно больше, чем без"
   ]
  },
  {
   "cell_type": "code",
   "execution_count": 20,
   "metadata": {},
   "outputs": [
    {
     "data": {
      "image/png": "[encoded data removed]",
      "text/plain": [
       "<Figure size 360x360 with 1 Axes>"
      ]
     },
     "metadata": {
      "needs_background": "light"
     },
     "output_type": "display_data"
    }
   ],
   "source": [
    "sns.catplot(kind=\"count\", y = \"Profession\", data = train_data)\n",
    "pass"
   ]
  },
  {
   "cell_type": "markdown",
   "metadata": {},
   "source": [
    "Как бы странно это не звучало, но деятелей искусства в выборке сильно больше, чем представителей остальных профессий. Это говорит о том, что выборка не сбалансированная по данному критерию."
   ]
  },
  {
   "cell_type": "code",
   "execution_count": 21,
   "metadata": {},
   "outputs": [
    {
     "data": {
      "image/png": "[encoded data removed]",
      "text/plain": [
       "<Figure size 360x360 with 1 Axes>"
      ]
     },
     "metadata": {
      "needs_background": "light"
     },
     "output_type": "display_data"
    }
   ],
   "source": [
    "sns.catplot(kind=\"count\", y = \"Spending_Score\", data = train_data)\n",
    "pass"
   ]
  },
  {
   "cell_type": "markdown",
   "metadata": {},
   "source": [
    "В основном люди тратят не много, т.е. оценка расходов у них низкая"
   ]
  },
  {
   "cell_type": "code",
   "execution_count": 22,
   "metadata": {},
   "outputs": [
    {
     "data": {
      "image/png": "[encoded data removed]",
      "text/plain": [
       "<Figure size 360x360 with 1 Axes>"
      ]
     },
     "metadata": {
      "needs_background": "light"
     },
     "output_type": "display_data"
    }
   ],
   "source": [
    "sns.catplot(kind=\"count\", y = \"Var_1\", data = train_data)\n",
    "pass "
   ]
  },
  {
   "cell_type": "markdown",
   "metadata": {},
   "source": [
    "Из анонимных категорий получается, что почти все относятся к 6-му классу. Т.е. скорее всего эти данные не повлияют на результат исследования. Проверим это в дальнейшем."
   ]
  },
  {
   "cell_type": "code",
   "execution_count": 23,
   "metadata": {},
   "outputs": [
    {
     "data": {
      "image/png": "[encoded data removed]",
      "text/plain": [
       "<Figure size 360x360 with 1 Axes>"
      ]
     },
     "metadata": {
      "needs_background": "light"
     },
     "output_type": "display_data"
    }
   ],
   "source": [
    "sns.catplot(kind=\"count\", y = \"Segmentation\", data = train_data)\n",
    "pass  "
   ]
  },
  {
   "cell_type": "markdown",
   "metadata": {},
   "source": [
    "Ну и, собственно, классы наших покупателей. Данные классы вполне сбалансированы."
   ]
  },
  {
   "cell_type": "markdown",
   "metadata": {},
   "source": [
    "И так, исходя из полученных данных можно составить <b> портрет среднего покупателя</b>:\n",
    "<p>Это женатый мужчина среднего возраста с семьей из 3-х человек, который работает в сфере искусства, тратит немного денег и имеет трудовой стаж около 2-х лет."
   ]
  },
  {
   "cell_type": "markdown",
   "metadata": {},
   "source": [
    "<b> Построим корреляционную матрицу, чтобы вычислить линейно зависимые признаки </b>"
   ]
  },
  {
   "cell_type": "code",
   "execution_count": 24,
   "metadata": {},
   "outputs": [
    {
     "data": {
      "text/html": [
       "<div>\n",
       "<style scoped>\n",
       "    .dataframe tbody tr th:only-of-type {\n",
       "        vertical-align: middle;\n",
       "    }\n",
       "\n",
       "    .dataframe tbody tr th {\n",
       "        vertical-align: top;\n",
       "    }\n",
       "\n",
       "    .dataframe thead th {\n",
       "        text-align: right;\n",
       "    }\n",
       "</style>\n",
       "<table border=\"1\" class=\"dataframe\">\n",
       "  <thead>\n",
       "    <tr style=\"text-align: right;\">\n",
       "      <th></th>\n",
       "      <th>Age</th>\n",
       "      <th>Work_Experience</th>\n",
       "      <th>Family_Size</th>\n",
       "    </tr>\n",
       "  </thead>\n",
       "  <tbody>\n",
       "    <tr>\n",
       "      <th>Age</th>\n",
       "      <td>1.000000</td>\n",
       "      <td>-0.190789</td>\n",
       "      <td>-0.280517</td>\n",
       "    </tr>\n",
       "    <tr>\n",
       "      <th>Work_Experience</th>\n",
       "      <td>-0.190789</td>\n",
       "      <td>1.000000</td>\n",
       "      <td>-0.063234</td>\n",
       "    </tr>\n",
       "    <tr>\n",
       "      <th>Family_Size</th>\n",
       "      <td>-0.280517</td>\n",
       "      <td>-0.063234</td>\n",
       "      <td>1.000000</td>\n",
       "    </tr>\n",
       "  </tbody>\n",
       "</table>\n",
       "</div>"
      ],
      "text/plain": [
       "                      Age  Work_Experience  Family_Size\n",
       "Age              1.000000        -0.190789    -0.280517\n",
       "Work_Experience -0.190789         1.000000    -0.063234\n",
       "Family_Size     -0.280517        -0.063234     1.000000"
      ]
     },
     "execution_count": 24,
     "metadata": {},
     "output_type": "execute_result"
    }
   ],
   "source": [
    "train_data.corr()"
   ]
  },
  {
   "cell_type": "markdown",
   "metadata": {},
   "source": [
    "Все числовые признаки оказались линейно независимыми."
   ]
  },
  {
   "cell_type": "markdown",
   "metadata": {},
   "source": [
    "<h2> Обработка пропущенных значений </h2>"
   ]
  },
  {
   "cell_type": "code",
   "execution_count": 25,
   "metadata": {},
   "outputs": [
    {
     "data": {
      "text/plain": [
       "0.005    18.0\n",
       "0.010    18.0\n",
       "0.050    21.0\n",
       "0.100    25.0\n",
       "0.500    40.0\n",
       "0.900    69.0\n",
       "0.950    77.0\n",
       "0.990    87.0\n",
       "0.995    88.0\n",
       "Name: Age, dtype: float64"
      ]
     },
     "execution_count": 25,
     "metadata": {},
     "output_type": "execute_result"
    }
   ],
   "source": [
    "train_data.Age.quantile([0.005,.01,.05,.1,.5,.9,.95,.99,.995])"
   ]
  },
  {
   "cell_type": "markdown",
   "metadata": {},
   "source": [
    "Считаем выбросами, если возраст человека меньше 18 и больше 88 лет, что соответствует 0.05 и 0.95 квантилю. Выбросы удаляю из выборки."
   ]
  },
  {
   "cell_type": "code",
   "execution_count": 26,
   "metadata": {},
   "outputs": [],
   "source": [
    "drop_rows = train_data[\n",
    "    (train_data.Age < train_data.Age.quantile(0.005)) | \n",
    "    (train_data.Age > train_data.Age.quantile(0.995))].index"
   ]
  },
  {
   "cell_type": "code",
   "execution_count": 27,
   "metadata": {},
   "outputs": [],
   "source": [
    "train_data = train_data.drop(drop_rows)"
   ]
  },
  {
   "cell_type": "markdown",
   "metadata": {},
   "source": [
    "Больше особых выбросов в данных нет, т.к. они в основном категориальные"
   ]
  },
  {
   "cell_type": "markdown",
   "metadata": {},
   "source": [
    "<h2> Обработка пропущенных значений </h2>"
   ]
  },
  {
   "cell_type": "code",
   "execution_count": 28,
   "metadata": {},
   "outputs": [
    {
     "data": {
      "text/plain": [
       "Gender               0\n",
       "Ever_Married       139\n",
       "Age                  0\n",
       "Graduated           77\n",
       "Profession         124\n",
       "Work_Experience    825\n",
       "Spending_Score       0\n",
       "Family_Size        332\n",
       "Var_1               76\n",
       "Segmentation         0\n",
       "dtype: int64"
      ]
     },
     "execution_count": 28,
     "metadata": {},
     "output_type": "execute_result"
    }
   ],
   "source": [
    "train_data.isna().sum()"
   ]
  },
  {
   "cell_type": "markdown",
   "metadata": {},
   "source": [
    "Пропущенных значений в колонках Work_Experience, Family_Size довольно много. Я думаю, что их можно заполнить нулями и единицами соответственно, так как обычно люди не ставят значение 0, если у них есть опыт работы или большая семья. Хотя, есть исключения."
   ]
  },
  {
   "cell_type": "code",
   "execution_count": 29,
   "metadata": {},
   "outputs": [],
   "source": [
    "train_data.Work_Experience = train_data.Work_Experience.fillna(0)"
   ]
  },
  {
   "cell_type": "code",
   "execution_count": 30,
   "metadata": {},
   "outputs": [],
   "source": [
    "train_data.Family_Size = train_data.Family_Size.fillna(1)"
   ]
  },
  {
   "cell_type": "markdown",
   "metadata": {},
   "source": [
    "Остальные значения заполню по моде"
   ]
  },
  {
   "cell_type": "code",
   "execution_count": 31,
   "metadata": {},
   "outputs": [],
   "source": [
    "train_data.Ever_Married = train_data.Ever_Married.fillna(train_data.Ever_Married.mode()[0])\n",
    "train_data.Graduated = train_data.Graduated.fillna(train_data.Graduated.mode()[0])\n",
    "train_data.Profession = train_data.Profession.fillna(train_data.Profession.mode()[0])\n",
    "train_data.Var_1 = train_data.Var_1.fillna(train_data.Var_1.mode()[0])"
   ]
  },
  {
   "cell_type": "code",
   "execution_count": 32,
   "metadata": {},
   "outputs": [
    {
     "data": {
      "text/plain": [
       "Gender             0\n",
       "Ever_Married       0\n",
       "Age                0\n",
       "Graduated          0\n",
       "Profession         0\n",
       "Work_Experience    0\n",
       "Spending_Score     0\n",
       "Family_Size        0\n",
       "Var_1              0\n",
       "Segmentation       0\n",
       "dtype: int64"
      ]
     },
     "execution_count": 32,
     "metadata": {},
     "output_type": "execute_result"
    }
   ],
   "source": [
    "train_data.isna().sum()"
   ]
  },
  {
   "cell_type": "markdown",
   "metadata": {},
   "source": [
    "<h2> Обработка категориальных признаков </h2>"
   ]
  },
  {
   "cell_type": "markdown",
   "metadata": {},
   "source": [
    "Привожу бинарные признаки (пол, семейное положение, наличие образование) к виду 0 / 1, где 1 означает наличие признака"
   ]
  },
  {
   "cell_type": "code",
   "execution_count": 33,
   "metadata": {},
   "outputs": [],
   "source": [
    "train_data.Gender = pd.factorize(train_data.Gender)[0]"
   ]
  },
  {
   "cell_type": "code",
   "execution_count": 34,
   "metadata": {},
   "outputs": [],
   "source": [
    "train_data.Ever_Married = pd.factorize(train_data.Ever_Married)[0]"
   ]
  },
  {
   "cell_type": "code",
   "execution_count": 35,
   "metadata": {},
   "outputs": [],
   "source": [
    "train_data.Graduated = pd.factorize(train_data.Graduated)[0]"
   ]
  },
  {
   "cell_type": "markdown",
   "metadata": {},
   "source": [
    "Категориальные признаки с больше чем 2-мя категориями привожу к виду one hot, добавляю в данные и удаляю из данных предыдущий столбец"
   ]
  },
  {
   "cell_type": "code",
   "execution_count": 36,
   "metadata": {},
   "outputs": [],
   "source": [
    "train_data = pd.concat((train_data, pd.get_dummies(train_data.Profession)), axis=1)\n",
    "train_data = train_data.drop(['Profession'], axis=1)"
   ]
  },
  {
   "cell_type": "code",
   "execution_count": 37,
   "metadata": {},
   "outputs": [],
   "source": [
    "train_data = pd.concat((train_data, pd.get_dummies(train_data.Spending_Score)), axis=1)\n",
    "train_data = train_data.drop(['Spending_Score'], axis=1)"
   ]
  },
  {
   "cell_type": "code",
   "execution_count": 38,
   "metadata": {},
   "outputs": [],
   "source": [
    "train_data = pd.concat((train_data, pd.get_dummies(train_data.Var_1)), axis=1)\n",
    "train_data = train_data.drop(['Var_1'], axis=1)"
   ]
  },
  {
   "cell_type": "markdown",
   "metadata": {},
   "source": [
    "Привел все категориальные признаки к виду 0 / 1"
   ]
  },
  {
   "cell_type": "code",
   "execution_count": 39,
   "metadata": {},
   "outputs": [
    {
     "data": {
      "text/html": [
       "<div>\n",
       "<style scoped>\n",
       "    .dataframe tbody tr th:only-of-type {\n",
       "        vertical-align: middle;\n",
       "    }\n",
       "\n",
       "    .dataframe tbody tr th {\n",
       "        vertical-align: top;\n",
       "    }\n",
       "\n",
       "    .dataframe thead th {\n",
       "        text-align: right;\n",
       "    }\n",
       "</style>\n",
       "<table border=\"1\" class=\"dataframe\">\n",
       "  <thead>\n",
       "    <tr style=\"text-align: right;\">\n",
       "      <th></th>\n",
       "      <th>Gender</th>\n",
       "      <th>Ever_Married</th>\n",
       "      <th>Age</th>\n",
       "      <th>Graduated</th>\n",
       "      <th>Work_Experience</th>\n",
       "      <th>Family_Size</th>\n",
       "      <th>Segmentation</th>\n",
       "      <th>Artist</th>\n",
       "      <th>Doctor</th>\n",
       "      <th>Engineer</th>\n",
       "      <th>...</th>\n",
       "      <th>Average</th>\n",
       "      <th>High</th>\n",
       "      <th>Low</th>\n",
       "      <th>Cat_1</th>\n",
       "      <th>Cat_2</th>\n",
       "      <th>Cat_3</th>\n",
       "      <th>Cat_4</th>\n",
       "      <th>Cat_5</th>\n",
       "      <th>Cat_6</th>\n",
       "      <th>Cat_7</th>\n",
       "    </tr>\n",
       "    <tr>\n",
       "      <th>ID</th>\n",
       "      <th></th>\n",
       "      <th></th>\n",
       "      <th></th>\n",
       "      <th></th>\n",
       "      <th></th>\n",
       "      <th></th>\n",
       "      <th></th>\n",
       "      <th></th>\n",
       "      <th></th>\n",
       "      <th></th>\n",
       "      <th></th>\n",
       "      <th></th>\n",
       "      <th></th>\n",
       "      <th></th>\n",
       "      <th></th>\n",
       "      <th></th>\n",
       "      <th></th>\n",
       "      <th></th>\n",
       "      <th></th>\n",
       "      <th></th>\n",
       "      <th></th>\n",
       "    </tr>\n",
       "  </thead>\n",
       "  <tbody>\n",
       "    <tr>\n",
       "      <th>462809</th>\n",
       "      <td>0</td>\n",
       "      <td>0</td>\n",
       "      <td>22</td>\n",
       "      <td>0</td>\n",
       "      <td>1.0</td>\n",
       "      <td>4.0</td>\n",
       "      <td>D</td>\n",
       "      <td>0</td>\n",
       "      <td>0</td>\n",
       "      <td>0</td>\n",
       "      <td>...</td>\n",
       "      <td>0</td>\n",
       "      <td>0</td>\n",
       "      <td>1</td>\n",
       "      <td>0</td>\n",
       "      <td>0</td>\n",
       "      <td>0</td>\n",
       "      <td>1</td>\n",
       "      <td>0</td>\n",
       "      <td>0</td>\n",
       "      <td>0</td>\n",
       "    </tr>\n",
       "  </tbody>\n",
       "</table>\n",
       "<p>1 rows × 26 columns</p>\n",
       "</div>"
      ],
      "text/plain": [
       "        Gender  Ever_Married  Age  Graduated  Work_Experience  Family_Size  \\\n",
       "ID                                                                           \n",
       "462809       0             0   22          0              1.0          4.0   \n",
       "\n",
       "       Segmentation  Artist  Doctor  Engineer  ...  Average  High  Low  Cat_1  \\\n",
       "ID                                             ...                              \n",
       "462809            D       0       0         0  ...        0     0    1      0   \n",
       "\n",
       "        Cat_2  Cat_3  Cat_4  Cat_5  Cat_6  Cat_7  \n",
       "ID                                                \n",
       "462809      0      0      1      0      0      0  \n",
       "\n",
       "[1 rows x 26 columns]"
      ]
     },
     "execution_count": 39,
     "metadata": {},
     "output_type": "execute_result"
    }
   ],
   "source": [
    "train_data.head(1)"
   ]
  },
  {
   "cell_type": "markdown",
   "metadata": {},
   "source": [
    "Например, такой признак как профессия я разбил на отдельные профессии. Теперь каждая профессия - бинарный признак."
   ]
  },
  {
   "cell_type": "markdown",
   "metadata": {},
   "source": [
    "<h2> Нормализация признаков </h2>"
   ]
  },
  {
   "cell_type": "code",
   "execution_count": 40,
   "metadata": {},
   "outputs": [],
   "source": [
    "train_data.loc[:, train_data.columns != 'Segmentation'] = (\n",
    "    train_data.loc[:, train_data.columns != 'Segmentation'] - \\\n",
    "    train_data.loc[:, train_data.columns != 'Segmentation'].mean(axis = 0)) / \\\n",
    "    train_data.loc[:, train_data.columns != 'Segmentation'].std(axis = 0)"
   ]
  },
  {
   "cell_type": "code",
   "execution_count": 41,
   "metadata": {},
   "outputs": [
    {
     "data": {
      "text/html": [
       "<div>\n",
       "<style scoped>\n",
       "    .dataframe tbody tr th:only-of-type {\n",
       "        vertical-align: middle;\n",
       "    }\n",
       "\n",
       "    .dataframe tbody tr th {\n",
       "        vertical-align: top;\n",
       "    }\n",
       "\n",
       "    .dataframe thead th {\n",
       "        text-align: right;\n",
       "    }\n",
       "</style>\n",
       "<table border=\"1\" class=\"dataframe\">\n",
       "  <thead>\n",
       "    <tr style=\"text-align: right;\">\n",
       "      <th></th>\n",
       "      <th>Gender</th>\n",
       "      <th>Ever_Married</th>\n",
       "      <th>Age</th>\n",
       "      <th>Graduated</th>\n",
       "      <th>Work_Experience</th>\n",
       "      <th>Family_Size</th>\n",
       "      <th>Segmentation</th>\n",
       "      <th>Artist</th>\n",
       "      <th>Doctor</th>\n",
       "      <th>Engineer</th>\n",
       "      <th>...</th>\n",
       "      <th>Average</th>\n",
       "      <th>High</th>\n",
       "      <th>Low</th>\n",
       "      <th>Cat_1</th>\n",
       "      <th>Cat_2</th>\n",
       "      <th>Cat_3</th>\n",
       "      <th>Cat_4</th>\n",
       "      <th>Cat_5</th>\n",
       "      <th>Cat_6</th>\n",
       "      <th>Cat_7</th>\n",
       "    </tr>\n",
       "    <tr>\n",
       "      <th>ID</th>\n",
       "      <th></th>\n",
       "      <th></th>\n",
       "      <th></th>\n",
       "      <th></th>\n",
       "      <th></th>\n",
       "      <th></th>\n",
       "      <th></th>\n",
       "      <th></th>\n",
       "      <th></th>\n",
       "      <th></th>\n",
       "      <th></th>\n",
       "      <th></th>\n",
       "      <th></th>\n",
       "      <th></th>\n",
       "      <th></th>\n",
       "      <th></th>\n",
       "      <th></th>\n",
       "      <th></th>\n",
       "      <th></th>\n",
       "      <th></th>\n",
       "      <th></th>\n",
       "    </tr>\n",
       "  </thead>\n",
       "  <tbody>\n",
       "    <tr>\n",
       "      <th>462809</th>\n",
       "      <td>-0.907804</td>\n",
       "      <td>-1.202958</td>\n",
       "      <td>-1.291154</td>\n",
       "      <td>-1.29263</td>\n",
       "      <td>-0.413224</td>\n",
       "      <td>0.791077</td>\n",
       "      <td>D</td>\n",
       "      <td>-0.699089</td>\n",
       "      <td>-0.305813</td>\n",
       "      <td>-0.308724</td>\n",
       "      <td>...</td>\n",
       "      <td>-0.570606</td>\n",
       "      <td>-0.417635</td>\n",
       "      <td>0.806571</td>\n",
       "      <td>-0.129752</td>\n",
       "      <td>-0.234881</td>\n",
       "      <td>-0.33763</td>\n",
       "      <td>2.524833</td>\n",
       "      <td>-0.103414</td>\n",
       "      <td>-1.385051</td>\n",
       "      <td>-0.161016</td>\n",
       "    </tr>\n",
       "    <tr>\n",
       "      <th>462643</th>\n",
       "      <td>1.101422</td>\n",
       "      <td>0.831181</td>\n",
       "      <td>-0.319577</td>\n",
       "      <td>0.77352</td>\n",
       "      <td>-0.713697</td>\n",
       "      <td>0.144103</td>\n",
       "      <td>A</td>\n",
       "      <td>-0.699089</td>\n",
       "      <td>-0.305813</td>\n",
       "      <td>3.238734</td>\n",
       "      <td>...</td>\n",
       "      <td>1.752306</td>\n",
       "      <td>-0.417635</td>\n",
       "      <td>-1.239663</td>\n",
       "      <td>-0.129752</td>\n",
       "      <td>-0.234881</td>\n",
       "      <td>-0.33763</td>\n",
       "      <td>2.524833</td>\n",
       "      <td>-0.103414</td>\n",
       "      <td>-1.385051</td>\n",
       "      <td>-0.161016</td>\n",
       "    </tr>\n",
       "    <tr>\n",
       "      <th>466315</th>\n",
       "      <td>1.101422</td>\n",
       "      <td>0.831181</td>\n",
       "      <td>1.441406</td>\n",
       "      <td>0.77352</td>\n",
       "      <td>-0.413224</td>\n",
       "      <td>-1.149844</td>\n",
       "      <td>B</td>\n",
       "      <td>-0.699089</td>\n",
       "      <td>-0.305813</td>\n",
       "      <td>3.238734</td>\n",
       "      <td>...</td>\n",
       "      <td>-0.570606</td>\n",
       "      <td>-0.417635</td>\n",
       "      <td>0.806571</td>\n",
       "      <td>-0.129752</td>\n",
       "      <td>-0.234881</td>\n",
       "      <td>-0.33763</td>\n",
       "      <td>-0.396017</td>\n",
       "      <td>-0.103414</td>\n",
       "      <td>0.721905</td>\n",
       "      <td>-0.161016</td>\n",
       "    </tr>\n",
       "    <tr>\n",
       "      <th>461735</th>\n",
       "      <td>-0.907804</td>\n",
       "      <td>0.831181</td>\n",
       "      <td>1.441406</td>\n",
       "      <td>0.77352</td>\n",
       "      <td>-0.713697</td>\n",
       "      <td>-0.502871</td>\n",
       "      <td>B</td>\n",
       "      <td>-0.699089</td>\n",
       "      <td>-0.305813</td>\n",
       "      <td>-0.308724</td>\n",
       "      <td>...</td>\n",
       "      <td>-0.570606</td>\n",
       "      <td>2.394137</td>\n",
       "      <td>-1.239663</td>\n",
       "      <td>-0.129752</td>\n",
       "      <td>-0.234881</td>\n",
       "      <td>-0.33763</td>\n",
       "      <td>-0.396017</td>\n",
       "      <td>-0.103414</td>\n",
       "      <td>0.721905</td>\n",
       "      <td>-0.161016</td>\n",
       "    </tr>\n",
       "    <tr>\n",
       "      <th>462669</th>\n",
       "      <td>1.101422</td>\n",
       "      <td>0.831181</td>\n",
       "      <td>-0.198130</td>\n",
       "      <td>0.77352</td>\n",
       "      <td>-0.713697</td>\n",
       "      <td>2.085024</td>\n",
       "      <td>A</td>\n",
       "      <td>-0.699089</td>\n",
       "      <td>-0.305813</td>\n",
       "      <td>-0.308724</td>\n",
       "      <td>...</td>\n",
       "      <td>-0.570606</td>\n",
       "      <td>2.394137</td>\n",
       "      <td>-1.239663</td>\n",
       "      <td>-0.129752</td>\n",
       "      <td>-0.234881</td>\n",
       "      <td>-0.33763</td>\n",
       "      <td>-0.396017</td>\n",
       "      <td>-0.103414</td>\n",
       "      <td>0.721905</td>\n",
       "      <td>-0.161016</td>\n",
       "    </tr>\n",
       "    <tr>\n",
       "      <th>...</th>\n",
       "      <td>...</td>\n",
       "      <td>...</td>\n",
       "      <td>...</td>\n",
       "      <td>...</td>\n",
       "      <td>...</td>\n",
       "      <td>...</td>\n",
       "      <td>...</td>\n",
       "      <td>...</td>\n",
       "      <td>...</td>\n",
       "      <td>...</td>\n",
       "      <td>...</td>\n",
       "      <td>...</td>\n",
       "      <td>...</td>\n",
       "      <td>...</td>\n",
       "      <td>...</td>\n",
       "      <td>...</td>\n",
       "      <td>...</td>\n",
       "      <td>...</td>\n",
       "      <td>...</td>\n",
       "      <td>...</td>\n",
       "      <td>...</td>\n",
       "    </tr>\n",
       "    <tr>\n",
       "      <th>464018</th>\n",
       "      <td>-0.907804</td>\n",
       "      <td>-1.202958</td>\n",
       "      <td>-1.291154</td>\n",
       "      <td>-1.29263</td>\n",
       "      <td>-0.713697</td>\n",
       "      <td>2.731998</td>\n",
       "      <td>D</td>\n",
       "      <td>1.430255</td>\n",
       "      <td>-0.305813</td>\n",
       "      <td>-0.308724</td>\n",
       "      <td>...</td>\n",
       "      <td>-0.570606</td>\n",
       "      <td>-0.417635</td>\n",
       "      <td>0.806571</td>\n",
       "      <td>7.706074</td>\n",
       "      <td>-0.234881</td>\n",
       "      <td>-0.33763</td>\n",
       "      <td>-0.396017</td>\n",
       "      <td>-0.103414</td>\n",
       "      <td>-1.385051</td>\n",
       "      <td>-0.161016</td>\n",
       "    </tr>\n",
       "    <tr>\n",
       "      <th>464685</th>\n",
       "      <td>-0.907804</td>\n",
       "      <td>-1.202958</td>\n",
       "      <td>-0.501748</td>\n",
       "      <td>-1.29263</td>\n",
       "      <td>0.187720</td>\n",
       "      <td>0.791077</td>\n",
       "      <td>D</td>\n",
       "      <td>-0.699089</td>\n",
       "      <td>-0.305813</td>\n",
       "      <td>-0.308724</td>\n",
       "      <td>...</td>\n",
       "      <td>-0.570606</td>\n",
       "      <td>-0.417635</td>\n",
       "      <td>0.806571</td>\n",
       "      <td>-0.129752</td>\n",
       "      <td>-0.234881</td>\n",
       "      <td>-0.33763</td>\n",
       "      <td>2.524833</td>\n",
       "      <td>-0.103414</td>\n",
       "      <td>-1.385051</td>\n",
       "      <td>-0.161016</td>\n",
       "    </tr>\n",
       "    <tr>\n",
       "      <th>465406</th>\n",
       "      <td>1.101422</td>\n",
       "      <td>-1.202958</td>\n",
       "      <td>-0.623195</td>\n",
       "      <td>0.77352</td>\n",
       "      <td>-0.413224</td>\n",
       "      <td>-1.149844</td>\n",
       "      <td>D</td>\n",
       "      <td>-0.699089</td>\n",
       "      <td>-0.305813</td>\n",
       "      <td>-0.308724</td>\n",
       "      <td>...</td>\n",
       "      <td>-0.570606</td>\n",
       "      <td>-0.417635</td>\n",
       "      <td>0.806571</td>\n",
       "      <td>-0.129752</td>\n",
       "      <td>-0.234881</td>\n",
       "      <td>-0.33763</td>\n",
       "      <td>-0.396017</td>\n",
       "      <td>-0.103414</td>\n",
       "      <td>0.721905</td>\n",
       "      <td>-0.161016</td>\n",
       "    </tr>\n",
       "    <tr>\n",
       "      <th>467299</th>\n",
       "      <td>1.101422</td>\n",
       "      <td>-1.202958</td>\n",
       "      <td>-0.987537</td>\n",
       "      <td>0.77352</td>\n",
       "      <td>-0.413224</td>\n",
       "      <td>0.791077</td>\n",
       "      <td>B</td>\n",
       "      <td>-0.699089</td>\n",
       "      <td>-0.305813</td>\n",
       "      <td>-0.308724</td>\n",
       "      <td>...</td>\n",
       "      <td>-0.570606</td>\n",
       "      <td>-0.417635</td>\n",
       "      <td>0.806571</td>\n",
       "      <td>-0.129752</td>\n",
       "      <td>-0.234881</td>\n",
       "      <td>-0.33763</td>\n",
       "      <td>-0.396017</td>\n",
       "      <td>-0.103414</td>\n",
       "      <td>0.721905</td>\n",
       "      <td>-0.161016</td>\n",
       "    </tr>\n",
       "    <tr>\n",
       "      <th>461879</th>\n",
       "      <td>-0.907804</td>\n",
       "      <td>0.831181</td>\n",
       "      <td>-0.380301</td>\n",
       "      <td>0.77352</td>\n",
       "      <td>-0.713697</td>\n",
       "      <td>0.144103</td>\n",
       "      <td>B</td>\n",
       "      <td>-0.699089</td>\n",
       "      <td>-0.305813</td>\n",
       "      <td>-0.308724</td>\n",
       "      <td>...</td>\n",
       "      <td>1.752306</td>\n",
       "      <td>-0.417635</td>\n",
       "      <td>-1.239663</td>\n",
       "      <td>-0.129752</td>\n",
       "      <td>-0.234881</td>\n",
       "      <td>-0.33763</td>\n",
       "      <td>2.524833</td>\n",
       "      <td>-0.103414</td>\n",
       "      <td>-1.385051</td>\n",
       "      <td>-0.161016</td>\n",
       "    </tr>\n",
       "  </tbody>\n",
       "</table>\n",
       "<p>8032 rows × 26 columns</p>\n",
       "</div>"
      ],
      "text/plain": [
       "          Gender  Ever_Married       Age  Graduated  Work_Experience  \\\n",
       "ID                                                                     \n",
       "462809 -0.907804     -1.202958 -1.291154   -1.29263        -0.413224   \n",
       "462643  1.101422      0.831181 -0.319577    0.77352        -0.713697   \n",
       "466315  1.101422      0.831181  1.441406    0.77352        -0.413224   \n",
       "461735 -0.907804      0.831181  1.441406    0.77352        -0.713697   \n",
       "462669  1.101422      0.831181 -0.198130    0.77352        -0.713697   \n",
       "...          ...           ...       ...        ...              ...   \n",
       "464018 -0.907804     -1.202958 -1.291154   -1.29263        -0.713697   \n",
       "464685 -0.907804     -1.202958 -0.501748   -1.29263         0.187720   \n",
       "465406  1.101422     -1.202958 -0.623195    0.77352        -0.413224   \n",
       "467299  1.101422     -1.202958 -0.987537    0.77352        -0.413224   \n",
       "461879 -0.907804      0.831181 -0.380301    0.77352        -0.713697   \n",
       "\n",
       "        Family_Size Segmentation    Artist    Doctor  Engineer  ...   Average  \\\n",
       "ID                                                              ...             \n",
       "462809     0.791077            D -0.699089 -0.305813 -0.308724  ... -0.570606   \n",
       "462643     0.144103            A -0.699089 -0.305813  3.238734  ...  1.752306   \n",
       "466315    -1.149844            B -0.699089 -0.305813  3.238734  ... -0.570606   \n",
       "461735    -0.502871            B -0.699089 -0.305813 -0.308724  ... -0.570606   \n",
       "462669     2.085024            A -0.699089 -0.305813 -0.308724  ... -0.570606   \n",
       "...             ...          ...       ...       ...       ...  ...       ...   \n",
       "464018     2.731998            D  1.430255 -0.305813 -0.308724  ... -0.570606   \n",
       "464685     0.791077            D -0.699089 -0.305813 -0.308724  ... -0.570606   \n",
       "465406    -1.149844            D -0.699089 -0.305813 -0.308724  ... -0.570606   \n",
       "467299     0.791077            B -0.699089 -0.305813 -0.308724  ... -0.570606   \n",
       "461879     0.144103            B -0.699089 -0.305813 -0.308724  ...  1.752306   \n",
       "\n",
       "            High       Low     Cat_1     Cat_2    Cat_3     Cat_4     Cat_5  \\\n",
       "ID                                                                            \n",
       "462809 -0.417635  0.806571 -0.129752 -0.234881 -0.33763  2.524833 -0.103414   \n",
       "462643 -0.417635 -1.239663 -0.129752 -0.234881 -0.33763  2.524833 -0.103414   \n",
       "466315 -0.417635  0.806571 -0.129752 -0.234881 -0.33763 -0.396017 -0.103414   \n",
       "461735  2.394137 -1.239663 -0.129752 -0.234881 -0.33763 -0.396017 -0.103414   \n",
       "462669  2.394137 -1.239663 -0.129752 -0.234881 -0.33763 -0.396017 -0.103414   \n",
       "...          ...       ...       ...       ...      ...       ...       ...   \n",
       "464018 -0.417635  0.806571  7.706074 -0.234881 -0.33763 -0.396017 -0.103414   \n",
       "464685 -0.417635  0.806571 -0.129752 -0.234881 -0.33763  2.524833 -0.103414   \n",
       "465406 -0.417635  0.806571 -0.129752 -0.234881 -0.33763 -0.396017 -0.103414   \n",
       "467299 -0.417635  0.806571 -0.129752 -0.234881 -0.33763 -0.396017 -0.103414   \n",
       "461879 -0.417635 -1.239663 -0.129752 -0.234881 -0.33763  2.524833 -0.103414   \n",
       "\n",
       "           Cat_6     Cat_7  \n",
       "ID                          \n",
       "462809 -1.385051 -0.161016  \n",
       "462643 -1.385051 -0.161016  \n",
       "466315  0.721905 -0.161016  \n",
       "461735  0.721905 -0.161016  \n",
       "462669  0.721905 -0.161016  \n",
       "...          ...       ...  \n",
       "464018 -1.385051 -0.161016  \n",
       "464685 -1.385051 -0.161016  \n",
       "465406  0.721905 -0.161016  \n",
       "467299  0.721905 -0.161016  \n",
       "461879 -1.385051 -0.161016  \n",
       "\n",
       "[8032 rows x 26 columns]"
      ]
     },
     "execution_count": 41,
     "metadata": {},
     "output_type": "execute_result"
    }
   ],
   "source": [
    "train_data"
   ]
  },
  {
   "cell_type": "markdown",
   "metadata": {},
   "source": [
    "<h2> Подготовка данных к использованию в моделях </h2>"
   ]
  },
  {
   "cell_type": "code",
   "execution_count": 42,
   "metadata": {},
   "outputs": [],
   "source": [
    "X = train_data.drop(['Segmentation'], axis=1)"
   ]
  },
  {
   "cell_type": "code",
   "execution_count": 43,
   "metadata": {},
   "outputs": [],
   "source": [
    "y = train_data.Segmentation"
   ]
  },
  {
   "cell_type": "markdown",
   "metadata": {},
   "source": [
    "Привожу категории к числовому виду, т.к. с числами удобнее работать"
   ]
  },
  {
   "cell_type": "code",
   "execution_count": 44,
   "metadata": {},
   "outputs": [],
   "source": [
    "mapping = {'A' : 0, 'B' : 1, 'C' : 2, 'D' : 3}"
   ]
  },
  {
   "cell_type": "code",
   "execution_count": 45,
   "metadata": {},
   "outputs": [],
   "source": [
    "y = y.map(lambda x: mapping[x])"
   ]
  },
  {
   "cell_type": "code",
   "execution_count": 46,
   "metadata": {},
   "outputs": [
    {
     "data": {
      "text/plain": [
       "ID\n",
       "462809    3\n",
       "462643    0\n",
       "466315    1\n",
       "461735    1\n",
       "462669    0\n",
       "         ..\n",
       "464018    3\n",
       "464685    3\n",
       "465406    3\n",
       "467299    1\n",
       "461879    1\n",
       "Name: Segmentation, Length: 8032, dtype: category\n",
       "Categories (4, int64): [0, 1, 2, 3]"
      ]
     },
     "execution_count": 46,
     "metadata": {},
     "output_type": "execute_result"
    }
   ],
   "source": [
    "y"
   ]
  },
  {
   "cell_type": "code",
   "execution_count": 49,
   "metadata": {},
   "outputs": [],
   "source": [
    "from sklearn.model_selection import train_test_split"
   ]
  },
  {
   "cell_type": "markdown",
   "metadata": {},
   "source": [
    "Разделяю данные на обучающую и тестовую выборки"
   ]
  },
  {
   "cell_type": "code",
   "execution_count": 50,
   "metadata": {},
   "outputs": [],
   "source": [
    "X_train, X_test, y_train, y_test = train_test_split(X, y, test_size = 0.25, random_state = 42)"
   ]
  },
  {
   "cell_type": "markdown",
   "metadata": {},
   "source": [
    "<h2> KNN </h2>"
   ]
  },
  {
   "cell_type": "markdown",
   "metadata": {},
   "source": [
    "Для данной задачи хорошо подходит KNN, т.к. это задача классификации"
   ]
  },
  {
   "cell_type": "code",
   "execution_count": 135,
   "metadata": {},
   "outputs": [
    {
     "data": {
      "text/plain": [
       "KNeighborsClassifier(algorithm='auto', leaf_size=30, metric='minkowski',\n",
       "                     metric_params=None, n_jobs=None, n_neighbors=5, p=2,\n",
       "                     weights='uniform')"
      ]
     },
     "execution_count": 135,
     "metadata": {},
     "output_type": "execute_result"
    }
   ],
   "source": [
    "from sklearn.neighbors import KNeighborsClassifier\n",
    "\n",
    "lr_model = KNeighborsClassifier()\n",
    "lr_model.fit(X_train, y_train)"
   ]
  },
  {
   "cell_type": "code",
   "execution_count": 136,
   "metadata": {},
   "outputs": [],
   "source": [
    "y_train_predict = lr_model.predict(X_train)\n",
    "y_test_predict  = lr_model.predict(X_test)"
   ]
  },
  {
   "cell_type": "code",
   "execution_count": 137,
   "metadata": {},
   "outputs": [
    {
     "name": "stdout",
     "output_type": "stream",
     "text": [
      "MSE train : 1.2114873837981408, MSE test: 1.831175298804781\n",
      "accuracy train: 0.6391102257636122, accuracy test: 0.4636454183266932\n"
     ]
    }
   ],
   "source": [
    "from sklearn.metrics import mean_squared_error, r2_score, accuracy_score\n",
    "\n",
    "MSE_train = mean_squared_error(y_train, y_train_predict)\n",
    "MSE_test  = mean_squared_error(y_test,  y_test_predict)\n",
    "accuracy_train =  accuracy_score(y_train,  y_train_predict)\n",
    "accuracy_test =  accuracy_score(y_test,  y_test_predict)\n",
    "R2_train = r2_score(y_train, y_train_predict)\n",
    "R2_test  = r2_score(y_test,  y_test_predict)\n",
    "\n",
    "print(\"MSE train : {}, MSE test: {}\".format(MSE_train, MSE_test))\n",
    "print(\"accuracy train: {}, accuracy test: {}\".format(accuracy_train, accuracy_test))"
   ]
  },
  {
   "cell_type": "markdown",
   "metadata": {},
   "source": [
    "<h2> Ridge Classifier </h2>"
   ]
  },
  {
   "cell_type": "code",
   "execution_count": 138,
   "metadata": {},
   "outputs": [],
   "source": [
    "from sklearn.linear_model import RidgeClassifier"
   ]
  },
  {
   "cell_type": "code",
   "execution_count": 139,
   "metadata": {},
   "outputs": [
    {
     "data": {
      "text/plain": [
       "RidgeClassifier(alpha=1.0, class_weight=None, copy_X=True, fit_intercept=True,\n",
       "                max_iter=None, normalize=False, random_state=None,\n",
       "                solver='auto', tol=0.001)"
      ]
     },
     "execution_count": 139,
     "metadata": {},
     "output_type": "execute_result"
    }
   ],
   "source": [
    "lr_model = RidgeClassifier()\n",
    "lr_model.fit(X_train, y_train)"
   ]
  },
  {
   "cell_type": "code",
   "execution_count": 140,
   "metadata": {},
   "outputs": [],
   "source": [
    "y_train_predict = lr_model.predict(X_train)\n",
    "y_test_predict  = lr_model.predict(X_test)"
   ]
  },
  {
   "cell_type": "code",
   "execution_count": 141,
   "metadata": {},
   "outputs": [
    {
     "name": "stdout",
     "output_type": "stream",
     "text": [
      "MSE train : 1.718625498007968, MSE test: 1.8247011952191234\n",
      "accuracy train: 0.5043160690571049, accuracy test: 0.5089641434262948\n"
     ]
    }
   ],
   "source": [
    "from sklearn.metrics import mean_squared_error, r2_score, accuracy_score\n",
    "\n",
    "MSE_train = mean_squared_error(y_train, y_train_predict)\n",
    "MSE_test  = mean_squared_error(y_test,  y_test_predict)\n",
    "accuracy_train =  accuracy_score(y_train,  y_train_predict)\n",
    "accuracy_test =  accuracy_score(y_test,  y_test_predict)\n",
    "R2_train = r2_score(y_train, y_train_predict)\n",
    "R2_test  = r2_score(y_test,  y_test_predict)\n",
    "\n",
    "print(\"MSE train : {}, MSE test: {}\".format(MSE_train, MSE_test))\n",
    "print(\"accuracy train: {}, accuracy test: {}\".format(accuracy_train, accuracy_test))"
   ]
  },
  {
   "cell_type": "markdown",
   "metadata": {},
   "source": [
    "<h2> Выводы </h2>"
   ]
  },
  {
   "cell_type": "markdown",
   "metadata": {},
   "source": [
    "KNN хорошо справился с классификацией по данным признакам. Лейблы +- сбалансированные, поэтому взвешивать их не имеет особого смысла."
   ]
  },
  {
   "cell_type": "markdown",
   "metadata": {},
   "source": [
    "<h1> Лабораторная работа 2: Principal component analysis </h1>"
   ]
  },
  {
   "cell_type": "markdown",
   "metadata": {},
   "source": [
    "И так, у нас есть обработанные признаки и соответствующие им метки."
   ]
  },
  {
   "cell_type": "code",
   "execution_count": 55,
   "metadata": {},
   "outputs": [
    {
     "data": {
      "text/html": [
       "<div>\n",
       "<style scoped>\n",
       "    .dataframe tbody tr th:only-of-type {\n",
       "        vertical-align: middle;\n",
       "    }\n",
       "\n",
       "    .dataframe tbody tr th {\n",
       "        vertical-align: top;\n",
       "    }\n",
       "\n",
       "    .dataframe thead th {\n",
       "        text-align: right;\n",
       "    }\n",
       "</style>\n",
       "<table border=\"1\" class=\"dataframe\">\n",
       "  <thead>\n",
       "    <tr style=\"text-align: right;\">\n",
       "      <th></th>\n",
       "      <th>Gender</th>\n",
       "      <th>Ever_Married</th>\n",
       "      <th>Age</th>\n",
       "      <th>Graduated</th>\n",
       "      <th>Work_Experience</th>\n",
       "      <th>Family_Size</th>\n",
       "      <th>Artist</th>\n",
       "      <th>Doctor</th>\n",
       "      <th>Engineer</th>\n",
       "      <th>Entertainment</th>\n",
       "      <th>...</th>\n",
       "      <th>Average</th>\n",
       "      <th>High</th>\n",
       "      <th>Low</th>\n",
       "      <th>Cat_1</th>\n",
       "      <th>Cat_2</th>\n",
       "      <th>Cat_3</th>\n",
       "      <th>Cat_4</th>\n",
       "      <th>Cat_5</th>\n",
       "      <th>Cat_6</th>\n",
       "      <th>Cat_7</th>\n",
       "    </tr>\n",
       "    <tr>\n",
       "      <th>ID</th>\n",
       "      <th></th>\n",
       "      <th></th>\n",
       "      <th></th>\n",
       "      <th></th>\n",
       "      <th></th>\n",
       "      <th></th>\n",
       "      <th></th>\n",
       "      <th></th>\n",
       "      <th></th>\n",
       "      <th></th>\n",
       "      <th></th>\n",
       "      <th></th>\n",
       "      <th></th>\n",
       "      <th></th>\n",
       "      <th></th>\n",
       "      <th></th>\n",
       "      <th></th>\n",
       "      <th></th>\n",
       "      <th></th>\n",
       "      <th></th>\n",
       "      <th></th>\n",
       "    </tr>\n",
       "  </thead>\n",
       "  <tbody>\n",
       "    <tr>\n",
       "      <th>462809</th>\n",
       "      <td>-0.907804</td>\n",
       "      <td>-1.202958</td>\n",
       "      <td>-1.291154</td>\n",
       "      <td>-1.29263</td>\n",
       "      <td>-0.413224</td>\n",
       "      <td>0.791077</td>\n",
       "      <td>-0.699089</td>\n",
       "      <td>-0.305813</td>\n",
       "      <td>-0.308724</td>\n",
       "      <td>-0.365795</td>\n",
       "      <td>...</td>\n",
       "      <td>-0.570606</td>\n",
       "      <td>-0.417635</td>\n",
       "      <td>0.806571</td>\n",
       "      <td>-0.129752</td>\n",
       "      <td>-0.234881</td>\n",
       "      <td>-0.33763</td>\n",
       "      <td>2.524833</td>\n",
       "      <td>-0.103414</td>\n",
       "      <td>-1.385051</td>\n",
       "      <td>-0.161016</td>\n",
       "    </tr>\n",
       "    <tr>\n",
       "      <th>462643</th>\n",
       "      <td>1.101422</td>\n",
       "      <td>0.831181</td>\n",
       "      <td>-0.319577</td>\n",
       "      <td>0.77352</td>\n",
       "      <td>-0.713697</td>\n",
       "      <td>0.144103</td>\n",
       "      <td>-0.699089</td>\n",
       "      <td>-0.305813</td>\n",
       "      <td>3.238734</td>\n",
       "      <td>-0.365795</td>\n",
       "      <td>...</td>\n",
       "      <td>1.752306</td>\n",
       "      <td>-0.417635</td>\n",
       "      <td>-1.239663</td>\n",
       "      <td>-0.129752</td>\n",
       "      <td>-0.234881</td>\n",
       "      <td>-0.33763</td>\n",
       "      <td>2.524833</td>\n",
       "      <td>-0.103414</td>\n",
       "      <td>-1.385051</td>\n",
       "      <td>-0.161016</td>\n",
       "    </tr>\n",
       "    <tr>\n",
       "      <th>466315</th>\n",
       "      <td>1.101422</td>\n",
       "      <td>0.831181</td>\n",
       "      <td>1.441406</td>\n",
       "      <td>0.77352</td>\n",
       "      <td>-0.413224</td>\n",
       "      <td>-1.149844</td>\n",
       "      <td>-0.699089</td>\n",
       "      <td>-0.305813</td>\n",
       "      <td>3.238734</td>\n",
       "      <td>-0.365795</td>\n",
       "      <td>...</td>\n",
       "      <td>-0.570606</td>\n",
       "      <td>-0.417635</td>\n",
       "      <td>0.806571</td>\n",
       "      <td>-0.129752</td>\n",
       "      <td>-0.234881</td>\n",
       "      <td>-0.33763</td>\n",
       "      <td>-0.396017</td>\n",
       "      <td>-0.103414</td>\n",
       "      <td>0.721905</td>\n",
       "      <td>-0.161016</td>\n",
       "    </tr>\n",
       "  </tbody>\n",
       "</table>\n",
       "<p>3 rows × 25 columns</p>\n",
       "</div>"
      ],
      "text/plain": [
       "          Gender  Ever_Married       Age  Graduated  Work_Experience  \\\n",
       "ID                                                                     \n",
       "462809 -0.907804     -1.202958 -1.291154   -1.29263        -0.413224   \n",
       "462643  1.101422      0.831181 -0.319577    0.77352        -0.713697   \n",
       "466315  1.101422      0.831181  1.441406    0.77352        -0.413224   \n",
       "\n",
       "        Family_Size    Artist    Doctor  Engineer  Entertainment  ...  \\\n",
       "ID                                                                ...   \n",
       "462809     0.791077 -0.699089 -0.305813 -0.308724      -0.365795  ...   \n",
       "462643     0.144103 -0.699089 -0.305813  3.238734      -0.365795  ...   \n",
       "466315    -1.149844 -0.699089 -0.305813  3.238734      -0.365795  ...   \n",
       "\n",
       "         Average      High       Low     Cat_1     Cat_2    Cat_3     Cat_4  \\\n",
       "ID                                                                            \n",
       "462809 -0.570606 -0.417635  0.806571 -0.129752 -0.234881 -0.33763  2.524833   \n",
       "462643  1.752306 -0.417635 -1.239663 -0.129752 -0.234881 -0.33763  2.524833   \n",
       "466315 -0.570606 -0.417635  0.806571 -0.129752 -0.234881 -0.33763 -0.396017   \n",
       "\n",
       "           Cat_5     Cat_6     Cat_7  \n",
       "ID                                    \n",
       "462809 -0.103414 -1.385051 -0.161016  \n",
       "462643 -0.103414 -1.385051 -0.161016  \n",
       "466315 -0.103414  0.721905 -0.161016  \n",
       "\n",
       "[3 rows x 25 columns]"
      ]
     },
     "execution_count": 55,
     "metadata": {},
     "output_type": "execute_result"
    }
   ],
   "source": [
    "X.head(3)"
   ]
  },
  {
   "cell_type": "markdown",
   "metadata": {},
   "source": [
    "Применим алгоритм PCA к данным, чтобы сократить размерность и получить признаки, которые приведут к меньшей ошибки классификатора. Для начала возьмем 2 компоненты."
   ]
  },
  {
   "cell_type": "code",
   "execution_count": 56,
   "metadata": {},
   "outputs": [],
   "source": [
    "from sklearn.decomposition import PCA"
   ]
  },
  {
   "cell_type": "code",
   "execution_count": 57,
   "metadata": {},
   "outputs": [],
   "source": [
    "pca = PCA(n_components=2)"
   ]
  },
  {
   "cell_type": "code",
   "execution_count": 60,
   "metadata": {},
   "outputs": [],
   "source": [
    "X_pca = pca.fit_transform(X)"
   ]
  },
  {
   "cell_type": "code",
   "execution_count": 62,
   "metadata": {},
   "outputs": [
    {
     "data": {
      "text/plain": [
       "((8032, 2), (8032, 25))"
      ]
     },
     "execution_count": 62,
     "metadata": {},
     "output_type": "execute_result"
    }
   ],
   "source": [
    "X_pca.shape, X.shape"
   ]
  },
  {
   "cell_type": "markdown",
   "metadata": {},
   "source": [
    "Мы получили те же 8032 наблюдения, но признаков в них уже не 25, а 2 самых информативных. Попробуем обучить классификатор SVM на полученных признаках."
   ]
  },
  {
   "cell_type": "code",
   "execution_count": 65,
   "metadata": {},
   "outputs": [],
   "source": [
    "from sklearn.svm import SVC"
   ]
  },
  {
   "cell_type": "markdown",
   "metadata": {},
   "source": [
    "Разобьем данные на train и test выборку"
   ]
  },
  {
   "cell_type": "code",
   "execution_count": 70,
   "metadata": {},
   "outputs": [],
   "source": [
    "X_train, X_test, y_train, y_test = train_test_split(X_pca, y, test_size = 0.25, random_state = 42)"
   ]
  },
  {
   "cell_type": "code",
   "execution_count": 71,
   "metadata": {},
   "outputs": [],
   "source": [
    "svm = SVC()"
   ]
  },
  {
   "cell_type": "code",
   "execution_count": 72,
   "metadata": {},
   "outputs": [
    {
     "data": {
      "text/plain": [
       "SVC()"
      ]
     },
     "execution_count": 72,
     "metadata": {},
     "output_type": "execute_result"
    }
   ],
   "source": [
    "svm.fit(X_train, y_train)"
   ]
  },
  {
   "cell_type": "code",
   "execution_count": 74,
   "metadata": {},
   "outputs": [
    {
     "name": "stdout",
     "output_type": "stream",
     "text": [
      "Train accuracy: 0.48788180610889775. Test accuracy: 0.5004980079681275\n"
     ]
    }
   ],
   "source": [
    "print(\"Train accuracy: {}. Test accuracy: {}\".format(svm.score(X_train, y_train), svm.score(X_test, y_test)))"
   ]
  },
  {
   "cell_type": "markdown",
   "metadata": {},
   "source": [
    "А теперь я буду изменять к-во главных компонент, обучать SVM и выводить точность"
   ]
  },
  {
   "cell_type": "code",
   "execution_count": 87,
   "metadata": {},
   "outputs": [],
   "source": [
    "results = pd.DataFrame(columns = [\"Components\", \"Train_acc\", \"Test_acc\"])\n",
    "# results = results.set_index(\"Components\")"
   ]
  },
  {
   "cell_type": "code",
   "execution_count": 92,
   "metadata": {},
   "outputs": [],
   "source": [
    "for n_comp in range(1, 25):\n",
    "    pca = PCA(n_components=n_comp)\n",
    "    X_pca = pca.fit_transform(X)\n",
    "    X_train, X_test, y_train, y_test = train_test_split(X_pca, y, test_size = 0.25, random_state = 42)\n",
    "    svm = SVC()\n",
    "    svm.fit(X_train, y_train)\n",
    "    comp_result = {\"Components\": n_comp, \"Train_acc\" : svm.score(X_train, y_train), \"Test_acc\" : svm.score(X_test, y_test)}\n",
    "    results = results.append(comp_result, ignore_index=True)"
   ]
  },
  {
   "cell_type": "code",
   "execution_count": 93,
   "metadata": {},
   "outputs": [
    {
     "data": {
      "text/html": [
       "<div>\n",
       "<style scoped>\n",
       "    .dataframe tbody tr th:only-of-type {\n",
       "        vertical-align: middle;\n",
       "    }\n",
       "\n",
       "    .dataframe tbody tr th {\n",
       "        vertical-align: top;\n",
       "    }\n",
       "\n",
       "    .dataframe thead th {\n",
       "        text-align: right;\n",
       "    }\n",
       "</style>\n",
       "<table border=\"1\" class=\"dataframe\">\n",
       "  <thead>\n",
       "    <tr style=\"text-align: right;\">\n",
       "      <th></th>\n",
       "      <th>Components</th>\n",
       "      <th>Train_acc</th>\n",
       "      <th>Test_acc</th>\n",
       "    </tr>\n",
       "  </thead>\n",
       "  <tbody>\n",
       "    <tr>\n",
       "      <th>0</th>\n",
       "      <td>1.0</td>\n",
       "      <td>0.472278</td>\n",
       "      <td>0.488048</td>\n",
       "    </tr>\n",
       "    <tr>\n",
       "      <th>1</th>\n",
       "      <td>2.0</td>\n",
       "      <td>0.486388</td>\n",
       "      <td>0.500996</td>\n",
       "    </tr>\n",
       "    <tr>\n",
       "      <th>2</th>\n",
       "      <td>3.0</td>\n",
       "      <td>0.505644</td>\n",
       "      <td>0.508964</td>\n",
       "    </tr>\n",
       "    <tr>\n",
       "      <th>3</th>\n",
       "      <td>4.0</td>\n",
       "      <td>0.514442</td>\n",
       "      <td>0.512450</td>\n",
       "    </tr>\n",
       "    <tr>\n",
       "      <th>4</th>\n",
       "      <td>5.0</td>\n",
       "      <td>0.523074</td>\n",
       "      <td>0.519920</td>\n",
       "    </tr>\n",
       "    <tr>\n",
       "      <th>5</th>\n",
       "      <td>6.0</td>\n",
       "      <td>0.534197</td>\n",
       "      <td>0.523904</td>\n",
       "    </tr>\n",
       "    <tr>\n",
       "      <th>6</th>\n",
       "      <td>7.0</td>\n",
       "      <td>0.541501</td>\n",
       "      <td>0.523904</td>\n",
       "    </tr>\n",
       "    <tr>\n",
       "      <th>7</th>\n",
       "      <td>8.0</td>\n",
       "      <td>0.546149</td>\n",
       "      <td>0.526892</td>\n",
       "    </tr>\n",
       "    <tr>\n",
       "      <th>8</th>\n",
       "      <td>9.0</td>\n",
       "      <td>0.548639</td>\n",
       "      <td>0.526394</td>\n",
       "    </tr>\n",
       "    <tr>\n",
       "      <th>9</th>\n",
       "      <td>10.0</td>\n",
       "      <td>0.550299</td>\n",
       "      <td>0.518924</td>\n",
       "    </tr>\n",
       "    <tr>\n",
       "      <th>10</th>\n",
       "      <td>11.0</td>\n",
       "      <td>0.549635</td>\n",
       "      <td>0.514940</td>\n",
       "    </tr>\n",
       "    <tr>\n",
       "      <th>11</th>\n",
       "      <td>12.0</td>\n",
       "      <td>0.550797</td>\n",
       "      <td>0.511454</td>\n",
       "    </tr>\n",
       "    <tr>\n",
       "      <th>12</th>\n",
       "      <td>13.0</td>\n",
       "      <td>0.550465</td>\n",
       "      <td>0.506474</td>\n",
       "    </tr>\n",
       "    <tr>\n",
       "      <th>13</th>\n",
       "      <td>14.0</td>\n",
       "      <td>0.547809</td>\n",
       "      <td>0.507968</td>\n",
       "    </tr>\n",
       "    <tr>\n",
       "      <th>14</th>\n",
       "      <td>15.0</td>\n",
       "      <td>0.548473</td>\n",
       "      <td>0.509960</td>\n",
       "    </tr>\n",
       "    <tr>\n",
       "      <th>15</th>\n",
       "      <td>16.0</td>\n",
       "      <td>0.550963</td>\n",
       "      <td>0.512450</td>\n",
       "    </tr>\n",
       "    <tr>\n",
       "      <th>16</th>\n",
       "      <td>17.0</td>\n",
       "      <td>0.556441</td>\n",
       "      <td>0.515936</td>\n",
       "    </tr>\n",
       "    <tr>\n",
       "      <th>17</th>\n",
       "      <td>18.0</td>\n",
       "      <td>0.558433</td>\n",
       "      <td>0.513944</td>\n",
       "    </tr>\n",
       "    <tr>\n",
       "      <th>18</th>\n",
       "      <td>19.0</td>\n",
       "      <td>0.563081</td>\n",
       "      <td>0.515438</td>\n",
       "    </tr>\n",
       "    <tr>\n",
       "      <th>19</th>\n",
       "      <td>20.0</td>\n",
       "      <td>0.567397</td>\n",
       "      <td>0.514940</td>\n",
       "    </tr>\n",
       "    <tr>\n",
       "      <th>20</th>\n",
       "      <td>21.0</td>\n",
       "      <td>0.572875</td>\n",
       "      <td>0.519920</td>\n",
       "    </tr>\n",
       "    <tr>\n",
       "      <th>21</th>\n",
       "      <td>22.0</td>\n",
       "      <td>0.574535</td>\n",
       "      <td>0.522908</td>\n",
       "    </tr>\n",
       "    <tr>\n",
       "      <th>22</th>\n",
       "      <td>23.0</td>\n",
       "      <td>0.574535</td>\n",
       "      <td>0.522908</td>\n",
       "    </tr>\n",
       "    <tr>\n",
       "      <th>23</th>\n",
       "      <td>24.0</td>\n",
       "      <td>0.574535</td>\n",
       "      <td>0.522908</td>\n",
       "    </tr>\n",
       "  </tbody>\n",
       "</table>\n",
       "</div>"
      ],
      "text/plain": [
       "    Components  Train_acc  Test_acc\n",
       "0          1.0   0.472278  0.488048\n",
       "1          2.0   0.486388  0.500996\n",
       "2          3.0   0.505644  0.508964\n",
       "3          4.0   0.514442  0.512450\n",
       "4          5.0   0.523074  0.519920\n",
       "5          6.0   0.534197  0.523904\n",
       "6          7.0   0.541501  0.523904\n",
       "7          8.0   0.546149  0.526892\n",
       "8          9.0   0.548639  0.526394\n",
       "9         10.0   0.550299  0.518924\n",
       "10        11.0   0.549635  0.514940\n",
       "11        12.0   0.550797  0.511454\n",
       "12        13.0   0.550465  0.506474\n",
       "13        14.0   0.547809  0.507968\n",
       "14        15.0   0.548473  0.509960\n",
       "15        16.0   0.550963  0.512450\n",
       "16        17.0   0.556441  0.515936\n",
       "17        18.0   0.558433  0.513944\n",
       "18        19.0   0.563081  0.515438\n",
       "19        20.0   0.567397  0.514940\n",
       "20        21.0   0.572875  0.519920\n",
       "21        22.0   0.574535  0.522908\n",
       "22        23.0   0.574535  0.522908\n",
       "23        24.0   0.574535  0.522908"
      ]
     },
     "execution_count": 93,
     "metadata": {},
     "output_type": "execute_result"
    }
   ],
   "source": [
    "results"
   ]
  },
  {
   "cell_type": "code",
   "execution_count": 109,
   "metadata": {},
   "outputs": [],
   "source": [
    "import matplotlib.pyplot as plt"
   ]
  },
  {
   "cell_type": "code",
   "execution_count": 114,
   "metadata": {},
   "outputs": [
    {
     "data": {
      "image/png": "[encoded data removed]",
      "text/plain": [
       "<Figure size 432x288 with 1 Axes>"
      ]
     },
     "metadata": {
      "needs_background": "light"
     },
     "output_type": "display_data"
    }
   ],
   "source": [
    "plt.plot(results.Components, results.Train_acc, label=\"Train\")\n",
    "plt.plot(results.Components, results.Test_acc, label = \"Test\")\n",
    "plt.ylabel('Accuracy')\n",
    "plt.legend()\n",
    "plt.show()"
   ]
  },
  {
   "cell_type": "markdown",
   "metadata": {},
   "source": [
    "На графике видно, что если к-во компонент > 5, то классификатор начинает переобучаться. Лучшее значение на тренировочном сете при к-ву компонент = 9, поэтому можно взять его как конечное и принять незначительное переобучение как необходимость."
   ]
  },
  {
   "cell_type": "markdown",
   "metadata": {},
   "source": [
    "<b>Вывод</b>: PCA действительно хорошо работает для сжатия размерности и борьбы с переобучением. Так же плюс алоритма в том, что он помог снизить ошибку на тестовой выборке."
   ]
  },
  {
   "cell_type": "code",
   "execution_count": null,
   "metadata": {},
   "outputs": [],
   "source": []
  }
 ],
 "metadata": {
  "kernelspec": {
   "display_name": "Python 3",
   "language": "python",
   "name": "python3"
  },
  "language_info": {
   "codemirror_mode": {
    "name": "ipython",
    "version": 3
   },
   "file_extension": ".py",
   "mimetype": "text/x-python",
   "name": "python",
   "nbconvert_exporter": "python",
   "pygments_lexer": "ipython3",
   "version": "3.8.1"
  }
 },
 "nbformat": 4,
 "nbformat_minor": 2
}
